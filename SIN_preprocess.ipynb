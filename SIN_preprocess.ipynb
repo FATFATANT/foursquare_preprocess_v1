{
 "cells": [
  {
   "cell_type": "code",
   "execution_count": 63,
   "metadata": {
    "collapsed": true
   },
   "outputs": [],
   "source": [
    "import pandas as pd\n",
    "import math\n",
    "import numpy as np\n",
    "from sklearn.cluster import DBSCAN"
   ]
  },
  {
   "cell_type": "code",
   "execution_count": 64,
   "outputs": [
    {
     "data": {
      "text/plain": "                      business_id   latitude   longitude           cat_name  \\\n0        3fd66200f964a52000e71ee3  40.733596  -74.003139          Jazz Club   \n1        3fd66200f964a52000e81ee3  40.758102  -73.975734                Gym   \n2        3fd66200f964a52000ea1ee3  40.732456  -74.003755  Indian Restaurant   \n3        3fd66200f964a52000ec1ee3  42.345907  -71.087001  Indian Restaurant   \n4        3fd66200f964a52000ee1ee3  39.933178  -75.159262     Sandwich Place   \n...                           ...        ...         ...                ...   \n3680121  5237865c498e89110c1d03e7  40.154444   26.410847        Comedy Club   \n3680122  5237867411d2a1e910744c81  35.340099   33.309328     Home (private)   \n3680123  5237879111d216bab10e9e09  -1.404065  -48.453742     Home (private)   \n3680124  52378c24498ea9502baf2716   3.425155  -76.545010     Sandwich Place   \n3680125  5237920a11d2173b20b50d4b  -6.129426  106.650974              Plane   \n\n        country  \n0            US  \n1            US  \n2            US  \n3            US  \n4            US  \n...         ...  \n3680121      TR  \n3680122      CY  \n3680123      BR  \n3680124      CO  \n3680125      ID  \n\n[3680126 rows x 5 columns]",
      "text/html": "<div>\n<style scoped>\n    .dataframe tbody tr th:only-of-type {\n        vertical-align: middle;\n    }\n\n    .dataframe tbody tr th {\n        vertical-align: top;\n    }\n\n    .dataframe thead th {\n        text-align: right;\n    }\n</style>\n<table border=\"1\" class=\"dataframe\">\n  <thead>\n    <tr style=\"text-align: right;\">\n      <th></th>\n      <th>business_id</th>\n      <th>latitude</th>\n      <th>longitude</th>\n      <th>cat_name</th>\n      <th>country</th>\n    </tr>\n  </thead>\n  <tbody>\n    <tr>\n      <th>0</th>\n      <td>3fd66200f964a52000e71ee3</td>\n      <td>40.733596</td>\n      <td>-74.003139</td>\n      <td>Jazz Club</td>\n      <td>US</td>\n    </tr>\n    <tr>\n      <th>1</th>\n      <td>3fd66200f964a52000e81ee3</td>\n      <td>40.758102</td>\n      <td>-73.975734</td>\n      <td>Gym</td>\n      <td>US</td>\n    </tr>\n    <tr>\n      <th>2</th>\n      <td>3fd66200f964a52000ea1ee3</td>\n      <td>40.732456</td>\n      <td>-74.003755</td>\n      <td>Indian Restaurant</td>\n      <td>US</td>\n    </tr>\n    <tr>\n      <th>3</th>\n      <td>3fd66200f964a52000ec1ee3</td>\n      <td>42.345907</td>\n      <td>-71.087001</td>\n      <td>Indian Restaurant</td>\n      <td>US</td>\n    </tr>\n    <tr>\n      <th>4</th>\n      <td>3fd66200f964a52000ee1ee3</td>\n      <td>39.933178</td>\n      <td>-75.159262</td>\n      <td>Sandwich Place</td>\n      <td>US</td>\n    </tr>\n    <tr>\n      <th>...</th>\n      <td>...</td>\n      <td>...</td>\n      <td>...</td>\n      <td>...</td>\n      <td>...</td>\n    </tr>\n    <tr>\n      <th>3680121</th>\n      <td>5237865c498e89110c1d03e7</td>\n      <td>40.154444</td>\n      <td>26.410847</td>\n      <td>Comedy Club</td>\n      <td>TR</td>\n    </tr>\n    <tr>\n      <th>3680122</th>\n      <td>5237867411d2a1e910744c81</td>\n      <td>35.340099</td>\n      <td>33.309328</td>\n      <td>Home (private)</td>\n      <td>CY</td>\n    </tr>\n    <tr>\n      <th>3680123</th>\n      <td>5237879111d216bab10e9e09</td>\n      <td>-1.404065</td>\n      <td>-48.453742</td>\n      <td>Home (private)</td>\n      <td>BR</td>\n    </tr>\n    <tr>\n      <th>3680124</th>\n      <td>52378c24498ea9502baf2716</td>\n      <td>3.425155</td>\n      <td>-76.545010</td>\n      <td>Sandwich Place</td>\n      <td>CO</td>\n    </tr>\n    <tr>\n      <th>3680125</th>\n      <td>5237920a11d2173b20b50d4b</td>\n      <td>-6.129426</td>\n      <td>106.650974</td>\n      <td>Plane</td>\n      <td>ID</td>\n    </tr>\n  </tbody>\n</table>\n<p>3680126 rows × 5 columns</p>\n</div>"
     },
     "execution_count": 64,
     "metadata": {},
     "output_type": "execute_result"
    }
   ],
   "source": [
    "pois = pd.read_csv('data/SIN/dataset_TIST2015_POIs.txt', sep='\\t', header=None, names=['business_id', 'latitude', 'longitude', 'cat_name', 'country'])\n",
    "pois"
   ],
   "metadata": {
    "collapsed": false
   }
  },
  {
   "cell_type": "code",
   "execution_count": 65,
   "outputs": [
    {
     "data": {
      "text/plain": "                      business_id  latitude   longitude             cat_name  \\\n22795    4a5eb95bf964a52019bf1fe3  1.335005  103.964682               Office   \n22805    4a5f059ff964a52031bf1fe3  1.302169  103.849513                Hotel   \n25797    4a73e804f964a52099dd1fe3  1.281391  103.844348               Temple   \n43693    4ac7f7f1f964a520e9ba20e3  1.279386  103.840514                Hotel   \n43727    4ac8148ff964a5208bbb20e3  1.282644  103.845286               Temple   \n...                           ...       ...         ...                  ...   \n3678975  52327343498e57557d71c8a3  1.334814  103.887406      Campaign Office   \n3679031  5232de3311d2849884484960  1.323134  103.873704  Housing Development   \n3679392  52348bac11d2f5222d094397  1.329494  103.889506                  Bar   \n3679400  52348ec311d2a8886f1f3ccd  1.329494  103.889506            Nightclub   \n3679752  5235e16b11d288ce4b471bc0  1.323393  103.868234  Housing Development   \n\n        country  \n22795        SG  \n22805        SG  \n25797        SG  \n43693        SG  \n43727        SG  \n...         ...  \n3678975      SG  \n3679031      SG  \n3679392      SG  \n3679400      SG  \n3679752      SG  \n\n[33892 rows x 5 columns]",
      "text/html": "<div>\n<style scoped>\n    .dataframe tbody tr th:only-of-type {\n        vertical-align: middle;\n    }\n\n    .dataframe tbody tr th {\n        vertical-align: top;\n    }\n\n    .dataframe thead th {\n        text-align: right;\n    }\n</style>\n<table border=\"1\" class=\"dataframe\">\n  <thead>\n    <tr style=\"text-align: right;\">\n      <th></th>\n      <th>business_id</th>\n      <th>latitude</th>\n      <th>longitude</th>\n      <th>cat_name</th>\n      <th>country</th>\n    </tr>\n  </thead>\n  <tbody>\n    <tr>\n      <th>22795</th>\n      <td>4a5eb95bf964a52019bf1fe3</td>\n      <td>1.335005</td>\n      <td>103.964682</td>\n      <td>Office</td>\n      <td>SG</td>\n    </tr>\n    <tr>\n      <th>22805</th>\n      <td>4a5f059ff964a52031bf1fe3</td>\n      <td>1.302169</td>\n      <td>103.849513</td>\n      <td>Hotel</td>\n      <td>SG</td>\n    </tr>\n    <tr>\n      <th>25797</th>\n      <td>4a73e804f964a52099dd1fe3</td>\n      <td>1.281391</td>\n      <td>103.844348</td>\n      <td>Temple</td>\n      <td>SG</td>\n    </tr>\n    <tr>\n      <th>43693</th>\n      <td>4ac7f7f1f964a520e9ba20e3</td>\n      <td>1.279386</td>\n      <td>103.840514</td>\n      <td>Hotel</td>\n      <td>SG</td>\n    </tr>\n    <tr>\n      <th>43727</th>\n      <td>4ac8148ff964a5208bbb20e3</td>\n      <td>1.282644</td>\n      <td>103.845286</td>\n      <td>Temple</td>\n      <td>SG</td>\n    </tr>\n    <tr>\n      <th>...</th>\n      <td>...</td>\n      <td>...</td>\n      <td>...</td>\n      <td>...</td>\n      <td>...</td>\n    </tr>\n    <tr>\n      <th>3678975</th>\n      <td>52327343498e57557d71c8a3</td>\n      <td>1.334814</td>\n      <td>103.887406</td>\n      <td>Campaign Office</td>\n      <td>SG</td>\n    </tr>\n    <tr>\n      <th>3679031</th>\n      <td>5232de3311d2849884484960</td>\n      <td>1.323134</td>\n      <td>103.873704</td>\n      <td>Housing Development</td>\n      <td>SG</td>\n    </tr>\n    <tr>\n      <th>3679392</th>\n      <td>52348bac11d2f5222d094397</td>\n      <td>1.329494</td>\n      <td>103.889506</td>\n      <td>Bar</td>\n      <td>SG</td>\n    </tr>\n    <tr>\n      <th>3679400</th>\n      <td>52348ec311d2a8886f1f3ccd</td>\n      <td>1.329494</td>\n      <td>103.889506</td>\n      <td>Nightclub</td>\n      <td>SG</td>\n    </tr>\n    <tr>\n      <th>3679752</th>\n      <td>5235e16b11d288ce4b471bc0</td>\n      <td>1.323393</td>\n      <td>103.868234</td>\n      <td>Housing Development</td>\n      <td>SG</td>\n    </tr>\n  </tbody>\n</table>\n<p>33892 rows × 5 columns</p>\n</div>"
     },
     "execution_count": 65,
     "metadata": {},
     "output_type": "execute_result"
    }
   ],
   "source": [
    "pois = pois[pois['country']=='SG']\n",
    "pois"
   ],
   "metadata": {
    "collapsed": false
   }
  },
  {
   "cell_type": "code",
   "execution_count": 66,
   "outputs": [
    {
     "data": {
      "text/plain": "array(['4b05880bf964a52005ae22e3', '4b05880cf964a52012ae22e3',\n       '4b058814f964a52060b022e3', '4b060679f964a520b1e722e3',\n       '4b0606cef964a520b4e722e3', '4b07e728f964a520ef0023e3',\n       '4b08ac7df964a520951023e3', '4b08bff5f964a520cf1123e3',\n       '4b0a0deaf964a5205e2123e3', '4b0a0e8df964a520602123e3',\n       '4b0b5d47f964a520dc3023e3', '4b0d52def964a520524623e3',\n       '4b0d535af964a520584623e3', '4b0d53aaf964a520624623e3',\n       '4b0d53e6f964a520684623e3', '4b0eee50f964a520f05c23e3',\n       '4b0fc7bff964a520d36423e3', '4b0fdb13f964a520826523e3',\n       '4b10f2e8f964a520ee7623e3', '4b11d083f964a520418523e3',\n       '4b12053ef964a520468823e3', '4b126f30f964a520db8923e3',\n       '4b12a405f964a520b88b23e3', '4b162c0cf964a52055b723e3',\n       '4b18d649f964a52010d623e3', '4b1c7295f964a520790724e3',\n       '4b224a84f964a5202a4524e3', '4b29b460f964a520b8a224e3',\n       '4b30e28af964a52085fc24e3', '4b3cb391f964a5204c8625e3',\n       '4b3f0d39f964a520c0a325e3', '4b404223f964a52032b725e3',\n       '4b4084f5f964a520b2b825e3', '4b40d04df964a5207dbb25e3',\n       '4b41d496f964a52045c925e3', '4b430f8ef964a520f9db25e3',\n       '4b47d9ecf964a5208d4126e3', '4b47ecf8f964a5202e4426e3',\n       '4b483d3bf964a520824a26e3', '4b4946caf964a5202a6c26e3',\n       '4b4aa64bf964a5203d8c26e3', '4b4aac42f964a520a58c26e3',\n       '4b4b07e3f964a520379126e3', '4b4c16b9f964a52025ae26e3',\n       '4b4d0e2cf964a5205fc926e3', '4b52c400f964a520a78727e3',\n       '4b52d0def964a5208f8827e3', '4b52e526f964a5202b8a27e3',\n       '4b53ed92f964a520d0ae27e3', '4b555b86f964a5205de227e3',\n       '4b583f9ff964a520874f28e3', '4b5995baf964a520978d28e3',\n       '4b5aa6e5f964a52083cf28e3', '4b5ab58af964a520a4d128e3',\n       '4b5af536f964a5203edc28e3', '4b5bce86f964a520441729e3',\n       '4b5bebb9f964a520581d29e3', '4b5c214df964a520182529e3',\n       '4b5c23d0f964a520752529e3', '4b5feb40f964a520a8d029e3',\n       '4b614267f964a520490e2ae3', '4b6269f7f964a5209b462ae3',\n       '4b62e139f964a52005572ae3', '4b62e7a8f964a52028582ae3',\n       '4b62f026f964a520bb592ae3', '4b638b2ef964a52047822ae3',\n       '4b66b4b2f964a5201a282be3', '4b67c302f964a5200c5d2be3',\n       '4b67f267f964a520d1612be3', '4b690715f964a52052972be3',\n       '4b696a42f964a52089a12be3', '4b697f95f964a520c5a42be3',\n       '4b6a6c5af964a52010d52be3', '4b6ab55bf964a520f1dc2be3',\n       '4b6bfa80f964a520291e2ce3', '4b6cf4cdf964a52019602ce3',\n       '4b6d35daf964a520ad6b2ce3', '4b6e2e99f964a5201db02ce3',\n       '4b6ef316f964a520b5d22ce3', '4b710d9af964a5205c382de3',\n       '4b729a8ff964a52034802de3', '4b729a97f964a52038802de3',\n       '4b7404daf964a5200cc42de3', '4b762534f964a520dc3f2ee3',\n       '4b78eecaf964a520aee62ee3', '4b792846f964a52042ed2ee3',\n       '4b7b6652f964a520f8612fe3', '4b7e9fccf964a520f2f52fe3',\n       '4b7fb741f964a5205e3a30e3', '4b7ff06ff964a520af4530e3',\n       '4b81146bf964a520e39530e3', '4b8358b7f964a520570331e3',\n       '4b8397fcf964a520ba0a31e3', '4b83d556f964a520aa1231e3',\n       '4b84d771f964a520604531e3', '4b86551af964a520598631e3',\n       '4b874de5f964a520e1ba31e3', '4b875dfff964a52035bd31e3',\n       '4b87660df964a52052be31e3', '4b879249f964a5203ec331e3',\n       '4b88b039f964a520c30832e3', '4b88e482f964a5204f1232e3',\n       '4b892973f964a520302032e3', '4b89fc61f964a5203d5a32e3',\n       '4b8a5a14f964a520906932e3', '4b8b4510f964a5203f9a32e3',\n       '4b8f2b6af964a520104c33e3', '4b910e00f964a52044a133e3',\n       '4b921da2f964a52005e833e3', '4b948843f964a5209c7c34e3',\n       '4b94b7b9f964a520578134e3', '4b964d2af964a520d6c434e3',\n       '4b99950ef964a520548535e3', '4b99f642f964a520dc9835e3',\n       '4b9b59f9f964a520090236e3', '4b9c4115f964a520495936e3',\n       '4b9c7db1f964a5202e6c36e3', '4b9c9134f964a5209a7036e3',\n       '4b9ee537f964a5202d0937e3', '4ba05671f964a520206937e3',\n       '4ba1e919f964a52082d137e3', '4ba20cdff964a52058d837e3',\n       '4ba350f9f964a520dc3438e3', '4ba35b61f964a520173738e3',\n       '4ba484f9f964a520ffa138e3', '4ba5c8e4f964a520192239e3',\n       '4ba6f413f964a5209b7939e3', '4ba75fbbf964a520f58e39e3',\n       '4ba8859df964a52063de39e3', '4ba999f6f964a5208f303ae3',\n       '4baac25ef964a520fa843ae3', '4baaf642f964a520c58f3ae3',\n       '4bac49e2f964a520f3ee3ae3', '4bacb3c8f964a52036053be3',\n       '4bad591cf964a520d8483be3', '4bad89d3f964a520d9593be3',\n       '4badae90f964a520f1623be3', '4bafeeeaf964a520952c3ce3',\n       '4bb06b42f964a520b8443ce3', '4bb16f77f964a5204b933ce3',\n       '4bb1fb0af964a5205eaf3ce3', '4bb41b890cbcef3be6be582a',\n       '4bb477e0737d76b099653b7c', '4bb6d977f562ef3b44d43097',\n       '4bb6d98df562ef3b5dd43097', '4bb769972f70c9b6939e8630',\n       '4bb97098cf2fc9b67891a002', '4bbaba511261d13a0e02eb98',\n       '4bbabfa453649c74cb6b49fb', '4bbac55953649c74f36f49fb',\n       '4bbb3553935e952193e02890', '4bbde9554e069c746b479fe3',\n       '4bbe8dceb083a5931d46a2e9', '4bbedba898f4952173dad163',\n       '4bbf3443006dc9b67a29fc3f', '4bc043c5abf49521580dbf93',\n       '4bc0671b920eb71363dc182c', '4bc0818cf8219c748ba0b110',\n       '4bc5ae6c41cb76b0d29d3e6f', '4bc726c28b7c9c7428da35cf',\n       '4bc966f90687ef3bdff9d9cc', '4bcab9b0511f95211f5fb0c7',\n       '4bcabc17511f95216061b0c7', '4bcb09663740b713a8ac6165',\n       '4bcc4132511f952159a1b2c7', '4bcff96541b9ef3b4c65f9e5',\n       '4bd30f2cb221c9b6fdb9d8d0', '4bd3d7d6a8b3a593b1fb6a5f',\n       '4bd43085a8b3a593595d6b5f', '4bd4334aa8b3a59377606b5f',\n       '4bd518e16f64952176b06eec', '4bd553facfa7b713c6a325da',\n       '4bd56feccfa7b713efbd25da', '4bd7cc2b0b779c746cfa05a0',\n       '4bda5d2563c5c9b61deb2368', '4bda843cc79cc9286f137fe9',\n       '4bdad5d72a3a0f47eb2aacb6', '4bdd271389ca76b06d6f5d5e',\n       '4bdd6d9f645e0f476d766b19', '4bdf72f0e75c0f473751cb03',\n       '4be25172b02ec9b6cbd04cc0', '4be2e462cbdbef3b357d60d8',\n       '4be4bdefbcef2d7f2b0b03e5', '4be544de2468c92805d5ff42',\n       '4be589f07e2a76b096ce1c9b', '4be67b262457a5934ae7ac15',\n       '4be79a58d837c9b6bd6fa406', '4bef804fd1b7d13a0ae6cdec',\n       '4bf0f7af17880f472ed72937', '4bf375f694af2d7fa28d3972',\n       '4bf3cea098ac0f47863363a8', '4bf3da2ae5eba59302ec1e90',\n       '4bf5e97cabdaef3b3d28a184', '4bf604625efe2d7f44906634',\n       '4bf6085f4d5f20a100ba98fe', '4bf6918594b2a593bca8adee',\n       '4bfb8d0265fbc9b62e88916c', '4bfca49fb68d0f47dbbce757',\n       '4bfe5d83bf6576b00d89aeb8', '4c01f397f815a59379270a96',\n       '4c02605c9a7920a1ed53ce79', '4c033d399a7920a16bb7cf79',\n       '4c05e139761ac9b6b3382074', '4c06a94992a4ef3bf817b0f1',\n       '4c077b55cf8c76b08a0b3c65', '4c0a0909340720a196d58593',\n       '4c0c52f9b1b676b09d03df86', '4c1066f181e976b0fb310feb',\n       '4c10e416ce57c928c18382d2', '4c10ef12ce57c928999882d2',\n       '4c149685a9c220a107d9579d', '4c183bd51436a59331238d75',\n       '4c1ad19855e4c9b6a9754823', '4c2041fc8b3aa5933ec49e5f',\n       '4c2161029a67a593b9f0da87', '4c22b5bf7e85c928478bbc21',\n       '4c22b91411de20a1526a85ce', '4c243ab8a852c928dae3e26c',\n       '4c259166136d20a16ef0e361', '4c282eec97d00f47648e3fea',\n       '4c2c26dc8abca59318600120', '4c2f247d213c2d7f9c51305d',\n       '4c2f348d16adc9286318bd9c', '4c3039673896e21ec853e590',\n       '4c35e5637cc0c9b667a3f59a', '4c3946ff1e06d13a3a73793e',\n       '4c3d2c44980320a109c58be4', '4c3d8b7015cb1b8d1c0c7cdc',\n       '4c3d9599933b0f47648be521', '4c3eabfab8b4be9a4c84ccef',\n       '4c402fd2ff711b8d92f80f05', '4c403cd8d691c9b687d68a0a',\n       '4c47d2fb1ddec9289abe9e32', '4c4fe7181886c9b6cacccb27',\n       '4c54354106901b8d6fa7684b', '4c56f80e30d82d7f9ab7d862',\n       '4c57877d6201e21e49b7e86e', '4c5b94836147be9ad72f8d09',\n       '4c5d512bd25320a12090c57a', '4c60bf0754ac0f471e7cb621',\n       '4c625784ec94a593972029ca', '4c639d6b4b5176b088591517',\n       '4c63f15258810f4757d70a1e', '4c678d6a7abde21e89116768',\n       '4c6b61ff0c3ac9b6b318d238', '4c6e726a9b7cef3b6c56f42a',\n       '4c6f6103df6b8cfa1342b54d', '4c73553613228cfaa59a2d65',\n       '4c77a04ab4b4b60c1b1b280e', '4c80979b6bd49521a86bbad2',\n       '4c81bc6ddc018cfa311dc96c', '4c8353e774d7b60c5b1389d8',\n       '4c849315d92ea093a6ad5e72', '4c8cf56655fba09386e063ab',\n       '4c8d83efc37a6dcb2dde007b', '4c90a59d160ea093d70bd8fc',\n       '4c921ff8104a952136aef0a9', '4c92a2436cfea093f16db38b',\n       '4c92c33a418ea1cd96fea785', '4c93626ffc9a224b77f8f9f1',\n       '4c94907f58d4b60cceb92929', '4c9efbef54c8a1cdb949934b',\n       '4ca330ba7f84224bbc70c258', '4ca58e1314c33704b145b73b',\n       '4cac079397c8a1cdac909da5', '4cad82ad632b370433cf676e',\n       '4cadb2e7d1f8b60ce8ab70c6', '4cb01b43cbab236ab7d09d73',\n       '4cb83ca19552b60c4fafca8b', '4cb9af2f43ec6dcb80a99e31',\n       '4cbf1de6acd48cfac19a413f', '4cc0ca6c22ce468819933947',\n       '4cc27f29b2beb1f76c9c104c', '4cc2a851306e224b63b8916c',\n       '4cc4109542d1b60c15511b13', '4cc7c913ee718cfa6a02b43d',\n       '4cca2686b7d9a14394f5fa36', '4ccaceefe47f548120fcc9f7',\n       '4ccbda39511b236a3757edc9', '4cce65f4566aa093c0252dfd',\n       '4ccfd6d7f6378cfa6dfab0d6', '4cd02fcb6449a093b418c9cf',\n       '4cd0d6a41ac7a1cd2c161c92', '4cd10f8cde0f6dcb01b86e63',\n       '4cd239eb02c9a1434c4ce513', '4cd268ae4aa9f04d372057cb',\n       '4cd3c8549828b60c934ad784', '4cd4322c8e5b6a31818373ac',\n       '4cd4c65d89eb6dcbe59f241e', '4cd5134a122ba143dec729a1',\n       '4cd611e52944b1f77f2861ec', '4cdaff6db1d8a09000a555e0',\n       '4cdcd3b1d6656a31a857fe3e', '4ce02720df986ea81ee4e516',\n       '4ce10982c4f6a35d9002d96c', '4ce7343f595cb1f7f330c114',\n       '4cedf7347db3224b8284252e', '4cef39c57b94370412aa3153',\n       '4cef63c43b03f04df5833edc', '4cef83f428abb60c2ae2c209',\n       '4cef91cc8604a1cd3d95fdc0', '4cf0c1ac88de370406006e2b',\n       '4cf79dacd3a8a1cd658fd743', '4cf7a43a1cfea09351dde539',\n       '4cf9cb2fc51fa1cd330edd2b', '4cf9dc10c671721efb25ba18',\n       '4cfa5c6afeec6dcb6a543f36', '4cfccc8d20fe370440b35bf8',\n       '4cfdad3534c1a09332b6510e', '4cfdfa24dccef04d6a44c89c',\n       '4cfe0cbac671721eccefd018', '4cff07d6ffcea1436a3b2591',\n       '4cff471b75d3236a7565e4f7', '4cff73042685a35d215bc390',\n       '4d0047f67c563704e37daff0', '4d04b8b5a2685481006eb9bd',\n       '4d062a112f96f04d06782654', '4d08478ec26ba143728f1817',\n       '4d087a3343b36ea8162c2def', '4d0b4238984a6ea8e4679064',\n       '4d0ca5837d28721ee1f6f320', '4d0de8a00efa8eec64535f58',\n       '4d0e0a92be6d6ea88f4d08b5', '4d0eebd79302a35d2aa9726e',\n       '4d102f0b71e8a1cd0d5b7fbd', '4d11c6b2ed9437044af71962',\n       '4d11f24a12916dcbc5f9d18a', '4d12a3c6d0fda0933386ad57',\n       '4d17629f1356a0932090db82', '4d1abed995d5f04dbba4b782',\n       '4d1adef61683a143497c7851', '4d1c1834c17ff04d0d21c441',\n       '4d21c0be5acaa35d108ad235', '4d21c79f2eb1f04d35d0fac1',\n       '4d22b64bbdd7a09355daffce', '4d230c15f7a9a143e097449f',\n       '4d26dcc1068e8cfa5cb2b44c', '4d287236068e8cfaff71c54c',\n       '4d298916467d6ea8c2a9d095', '4d299409ebacb1f7bd2cfc4f',\n       '4d2d3eee39a354814990b620', '4d2ea35da6df6dcbf864db7a',\n       '4d2fd8b696fe6ea8bbec0f44', '4d3037227791224b96bbce42',\n       '4d30e705619f6ea8ffcf3983', '4d32640e72a8b1f790149ed0',\n       '4d32b300329e54815b48b31d', '4d33f88a72a8b1f7d475acd0',\n       '4d343c2aeefa8cfa49a648b3', '4d351d9a98336dcb09813ef0',\n       '4d3672fdcf67a143c553b328', '4d368142edbd3704571e6be3',\n       '4d36d5cad8caa1cda7f770d6', '4d3770906eef548115ac3748',\n       '4d37e37ee6bdf04d1e0c5fb4', '4d3b8f8d3ec9a35d56734081',\n       '4d3d14d5a2e4b1f7d10bef25', '4d3d31f43ec9a35dc9454f81',\n       '4d3fbc1c915a37047d520e7f', '4d4227aec65bf04d3ddc51f4',\n       '4d4505d11ed56dcba8e4b654', '4d463a22bbb1a1432fe65a72',\n       '4d465b5b3616b60c6a18f7c2', '4d48964111618cfaca71d623',\n       '4d4d3de7869cf04dd81cdbae', '4d50ed60dcce224b24f2dc1b',\n       '4d5250f99ffc236ac9ee2ba7', '4d577f34afe4b60cad9f4561',\n       '4d578867e319a1cd3fe10534', '4d59d3e6c88da1cdbe833e68',\n       '4d5fc502e4fe54810fc1779e', '4d63563a4554a09317d1b0aa',\n       '4d69a6752acd6ea88df93cc0', '4d6b122e2eaba35d5c93320d',\n       '4d6c5afd129a6ea88febe355', '4d6df07238363704f398a0d0',\n       '4d74a6b31a8aa35d2b9212a7', '4d75d443f5e4b1f7bf8ffb86',\n       '4d785c36c1d56ea88690cf2b', '4d7b056c2ee5a0937d051540',\n       '4d7b86e2136bf04dbe4e4d8d', '4d7de47f8700370406416699',\n       '4d7ffb968edaa1437701e639', '4d82407914874eb9c9ec1e8b',\n       '4d841800d5fab60cb90ddb9b', '4d8821a94757721e39748869',\n       '4d8866e07d4c5481d77f3e71', '4d89839e1508a143610d101e',\n       '4d8987d9401a224b3bd88e18', '4d8c644efaeaba7a9d0ce1a1',\n       '4d8ca839d265236a805adf16', '4d8d6ac0ca75b60c81cde8a8',\n       '4d8dd783c479a35d65d83697', '4d8f11483bfef04d6f79a686',\n       '4d8fdc231716a143d04d55f7', '4d9157159acaa143ad06e6f0',\n       '4d92ab76d176a1cd67eb28f0', '4d96cd1361a3a1cd3757a542',\n       '4d9960f3af3d236a70fb51c7', '4d998a8e942ba093695c9d8c',\n       '4d9c1b8d074d5481120b3aec', '4d9e767335a9224bae103785',\n       '4d9ea7a991af6ea8eb2689e8', '4d9f32e747ad37047b7b4be5',\n       '4da2f012540ea1cd9df885de', '4da958f293a04642f0640bf5',\n       '4dad88aea86e0d401b8940b8', '4db04e590437a93f7f71bdf2',\n       '4db2e15b43a1369cb594e892', '4db3eef9cda1c57c82513c04',\n       '4db4195a4df05e5aaad8a32c', '4db7be104df0ded98bae8c0c',\n       '4dbd38fccda109aa6cae2d05', '4dc0a80a0437a520e69778d9',\n       '4dc1fb0fae60966750a12ca1', '4dc51fbc7d8b14fb46219e80',\n       '4dc527811f6ef43b8a0d7d48', '4dc55081d4c0ad9c0f83efe7',\n       '4dc76371887717c88053a717', '4dca1862887769ff3d477e96',\n       '4dcd267b922e8ac4247ac39f', '4dcd315ffa7664b7c687f904',\n       '4dcf5744d164679b8d17c3a8', '4dcfcfdc45ddbe15f8aab4d2',\n       '4dd2065dd4c0febf0fdcc042', '4dd2635fae60fb3f53befeb6',\n       '4dd3b32dd1643acaa1e67fe0', '4dd62efc8877f1150fca00ff',\n       '4dd66d568877f1150fcfb9c6', '4dd72527cc3f75159f1dfaf3',\n       '4ddb950c45ddf752bfc3e588', '4dde09c652b155583df8ce22',\n       '4de066ddd164e323c7ac85ed', '4de5c5bffa764cf4bed090ba',\n       '4de85d33d1648c979631dafd', '4dea09717d8b6c7a53339395',\n       '4df4625d22718759f8234268', '4df4df58ae609e69dd9e652c',\n       '4df5a7727d8b18e1723630aa', '4df736a562e141c90763d09a',\n       '4df809cce4cd212970191cd2', '4df841bce4cd21297019b3db',\n       '4dfdd4381f6e05048d8aaa08', '4e01a8e61f6ef39c2943cbad',\n       '4e06b1e81f6e21103388c67f', '4e06d362483b98d4170d130b',\n       '4e0703942271dfa46bac98fd', '4e0999436284d9ee92e303c0',\n       '4e09bb86d22d658532b46132', '4e0a824e152077e721d39b63',\n       '4e0d92ec7d8bb178a8a008d7', '4e0e6d3d14956c6284fabb4f',\n       '4e11607a7d8b4d5613da7eed', '4e116e6d52b1655efa4627a3',\n       '4e11bdd5d4c07597ff82ffce', '4e169f0752b1091958e7cbec',\n       '4e183eadfa761946458ee206', '4e19128814957dc705de3363',\n       '4e1a8390aeb7eb0120df3e53', '4e1a89c5ae6092c27665f8c6',\n       '4e218bdcd22d0a3f59f8c22f', '4e226aed628469a57420dd76',\n       '4e262bd4b0fb1fae1dd1c62d', '4e267c35a809510950d7d5ad',\n       '4e293d8e7d8b613361948ecc', '4e2ed2db62e1fbac6104a00f',\n       '4e3503b57d8b0c62b2d05bb6', '4e3688a3b61cddd1cd486fc2',\n       '4e378d151838d056d273a5cf', '4e37967f1f6ebc502ce2426a',\n       '4e38d9ff7d8b6bed20a90701', '4e3a4d1381301b0bdc24b2ac',\n       '4e3b3452b61cb577be59983c', '4e3d0f5318a83d5b283ecb85',\n       '4e3d23fce4cdab9b933eb17e', '4e3f9e6dfa76455375d3f59f',\n       '4e3fad291838cb1b830dc8bd', '4e3fd55762e19d61098c93ca',\n       '4e420d177d8bec1e4d138ff9', '4e4718b3c65bd6ffbe9bc495',\n       '4e475f98a809fb2fa3f8f2e9', '4e49bc1d7d8b3dcca352a66d',\n       '4e4f91eb2271a1bdc3dfcd77', '4e508db07d8bd425e4a0e527',\n       '4e5887261f6e2a1922e74030', '4e59f8471f6e804280cd5808',\n       '4e5c434e2271b7fb296314ca', '4e5c4ad7fa76f39e1cb4259e',\n       '4e5f1055149582866d3c6163', '4e5f35f9fa768fe5f2d2116f',\n       '4e60f232b61cd78087e49f38', '4e61ac9ffa76cd64cdea4fdb',\n       '4e62f3acd164ddd5e602d77b', '4e632c06d22d509a39f2dace',\n       '4e6885cd483bc7763073a801', '4e6c80ffae603c15efa762f4',\n       '4e6da3468998a706cd8fe080', '4e703c29fa76e1a41f69f3a4',\n       '4e7155761f6ecfe82bc84d36', '4e7579f262e12635167153c2',\n       '4e759f278998ed82a4acd4f1', '4e7812941495f00a4213861d',\n       '4e79d80962e1645553035b11', '4e800988e5faed4a52b50402',\n       '4e829c076c25fc3c322e7079', '4e8442682c5b313283cf78f3',\n       '4e874456d22d194bdecf4dd5', '4e89d2e46da19717d680215c',\n       '4e8e940edab454671ecc14ea', '4e902b668b81c6df6594451c',\n       '4e92d7540aafb3892486047e', '4e92dd966da1ee438498343e',\n       '4e95349f9a526ce9d8b356a0', '4e9fc32630f854cd9c0aeb23',\n       '4ea1441930f8b9d5abd52ab6', '4ea7d696be7b572daabc3e75',\n       '4eab48e7be7b42d001047d67', '4eb0d2224690b9be427b7dbd',\n       '4eb13613e3002b54270f0e95', '4eb23310b803483509f742e1',\n       '4eb3c0ac61af0dda8f97dd48', '4eb6341c4901cef9d8e1f487',\n       '4ebb81319adf82e80630e695', '4ebcb8ddf5b9e505b7bd4518',\n       '4ebf507002d5a63a3eed0280', '4ebf6c62cc212562ad0bd50c',\n       '4ec086872c5b252c19faf6a7', '4ec0c0af4690d23389c7096c',\n       '4ec0cc826da15b4ddf74389a', '4ec1e1ca9a52cce4f478fb8a',\n       '4ec21b18722e0f78deca8db5', '4ec3aaad46903b51c411d6b6',\n       '4ec722a402d5888e9b7d75df', '4ecf693893ad987b4bd3ba11',\n       '4ed3570f0aafd1869258063f', '4ed6f3ba82311e04d1c16fc0',\n       '4ed84a274fc6fb124c63d24d', '4ed85ff9775bcc53f8190faa',\n       '4ed969cc775bcc53f95e7bd6', '4ed9c5ce9a5286d91e9c1cec',\n       '4ed9d9e39a5286d91eb00dfa', '4ee497528b81bab283939d19',\n       '4eebe61e5c5c794ad056c604', '4eecaa1b4901dff3065cd748',\n       '4eed6f1b93add02fcc32d7b5', '4eed7c6202d514a36a1eac27',\n       '4eeda65930f824cfc5398fdc', '4ef03927991107885b7179cf',\n       '4ef2c33782310969a89bcaf5', '4ef42d02c5123a724ddf5ddd',\n       '4ef6a8489adf7bbf88112d2f', '4efaaa49490124bf9c57418c',\n       '4efc01ba4fc6717b765e4230', '4eff5f1cf9abd5b3901d1ea9',\n       '4f02b38d6c25c5ce83ecd183', '4f03d3ac61afb3ab89f02210',\n       '4f06a810e4b0ad9c2355c48a', '4f06dac2e4b0aa2dc4a1eaa6',\n       '4f071870e4b000dd73fc90af', '4f0a7f61e4b0fcefaaa354cd',\n       '4f0bd0c4e4b02df3eb7c6eaf', '4f0e8f15e4b0a91e153c6d19',\n       '4f13fe46e4b072565f34ab2a', '4f140cd8e4b07e9eccff5454',\n       '4f17d11ae4b01130e7590b3f', '4f17fb92e4b083c360e10759',\n       '4f18ee21e4b0a9e6dacdf227', '4f1fb3eee4b03c0e9fdb6bf5',\n       '4f228b8be4b0b2f98d6cacd3', '4f23e6fae4b0a93fbe4fdad4',\n       '4f264444e4b0020c3098c992', '4f27215ee4b0717a6b19f7c6',\n       '4f276dc7e4b0dfdabc4db0ca', '4f279910e4b00c3832c7b514',\n       '4f2907fde4b015f8e43be89b', '4f30ab4ce4b09c40b313843b',\n       '4f31e7b4e4b0731147ac20b8', '4f34a2d8e4b00172d1fd47bf',\n       '4f3642e7e4b099ca93179b66', '4f391f2ce4b0ea2d7f9cf9a8',\n       '4f3b6237e4b0258ec2108f8e', '4f3e675fe4b0382fc11efd0d',\n       '4f3f1da0e4b00b52579643ef', '4f42290de4b0e5bc142e3c94',\n       '4f4ec44ce4b0f0229fcf35e3', '4f4ef5d8e4b05017c8935bf3',\n       '4f5469cde4b07c31b58b8d30', '4f55a4dfe4b0398c6e086966',\n       '4f578efba17c2b11449066ef', '4f5d7b4de4b075ad7b6ee4a9',\n       '4f5febfde4b00057430e211d', '4f61c69ee5e8ce4e7cbf84dc',\n       '4f6819dce4b0cbeea5df13d9', '4f6d87aee4b0a6b7718a232e',\n       '4f6ed441e4b03b3f3aa8064d', '4f8267d9e4b020c7bfcc9cc3',\n       '4f87c6cce4b0ab0c19836aa5', '4f896057e4b0202c06241859',\n       '4f8baefee4b076717cdde8ee', '4f8eb759e4b047e9ee872edf',\n       '4f9134bce4b04c93d55e48f9', '4f939da8e4b0949d21042a8d',\n       '4f950214e4b04c0b8e19b506', '4f9604cde4b0d668ffe82abe',\n       '4f9a9d4ee4b0d2bd619c0a9d', '4f9b7b51e4b0ec21f4b44f2b',\n       '4f9bae27e4b04dce4479164a', '4f9cadfae4b0ef2f710b7b6e',\n       '4f9cdc16e4b0e1cbff73de29', '4fa0be1ce4b0f30726a3f57d',\n       '4fa3e231e4b0d6f4bb7c2e3e', '4fa651f7e4b0c1088ef44103',\n       '4fab9851e4b050ddfdf530a2', '4fac9ac4e4b033cf3f3594c6',\n       '4fae461ae4b097c37e3782ce', '4fb1089ae4b01d7a90e1ac90',\n       '4fb86fdee4b0bde7b7787859', '4fc5af13e4b064a315661104',\n       '4fc5bbbce4b00e39d2da2117', '4fc5dc8ae4b064a3157367c0',\n       '4fc5e823e4b067928c15a16d', '4fc6bac2e4b0f0b0bfd3cb25',\n       '4fcc72d8e4b09e8af8d6767d', '4fcd8c57e4b0e2352d6e3e51',\n       '4fd0833ae4b0c78b38804a52', '4fd45b4bc2ee72933681503f',\n       '4fd67bc77b0c4fe0bee5e95d', '4fd6ead8e4b02e9f22914fac',\n       '4fd850b9e4b0108b82e4b4ba', '4fdac0f0e4b08a6fe37582dc',\n       '4fddc33ce4b09473e1f7be5b', '4fdf0febe4b0dd796c5e50b2',\n       '4fe15a0ce4b0f2214732b824', '4fed8418e4b0d966193bccda',\n       '4ff3f93ee4b09751a6278897', '4ff4234ae4b0f1c61739b0e7',\n       '4ff68576e4b02089183729e9', '4ff6da54e4b0c98ddca11bd4',\n       '4ffaabc0e4b0463f72b83b92', '4ffc12bee4b01adae56f0ebb',\n       '4ffc25a6e4b0f784b88eaf08', '5008ab68e4b0b96fdab8ad8e',\n       '500ce86be4b0b8de35a24929', '500d2595e4b0db14bda17fb4',\n       '500eac6ee4b023457725f1bc', '50113919e4b0eba4bac7d0c8',\n       '50139d81e4b037378cb1a02f', '501683c9e4b035462a8666ef',\n       '501a690be4b04946ea2129d1', '501cd4a0e4b0ccb680f6eeef',\n       '501e2ed3e4b0d751f3dee44e', '50227ecce4b00d04baba0544',\n       '502340b3e4b0957f27d47ada', '5024e018e4b0a32dd84eed97',\n       '5025f163e4b0844f8eb9102e', '5027315fe4b090b4d5e9db7f',\n       '5027d2f6e4b0aa1675aab7f5', '502a3887e4b005dfa1ab30d4',\n       '502b29c2e4b07813ac955370', '502c9dd2f31c492b2702fd09',\n       '502cb2bae4b0c65b497b23db', '502cea6fe4b0298224fb4c59',\n       '502f554ae4b0fdd339a7e47c', '50343145e4b00dd3ac653ca8',\n       '5034bb2ce4b000f5aa1c058f', '503569381648246eddb1d742',\n       '50362c93e4b08d47be04f672', '503b083de4b0124e44b2ab57',\n       '503b672ae4b0975cc3a647aa', '503dc0fde4b04ada66aa9ae2',\n       '503edc69e4b0f78f0483eb48', '503f0491e4b07ae7799c7998',\n       '504164b3067dab59d72d8d9f', '5041a226e4b03ccc169ff83c',\n       '5044afc3e4b0b9943f59a28f', '5046ec70e4b0bcc0f3b7ac04',\n       '5047fecce4b076625bf2aadc', '50488ef0e4b0424d59059f9c',\n       '504b5bdbe4b04a78af774f4a', '504bfd96e4b05485420d9612',\n       '5050e7f4e4b0bc88c41cf4f0', '505290eee4b0c4c555c3eb22',\n       '505316b8e4b0f42fb5ec1b78', '50541a34e4b0e5434c56f31b',\n       '5056bd20e4b03ac263e27fc7', '505a9d3ee4b0644ce2030ca4',\n       '5066e0cde4b0fbec5686233c', '50715206e4b0339d312342e9',\n       '5073869ee4b095d9254beef6', '50738c88e4b0740da8606a65',\n       '50778233e4b0da2384236b93', '507a994be4b0ce42c6f2478c',\n       '507fc4f7e4b0e40f4e7f4a17', '507ff094e4b0db330e5c4fda',\n       '50816cffe4b00dbb9c7f8282', '5084cc43e4b03eedbf8ba2d7',\n       '50893f6de4b0aa994cc49b34', '508b7354e4b07e54b3051d60',\n       '508b8c43498eb2451badd559', '508cb874e4b0d2621768c314',\n       '508e1cba8aca21fb191845de', '508f8580e4b07b9c2cebf8f8',\n       '5091f74ae4b07a066c8f834d', '50932e70e4b08bdede8566b5',\n       '5095f955e4b052b2c953b138', '5097e49d498e4ddf69c14242',\n       '509a2bade4b0d0e76ccdca51', '509b021ae4b0e8d7a669132b',\n       '509b4219e4b05ee899885154', '509b77c4e4b09d90f53edc60',\n       '509cad64e4b005ecff365bde', '509e1e6fe4b01718b26707a4',\n       '50a1a328e4b0018d3b48314f', '50a1f2b6e4b091c0d49e4787',\n       '50a1fd51e4b0018d3b70ff50', '50a6120de4b067f7a60fbf77',\n       '50b0d124e4b0a2172ddba223', '50b1b577e4b0dabb58a334f0',\n       '50b573fbe4b075ec625f277c', '50b88115e4b0802eb7c9e74c',\n       '50b965d8e4b05175d338333b', '50bee933e4b09a6d0ebd03e8',\n       '50beed74e4b0b1f5d5b7dfb6', '50c05532e4b033766374ecd7',\n       '50c0a10ee4b041f0f2a33ced', '50c0a135e4b0b9353af5e1e9',\n       '50c182e0e4b0f26f55e7d331', '50c302bae4b0e2b40b981ec2',\n       '50c693dfe4b0995fe0b798d7', '50cab4fde4b044ef5af5df48',\n       '50cae8e5e4b0d870c27c6de9', '50d2d413e4b0ec19a264d582',\n       '50d50625e4b0cc2e76f8ba26', '50d514dce4b028bbc75ba0b9',\n       '50d550b9498ee2828efec571', '50d6c753e4b0252164a6776c',\n       '50dd4d0de4b05a6dea7f92a0', '50de87fae4b03fabe2b832b9',\n       '50e12d5ae4b03fabf5601b83', '50e3ef5ee4b0e42102244244',\n       '50e7ccbae4b02662ad9658c3', '50e832fde4b07cd23d0fb36e',\n       '50e9411ae4b098a1ec54410f', '50ef9f00e4b0a7b536b2cc50',\n       '50f13d1ce4b0ba6d5e84e3c5', '50f259dfe4b0afae21579e83',\n       '50f589fc164814bc00405b5e', '50f7e91ce4b0e7d0c6106a9e',\n       '50f93691e4b03ac9772982f4', '50fcd064e4b02fe31709e4c6',\n       '50fd03d0e412b04d518c69f5', '51069c98e4b051d6ca6f5979',\n       '510b5c8ee4b0faae24b94963', '510df0c2e4b0e2f93ec4593a',\n       '511b0ddfe4b029c12a186038', '513ab483e4b03409c5f9a83b',\n       '513c0888e4b0c7db9d87ed0e', '5143c0c9e4b086ca75f1e356',\n       '514aebb5e4b0f1239b93b49d', '514ecb59e4b069b90e23496f',\n       '515185c283028592ea4bd8c1', '5153e18ce4b0999e228cdee3',\n       '515973b6e4b020def4cf2c77', '515ea705e4b0fd9eca14169f',\n       '515fb985498efb316edf391a', '51637dcbe4b026a95ccbd70a',\n       '51652d82e4b0c9d2101018f5', '5173a91ae4b03b46668869b8',\n       '5173cebce4b010616d7a55a2', '517a9b4ae4b0ca8d6a172a34',\n       '517fe9a8e4b08c34b1ad7396', '51810e98498e8b63c165895a',\n       '5183aa5b498e84932c13bc14', '5193839f498e5d8c6c083602',\n       '519af2d2e4b035e065ebfae7', '51a2100c498e348d724738af',\n       '51a86a6b498ef2d5e7dd89e6', '51afd41f498ea4fc2dd434e4',\n       '51b47844498e6d775473f892', '51b54ab4498ecfb077514ff7',\n       '51ba62ce498ed262e8a12afa', '51d553fe498ea03f1e71fad4',\n       '51d8d7f2498ed8b9c6e44c16', '51e69a19498e2dedec24800b',\n       '51efe64e498ecbc1c057e609', '51f0e03d498ef9340516284b',\n       '52185771498eaada0109d890'], dtype=object)"
     },
     "execution_count": 66,
     "metadata": {},
     "output_type": "execute_result"
    }
   ],
   "source": [
    "cafe_pois = pois[(pois['cat_name'].str[:3]=='Caf') & (pois['cat_name']!='Cafeteria')]['business_id'].unique()\n",
    "cafe_pois"
   ],
   "metadata": {
    "collapsed": false
   }
  },
  {
   "cell_type": "code",
   "execution_count": 67,
   "outputs": [
    {
     "name": "stderr",
     "output_type": "stream",
     "text": [
      "D:\\environment\\dev\\python\\anaconda3\\lib\\site-packages\\pandas\\core\\indexing.py:1720: SettingWithCopyWarning: \n",
      "A value is trying to be set on a copy of a slice from a DataFrame.\n",
      "Try using .loc[row_indexer,col_indexer] = value instead\n",
      "\n",
      "See the caveats in the documentation: https://pandas.pydata.org/pandas-docs/stable/user_guide/indexing.html#returning-a-view-versus-a-copy\n",
      "  self._setitem_single_column(loc, value, pi)\n"
     ]
    }
   ],
   "source": [
    "pois.loc[pois['business_id'].isin(cafe_pois), 'cat_name'] ='Cafe'"
   ],
   "metadata": {
    "collapsed": false
   }
  },
  {
   "cell_type": "code",
   "execution_count": 68,
   "outputs": [
    {
     "data": {
      "text/plain": "82193      Cafe\n82247      Cafe\n82467      Cafe\n86138      Cafe\n86139      Cafe\n           ... \n3639528    Cafe\n3647658    Cafe\n3653196    Cafe\n3653600    Cafe\n3671675    Cafe\nName: cat_name, Length: 787, dtype: object"
     },
     "execution_count": 68,
     "metadata": {},
     "output_type": "execute_result"
    }
   ],
   "source": [
    "pois.loc[pois['business_id'].isin(cafe_pois), 'cat_name']"
   ],
   "metadata": {
    "collapsed": false
   }
  },
  {
   "cell_type": "code",
   "execution_count": 69,
   "outputs": [
    {
     "data": {
      "text/plain": "                      business_id  latitude   longitude             cat_name  \\\n22795    4a5eb95bf964a52019bf1fe3  1.335005  103.964682               Office   \n22805    4a5f059ff964a52031bf1fe3  1.302169  103.849513                Hotel   \n25797    4a73e804f964a52099dd1fe3  1.281391  103.844348               Temple   \n43693    4ac7f7f1f964a520e9ba20e3  1.279386  103.840514                Hotel   \n43727    4ac8148ff964a5208bbb20e3  1.282644  103.845286               Temple   \n...                           ...       ...         ...                  ...   \n3678975  52327343498e57557d71c8a3  1.334814  103.887406      Campaign Office   \n3679031  5232de3311d2849884484960  1.323134  103.873704  Housing Development   \n3679392  52348bac11d2f5222d094397  1.329494  103.889506                  Bar   \n3679400  52348ec311d2a8886f1f3ccd  1.329494  103.889506            Nightclub   \n3679752  5235e16b11d288ce4b471bc0  1.323393  103.868234  Housing Development   \n\n        country  \n22795        SG  \n22805        SG  \n25797        SG  \n43693        SG  \n43727        SG  \n...         ...  \n3678975      SG  \n3679031      SG  \n3679392      SG  \n3679400      SG  \n3679752      SG  \n\n[33892 rows x 5 columns]",
      "text/html": "<div>\n<style scoped>\n    .dataframe tbody tr th:only-of-type {\n        vertical-align: middle;\n    }\n\n    .dataframe tbody tr th {\n        vertical-align: top;\n    }\n\n    .dataframe thead th {\n        text-align: right;\n    }\n</style>\n<table border=\"1\" class=\"dataframe\">\n  <thead>\n    <tr style=\"text-align: right;\">\n      <th></th>\n      <th>business_id</th>\n      <th>latitude</th>\n      <th>longitude</th>\n      <th>cat_name</th>\n      <th>country</th>\n    </tr>\n  </thead>\n  <tbody>\n    <tr>\n      <th>22795</th>\n      <td>4a5eb95bf964a52019bf1fe3</td>\n      <td>1.335005</td>\n      <td>103.964682</td>\n      <td>Office</td>\n      <td>SG</td>\n    </tr>\n    <tr>\n      <th>22805</th>\n      <td>4a5f059ff964a52031bf1fe3</td>\n      <td>1.302169</td>\n      <td>103.849513</td>\n      <td>Hotel</td>\n      <td>SG</td>\n    </tr>\n    <tr>\n      <th>25797</th>\n      <td>4a73e804f964a52099dd1fe3</td>\n      <td>1.281391</td>\n      <td>103.844348</td>\n      <td>Temple</td>\n      <td>SG</td>\n    </tr>\n    <tr>\n      <th>43693</th>\n      <td>4ac7f7f1f964a520e9ba20e3</td>\n      <td>1.279386</td>\n      <td>103.840514</td>\n      <td>Hotel</td>\n      <td>SG</td>\n    </tr>\n    <tr>\n      <th>43727</th>\n      <td>4ac8148ff964a5208bbb20e3</td>\n      <td>1.282644</td>\n      <td>103.845286</td>\n      <td>Temple</td>\n      <td>SG</td>\n    </tr>\n    <tr>\n      <th>...</th>\n      <td>...</td>\n      <td>...</td>\n      <td>...</td>\n      <td>...</td>\n      <td>...</td>\n    </tr>\n    <tr>\n      <th>3678975</th>\n      <td>52327343498e57557d71c8a3</td>\n      <td>1.334814</td>\n      <td>103.887406</td>\n      <td>Campaign Office</td>\n      <td>SG</td>\n    </tr>\n    <tr>\n      <th>3679031</th>\n      <td>5232de3311d2849884484960</td>\n      <td>1.323134</td>\n      <td>103.873704</td>\n      <td>Housing Development</td>\n      <td>SG</td>\n    </tr>\n    <tr>\n      <th>3679392</th>\n      <td>52348bac11d2f5222d094397</td>\n      <td>1.329494</td>\n      <td>103.889506</td>\n      <td>Bar</td>\n      <td>SG</td>\n    </tr>\n    <tr>\n      <th>3679400</th>\n      <td>52348ec311d2a8886f1f3ccd</td>\n      <td>1.329494</td>\n      <td>103.889506</td>\n      <td>Nightclub</td>\n      <td>SG</td>\n    </tr>\n    <tr>\n      <th>3679752</th>\n      <td>5235e16b11d288ce4b471bc0</td>\n      <td>1.323393</td>\n      <td>103.868234</td>\n      <td>Housing Development</td>\n      <td>SG</td>\n    </tr>\n  </tbody>\n</table>\n<p>33892 rows × 5 columns</p>\n</div>"
     },
     "execution_count": 69,
     "metadata": {},
     "output_type": "execute_result"
    }
   ],
   "source": [
    "pois"
   ],
   "metadata": {
    "collapsed": false
   }
  },
  {
   "cell_type": "code",
   "execution_count": 70,
   "outputs": [],
   "source": [
    "checkins = pd.read_csv('data/SIN/dataset_TIST2015_Checkins.txt', sep='\\t', header=None, names=['user_id', 'business_id', 'utc_time', 'zone_offset'])"
   ],
   "metadata": {
    "collapsed": false
   }
  },
  {
   "cell_type": "code",
   "execution_count": 71,
   "outputs": [
    {
     "data": {
      "text/plain": "                     business_id  latitude   longitude             cat_name  \\\n0       4a5eb95bf964a52019bf1fe3  1.335005  103.964682               Office   \n1       4a5eb95bf964a52019bf1fe3  1.335005  103.964682               Office   \n2       4a5eb95bf964a52019bf1fe3  1.335005  103.964682               Office   \n3       4a5eb95bf964a52019bf1fe3  1.335005  103.964682               Office   \n4       4a5eb95bf964a52019bf1fe3  1.335005  103.964682               Office   \n...                          ...       ...         ...                  ...   \n356376  5232de3311d2849884484960  1.323134  103.873704  Housing Development   \n356377  5232de3311d2849884484960  1.323134  103.873704  Housing Development   \n356378  52348bac11d2f5222d094397  1.329494  103.889506                  Bar   \n356379  52348ec311d2a8886f1f3ccd  1.329494  103.889506            Nightclub   \n356380  5235e16b11d288ce4b471bc0  1.323393  103.868234  Housing Development   \n\n       country  user_id                        utc_time  zone_offset  \n0           SG    52438  Tue Jan 08 01:36:49 +0000 2013          480  \n1           SG    52438  Thu Jan 10 03:30:59 +0000 2013          480  \n2           SG    52438  Thu Jan 10 05:47:22 +0000 2013          480  \n3           SG    52438  Mon Jan 14 05:16:49 +0000 2013          480  \n4           SG    52438  Mon Jan 28 09:12:10 +0000 2013          480  \n...        ...      ...                             ...          ...  \n356376      SG   133548  Fri Sep 13 09:43:21 +0000 2013          480  \n356377      SG   133548  Mon Sep 16 10:30:52 +0000 2013          480  \n356378      SG   156472  Sat Sep 14 16:15:43 +0000 2013          480  \n356379      SG   156472  Sat Sep 14 16:28:54 +0000 2013          480  \n356380      SG   128939  Sun Sep 15 16:35:01 +0000 2013          480  \n\n[356381 rows x 8 columns]",
      "text/html": "<div>\n<style scoped>\n    .dataframe tbody tr th:only-of-type {\n        vertical-align: middle;\n    }\n\n    .dataframe tbody tr th {\n        vertical-align: top;\n    }\n\n    .dataframe thead th {\n        text-align: right;\n    }\n</style>\n<table border=\"1\" class=\"dataframe\">\n  <thead>\n    <tr style=\"text-align: right;\">\n      <th></th>\n      <th>business_id</th>\n      <th>latitude</th>\n      <th>longitude</th>\n      <th>cat_name</th>\n      <th>country</th>\n      <th>user_id</th>\n      <th>utc_time</th>\n      <th>zone_offset</th>\n    </tr>\n  </thead>\n  <tbody>\n    <tr>\n      <th>0</th>\n      <td>4a5eb95bf964a52019bf1fe3</td>\n      <td>1.335005</td>\n      <td>103.964682</td>\n      <td>Office</td>\n      <td>SG</td>\n      <td>52438</td>\n      <td>Tue Jan 08 01:36:49 +0000 2013</td>\n      <td>480</td>\n    </tr>\n    <tr>\n      <th>1</th>\n      <td>4a5eb95bf964a52019bf1fe3</td>\n      <td>1.335005</td>\n      <td>103.964682</td>\n      <td>Office</td>\n      <td>SG</td>\n      <td>52438</td>\n      <td>Thu Jan 10 03:30:59 +0000 2013</td>\n      <td>480</td>\n    </tr>\n    <tr>\n      <th>2</th>\n      <td>4a5eb95bf964a52019bf1fe3</td>\n      <td>1.335005</td>\n      <td>103.964682</td>\n      <td>Office</td>\n      <td>SG</td>\n      <td>52438</td>\n      <td>Thu Jan 10 05:47:22 +0000 2013</td>\n      <td>480</td>\n    </tr>\n    <tr>\n      <th>3</th>\n      <td>4a5eb95bf964a52019bf1fe3</td>\n      <td>1.335005</td>\n      <td>103.964682</td>\n      <td>Office</td>\n      <td>SG</td>\n      <td>52438</td>\n      <td>Mon Jan 14 05:16:49 +0000 2013</td>\n      <td>480</td>\n    </tr>\n    <tr>\n      <th>4</th>\n      <td>4a5eb95bf964a52019bf1fe3</td>\n      <td>1.335005</td>\n      <td>103.964682</td>\n      <td>Office</td>\n      <td>SG</td>\n      <td>52438</td>\n      <td>Mon Jan 28 09:12:10 +0000 2013</td>\n      <td>480</td>\n    </tr>\n    <tr>\n      <th>...</th>\n      <td>...</td>\n      <td>...</td>\n      <td>...</td>\n      <td>...</td>\n      <td>...</td>\n      <td>...</td>\n      <td>...</td>\n      <td>...</td>\n    </tr>\n    <tr>\n      <th>356376</th>\n      <td>5232de3311d2849884484960</td>\n      <td>1.323134</td>\n      <td>103.873704</td>\n      <td>Housing Development</td>\n      <td>SG</td>\n      <td>133548</td>\n      <td>Fri Sep 13 09:43:21 +0000 2013</td>\n      <td>480</td>\n    </tr>\n    <tr>\n      <th>356377</th>\n      <td>5232de3311d2849884484960</td>\n      <td>1.323134</td>\n      <td>103.873704</td>\n      <td>Housing Development</td>\n      <td>SG</td>\n      <td>133548</td>\n      <td>Mon Sep 16 10:30:52 +0000 2013</td>\n      <td>480</td>\n    </tr>\n    <tr>\n      <th>356378</th>\n      <td>52348bac11d2f5222d094397</td>\n      <td>1.329494</td>\n      <td>103.889506</td>\n      <td>Bar</td>\n      <td>SG</td>\n      <td>156472</td>\n      <td>Sat Sep 14 16:15:43 +0000 2013</td>\n      <td>480</td>\n    </tr>\n    <tr>\n      <th>356379</th>\n      <td>52348ec311d2a8886f1f3ccd</td>\n      <td>1.329494</td>\n      <td>103.889506</td>\n      <td>Nightclub</td>\n      <td>SG</td>\n      <td>156472</td>\n      <td>Sat Sep 14 16:28:54 +0000 2013</td>\n      <td>480</td>\n    </tr>\n    <tr>\n      <th>356380</th>\n      <td>5235e16b11d288ce4b471bc0</td>\n      <td>1.323393</td>\n      <td>103.868234</td>\n      <td>Housing Development</td>\n      <td>SG</td>\n      <td>128939</td>\n      <td>Sun Sep 15 16:35:01 +0000 2013</td>\n      <td>480</td>\n    </tr>\n  </tbody>\n</table>\n<p>356381 rows × 8 columns</p>\n</div>"
     },
     "execution_count": 71,
     "metadata": {},
     "output_type": "execute_result"
    }
   ],
   "source": [
    "sin = pd.merge(pois, checkins,how='inner', on='business_id')\n",
    "sin"
   ],
   "metadata": {
    "collapsed": false
   }
  },
  {
   "cell_type": "code",
   "execution_count": 72,
   "outputs": [],
   "source": [
    "p1_list = []\n",
    "delta = 60 * 60 * 24\n",
    "duplicate_interval = 60 * 60\n",
    "\n",
    "\n",
    "def str2delta(t):\n",
    "    t = int(t)\n",
    "    abs_t = abs(t)\n",
    "    d = pd.Timedelta(minutes=abs_t)\n",
    "    if t > 0:\n",
    "        return d\n",
    "    else:\n",
    "        return -d\n",
    "\n",
    "\n",
    "# 这个方法已经要求了轨迹至少得有三个点\n",
    "def trajectory_regulation(df):\n",
    "    trajectory_id = 1\n",
    "    traj_list = []\n",
    "    retained_list = []\n",
    "    duplicate_list = []\n",
    "    df = df.sort_values(by=['local_time']).reset_index(drop=True)\n",
    "    user_id = df.iloc[0, 5]\n",
    "    last_date = None\n",
    "    last_checkin_date = None\n",
    "    last_checkin_id = None\n",
    "    last_index = 0\n",
    "    for i, x in df.iterrows():\n",
    "        if i == 0:\n",
    "            last_date = x['local_time']\n",
    "            last_index = i\n",
    "            last_checkin_date = x['local_time']\n",
    "            last_checkin_id = x['business_id']\n",
    "            continue\n",
    "        current_date = x['local_time']\n",
    "        current_checkin_id = x['business_id']\n",
    "        if (current_date - last_date).total_seconds() < delta:  # 这个是用来取一条轨迹的始末\n",
    "            if last_checkin_id == current_checkin_id:  # 有连续的两个相同POI的签到点，如果是短时间内的重复打卡那就只保留第一个点，重复这个过程\n",
    "                if (current_date - last_checkin_date).total_seconds() < duplicate_interval:\n",
    "                    duplicate_list.append(i)\n",
    "                else:\n",
    "                    # 如果是相同的签到点，由于时间间隔大于一小时，那就相当于这个是不同的签到点\n",
    "                    last_checkin_date = current_date\n",
    "                    last_checkin_id = current_checkin_id\n",
    "            else:  # 如果不是相同的签到点，那肯定可以直接记录当前的签到点和时间\n",
    "                last_checkin_date = current_date\n",
    "                last_checkin_id = current_checkin_id\n",
    "        else:\n",
    "            # 当前这一项如果时间距离轨迹的第一项超过了24小时，那么应该是对上一项进行处理\n",
    "            # +1是因为数量是减后加1，但还要-1，因为是要用上一项的索引，那么就是不加不减\n",
    "            if i - last_index >= 3:\n",
    "                for retain_row in range(last_index, i):  # 刚好range也不用加1了\n",
    "                    if retain_row not in duplicate_list:\n",
    "                        retained_list.append(retain_row)  # 索引是用来标记要留下哪些行\n",
    "                        traj_list.append(trajectory_id)  # 轨迹序号是用来标记哪些行归属一条轨迹\n",
    "                trajectory_id += 1\n",
    "\n",
    "            last_date = x['local_time']  # 重新开始划分轨迹\n",
    "            last_index = i  # 下一条轨迹的开始索引\n",
    "    retained_df = df.iloc[retained_list, :].copy()\n",
    "    traj_list = [str(user_id) + '@' + str(x) for x in traj_list]\n",
    "    retained_df['trajectory_id'] = traj_list\n",
    "    p1_list.append(retained_df)\n",
    "\n",
    "\n",
    "def retain_users_with_trajectories(df, min_len):\n",
    "    trajectories = df['trajectory_id'].unique()\n",
    "    if len(trajectories) >= min_len:\n",
    "        return True\n",
    "    else:\n",
    "        return False\n",
    "\n",
    "\n",
    "def check(df):\n",
    "    n = df['trajectory_id'].nunique()\n",
    "    if n < 5:\n",
    "        return False\n",
    "    else:\n",
    "        return True\n",
    "\n",
    "\n",
    "def haversine(pos1, pos2):\n",
    "    lat1, lon1 = pos1\n",
    "    lat2, lon2 = pos2\n",
    "    dlat = lat2 - lat1\n",
    "    dlon = lon2 - lon1\n",
    "    a = math.sin(math.radians(dlat / 2)) ** 2 + math.cos(math.radians(lat1)) * math.cos(math.radians(lat2)) * math.sin(\n",
    "        math.radians(dlon / 2)) ** 2\n",
    "    c = 2 * math.asin(math.sqrt(a))\n",
    "    r = 6371\n",
    "    h_dist = c * r\n",
    "\n",
    "    return h_dist\n",
    "\n",
    "\n",
    "def lon_lat_tuning(df):\n",
    "    l = len(df)\n",
    "    lon_lat = df['lat_lon'].unique()\n",
    "    if len(lon_lat) != 1:\n",
    "        most = df['lat_lon'].value_counts().index[0]\n",
    "        df['latitude'] = [most.split(',')[0]] * l\n",
    "        df['longitude'] = [most.split(',')[1]] * l\n",
    "    return df\n",
    "\n",
    "\n",
    "def convert_time(d):\n",
    "    hour = d.hour\n",
    "    minute = d.minute\n",
    "    if minute < 30:\n",
    "        minute = 30\n",
    "    else:\n",
    "        minute = 0\n",
    "        hour += 1\n",
    "    return (hour * 3600 + minute * 60) / 24 / 3600"
   ],
   "metadata": {
    "collapsed": false
   }
  },
  {
   "cell_type": "code",
   "execution_count": 73,
   "outputs": [
    {
     "data": {
      "text/plain": "Empty DataFrame\nColumns: []\nIndex: []",
      "text/html": "<div>\n<style scoped>\n    .dataframe tbody tr th:only-of-type {\n        vertical-align: middle;\n    }\n\n    .dataframe tbody tr th {\n        vertical-align: top;\n    }\n\n    .dataframe thead th {\n        text-align: right;\n    }\n</style>\n<table border=\"1\" class=\"dataframe\">\n  <thead>\n    <tr style=\"text-align: right;\">\n      <th></th>\n    </tr>\n  </thead>\n  <tbody>\n  </tbody>\n</table>\n</div>"
     },
     "execution_count": 73,
     "metadata": {},
     "output_type": "execute_result"
    }
   ],
   "source": [
    "sin['utc_time'] = pd.to_datetime(sin['utc_time'])\n",
    "zone_delta = sin['zone_offset'].map(lambda x: str2delta(x))\n",
    "sin['local_time'] = sin['utc_time'] + zone_delta\n",
    "\n",
    "sin.groupby('user_id').apply(lambda x: trajectory_regulation(x))"
   ],
   "metadata": {
    "collapsed": false
   }
  },
  {
   "cell_type": "code",
   "execution_count": 74,
   "outputs": [
    {
     "data": {
      "text/plain": "                     business_id  latitude   longitude       cat_name country  \\\n0       4e94f6845c5c3201e8ea90f0  1.310790  103.720520         Office      SG   \n1       4c84c1f4d92ea093aec25f72  1.296405  103.850241     University      SG   \n2       4c775cda93faa093a2c5f0fb  1.301253  103.837023           Mall      SG   \n3       4b058814f964a52080b022e3  1.300642  103.844898      Multiplex      SG   \n4       4e94f6845c5c3201e8ea90f0  1.310790  103.720520         Office      SG   \n...                          ...       ...         ...            ...     ...   \n201908  4b932271f964a520073734e3  1.372859  103.949332  Train Station      SG   \n201909  4b05880bf964a520b7ad22e3  1.307516  103.827931          Hotel      SG   \n201910  4b05880bf964a520b7ad22e3  1.307516  103.827931          Hotel      SG   \n201911  4b08e700f964a520421323e3  1.304783  103.831938           Mall      SG   \n201912  4b05880af964a52097ad22e3  1.302369  103.836164          Hotel      SG   \n\n        user_id                  utc_time  zone_offset  \\\n0            16 2012-04-04 09:10:49+00:00          480   \n1            16 2012-04-04 10:14:32+00:00          480   \n2            16 2012-04-04 13:13:21+00:00          480   \n3            16 2012-04-04 13:31:37+00:00          480   \n4            16 2012-04-05 09:07:23+00:00          480   \n...         ...                       ...          ...   \n201908   266723 2013-08-02 00:25:41+00:00          480   \n201909   266872 2013-07-22 16:17:55+00:00          480   \n201910   266872 2013-07-23 07:48:26+00:00          480   \n201911   266872 2013-07-23 11:00:04+00:00          480   \n201912   266872 2013-07-23 11:52:37+00:00          480   \n\n                      local_time trajectory_id  \n0      2012-04-04 17:10:49+00:00          16@1  \n1      2012-04-04 18:14:32+00:00          16@1  \n2      2012-04-04 21:13:21+00:00          16@1  \n3      2012-04-04 21:31:37+00:00          16@1  \n4      2012-04-05 17:07:23+00:00          16@1  \n...                          ...           ...  \n201908 2013-08-02 08:25:41+00:00      266723@8  \n201909 2013-07-23 00:17:55+00:00      266872@1  \n201910 2013-07-23 15:48:26+00:00      266872@1  \n201911 2013-07-23 19:00:04+00:00      266872@1  \n201912 2013-07-23 19:52:37+00:00      266872@1  \n\n[201913 rows x 10 columns]",
      "text/html": "<div>\n<style scoped>\n    .dataframe tbody tr th:only-of-type {\n        vertical-align: middle;\n    }\n\n    .dataframe tbody tr th {\n        vertical-align: top;\n    }\n\n    .dataframe thead th {\n        text-align: right;\n    }\n</style>\n<table border=\"1\" class=\"dataframe\">\n  <thead>\n    <tr style=\"text-align: right;\">\n      <th></th>\n      <th>business_id</th>\n      <th>latitude</th>\n      <th>longitude</th>\n      <th>cat_name</th>\n      <th>country</th>\n      <th>user_id</th>\n      <th>utc_time</th>\n      <th>zone_offset</th>\n      <th>local_time</th>\n      <th>trajectory_id</th>\n    </tr>\n  </thead>\n  <tbody>\n    <tr>\n      <th>0</th>\n      <td>4e94f6845c5c3201e8ea90f0</td>\n      <td>1.310790</td>\n      <td>103.720520</td>\n      <td>Office</td>\n      <td>SG</td>\n      <td>16</td>\n      <td>2012-04-04 09:10:49+00:00</td>\n      <td>480</td>\n      <td>2012-04-04 17:10:49+00:00</td>\n      <td>16@1</td>\n    </tr>\n    <tr>\n      <th>1</th>\n      <td>4c84c1f4d92ea093aec25f72</td>\n      <td>1.296405</td>\n      <td>103.850241</td>\n      <td>University</td>\n      <td>SG</td>\n      <td>16</td>\n      <td>2012-04-04 10:14:32+00:00</td>\n      <td>480</td>\n      <td>2012-04-04 18:14:32+00:00</td>\n      <td>16@1</td>\n    </tr>\n    <tr>\n      <th>2</th>\n      <td>4c775cda93faa093a2c5f0fb</td>\n      <td>1.301253</td>\n      <td>103.837023</td>\n      <td>Mall</td>\n      <td>SG</td>\n      <td>16</td>\n      <td>2012-04-04 13:13:21+00:00</td>\n      <td>480</td>\n      <td>2012-04-04 21:13:21+00:00</td>\n      <td>16@1</td>\n    </tr>\n    <tr>\n      <th>3</th>\n      <td>4b058814f964a52080b022e3</td>\n      <td>1.300642</td>\n      <td>103.844898</td>\n      <td>Multiplex</td>\n      <td>SG</td>\n      <td>16</td>\n      <td>2012-04-04 13:31:37+00:00</td>\n      <td>480</td>\n      <td>2012-04-04 21:31:37+00:00</td>\n      <td>16@1</td>\n    </tr>\n    <tr>\n      <th>4</th>\n      <td>4e94f6845c5c3201e8ea90f0</td>\n      <td>1.310790</td>\n      <td>103.720520</td>\n      <td>Office</td>\n      <td>SG</td>\n      <td>16</td>\n      <td>2012-04-05 09:07:23+00:00</td>\n      <td>480</td>\n      <td>2012-04-05 17:07:23+00:00</td>\n      <td>16@1</td>\n    </tr>\n    <tr>\n      <th>...</th>\n      <td>...</td>\n      <td>...</td>\n      <td>...</td>\n      <td>...</td>\n      <td>...</td>\n      <td>...</td>\n      <td>...</td>\n      <td>...</td>\n      <td>...</td>\n      <td>...</td>\n    </tr>\n    <tr>\n      <th>201908</th>\n      <td>4b932271f964a520073734e3</td>\n      <td>1.372859</td>\n      <td>103.949332</td>\n      <td>Train Station</td>\n      <td>SG</td>\n      <td>266723</td>\n      <td>2013-08-02 00:25:41+00:00</td>\n      <td>480</td>\n      <td>2013-08-02 08:25:41+00:00</td>\n      <td>266723@8</td>\n    </tr>\n    <tr>\n      <th>201909</th>\n      <td>4b05880bf964a520b7ad22e3</td>\n      <td>1.307516</td>\n      <td>103.827931</td>\n      <td>Hotel</td>\n      <td>SG</td>\n      <td>266872</td>\n      <td>2013-07-22 16:17:55+00:00</td>\n      <td>480</td>\n      <td>2013-07-23 00:17:55+00:00</td>\n      <td>266872@1</td>\n    </tr>\n    <tr>\n      <th>201910</th>\n      <td>4b05880bf964a520b7ad22e3</td>\n      <td>1.307516</td>\n      <td>103.827931</td>\n      <td>Hotel</td>\n      <td>SG</td>\n      <td>266872</td>\n      <td>2013-07-23 07:48:26+00:00</td>\n      <td>480</td>\n      <td>2013-07-23 15:48:26+00:00</td>\n      <td>266872@1</td>\n    </tr>\n    <tr>\n      <th>201911</th>\n      <td>4b08e700f964a520421323e3</td>\n      <td>1.304783</td>\n      <td>103.831938</td>\n      <td>Mall</td>\n      <td>SG</td>\n      <td>266872</td>\n      <td>2013-07-23 11:00:04+00:00</td>\n      <td>480</td>\n      <td>2013-07-23 19:00:04+00:00</td>\n      <td>266872@1</td>\n    </tr>\n    <tr>\n      <th>201912</th>\n      <td>4b05880af964a52097ad22e3</td>\n      <td>1.302369</td>\n      <td>103.836164</td>\n      <td>Hotel</td>\n      <td>SG</td>\n      <td>266872</td>\n      <td>2013-07-23 11:52:37+00:00</td>\n      <td>480</td>\n      <td>2013-07-23 19:52:37+00:00</td>\n      <td>266872@1</td>\n    </tr>\n  </tbody>\n</table>\n<p>201913 rows × 10 columns</p>\n</div>"
     },
     "execution_count": 74,
     "metadata": {},
     "output_type": "execute_result"
    }
   ],
   "source": [
    "p1 = pd.concat(p1_list).reset_index(drop=True)\n",
    "p1"
   ],
   "metadata": {
    "collapsed": false
   }
  },
  {
   "cell_type": "code",
   "execution_count": 75,
   "outputs": [
    {
     "data": {
      "text/plain": "                     business_id  latitude   longitude        cat_name  \\\n0       4e94f6845c5c3201e8ea90f0  1.310790  103.720520          Office   \n1       4c84c1f4d92ea093aec25f72  1.296405  103.850241      University   \n2       4c775cda93faa093a2c5f0fb  1.301253  103.837023            Mall   \n3       4b058814f964a52080b022e3  1.300642  103.844898       Multiplex   \n4       4e94f6845c5c3201e8ea90f0  1.310790  103.720520          Office   \n...                          ...       ...         ...             ...   \n182056  4b058815f964a520a9b022e3  1.310145  103.855216            Mall   \n182057  4b127444f964a520fd8923e3  1.370918  103.892459     Bus Station   \n182058  4ba0ddaaf964a520298337e3  1.368064  103.955007  Home (private)   \n182059  4b87b5a6f964a5202ac831e3  1.373546  103.949536     Bus Station   \n182060  4b932271f964a520073734e3  1.372859  103.949332   Train Station   \n\n       country  user_id                  utc_time  zone_offset  \\\n0           SG       16 2012-04-04 09:10:49+00:00          480   \n1           SG       16 2012-04-04 10:14:32+00:00          480   \n2           SG       16 2012-04-04 13:13:21+00:00          480   \n3           SG       16 2012-04-04 13:31:37+00:00          480   \n4           SG       16 2012-04-05 09:07:23+00:00          480   \n...        ...      ...                       ...          ...   \n182056      SG   266723 2013-04-09 03:13:21+00:00          480   \n182057      SG   266723 2013-04-09 08:05:25+00:00          480   \n182058      SG   266723 2013-08-01 23:46:35+00:00          480   \n182059      SG   266723 2013-08-02 00:20:48+00:00          480   \n182060      SG   266723 2013-08-02 00:25:41+00:00          480   \n\n                      local_time trajectory_id  \n0      2012-04-04 17:10:49+00:00          16@1  \n1      2012-04-04 18:14:32+00:00          16@1  \n2      2012-04-04 21:13:21+00:00          16@1  \n3      2012-04-04 21:31:37+00:00          16@1  \n4      2012-04-05 17:07:23+00:00          16@1  \n...                          ...           ...  \n182056 2013-04-09 11:13:21+00:00      266723@7  \n182057 2013-04-09 16:05:25+00:00      266723@7  \n182058 2013-08-02 07:46:35+00:00      266723@8  \n182059 2013-08-02 08:20:48+00:00      266723@8  \n182060 2013-08-02 08:25:41+00:00      266723@8  \n\n[182061 rows x 10 columns]",
      "text/html": "<div>\n<style scoped>\n    .dataframe tbody tr th:only-of-type {\n        vertical-align: middle;\n    }\n\n    .dataframe tbody tr th {\n        vertical-align: top;\n    }\n\n    .dataframe thead th {\n        text-align: right;\n    }\n</style>\n<table border=\"1\" class=\"dataframe\">\n  <thead>\n    <tr style=\"text-align: right;\">\n      <th></th>\n      <th>business_id</th>\n      <th>latitude</th>\n      <th>longitude</th>\n      <th>cat_name</th>\n      <th>country</th>\n      <th>user_id</th>\n      <th>utc_time</th>\n      <th>zone_offset</th>\n      <th>local_time</th>\n      <th>trajectory_id</th>\n    </tr>\n  </thead>\n  <tbody>\n    <tr>\n      <th>0</th>\n      <td>4e94f6845c5c3201e8ea90f0</td>\n      <td>1.310790</td>\n      <td>103.720520</td>\n      <td>Office</td>\n      <td>SG</td>\n      <td>16</td>\n      <td>2012-04-04 09:10:49+00:00</td>\n      <td>480</td>\n      <td>2012-04-04 17:10:49+00:00</td>\n      <td>16@1</td>\n    </tr>\n    <tr>\n      <th>1</th>\n      <td>4c84c1f4d92ea093aec25f72</td>\n      <td>1.296405</td>\n      <td>103.850241</td>\n      <td>University</td>\n      <td>SG</td>\n      <td>16</td>\n      <td>2012-04-04 10:14:32+00:00</td>\n      <td>480</td>\n      <td>2012-04-04 18:14:32+00:00</td>\n      <td>16@1</td>\n    </tr>\n    <tr>\n      <th>2</th>\n      <td>4c775cda93faa093a2c5f0fb</td>\n      <td>1.301253</td>\n      <td>103.837023</td>\n      <td>Mall</td>\n      <td>SG</td>\n      <td>16</td>\n      <td>2012-04-04 13:13:21+00:00</td>\n      <td>480</td>\n      <td>2012-04-04 21:13:21+00:00</td>\n      <td>16@1</td>\n    </tr>\n    <tr>\n      <th>3</th>\n      <td>4b058814f964a52080b022e3</td>\n      <td>1.300642</td>\n      <td>103.844898</td>\n      <td>Multiplex</td>\n      <td>SG</td>\n      <td>16</td>\n      <td>2012-04-04 13:31:37+00:00</td>\n      <td>480</td>\n      <td>2012-04-04 21:31:37+00:00</td>\n      <td>16@1</td>\n    </tr>\n    <tr>\n      <th>4</th>\n      <td>4e94f6845c5c3201e8ea90f0</td>\n      <td>1.310790</td>\n      <td>103.720520</td>\n      <td>Office</td>\n      <td>SG</td>\n      <td>16</td>\n      <td>2012-04-05 09:07:23+00:00</td>\n      <td>480</td>\n      <td>2012-04-05 17:07:23+00:00</td>\n      <td>16@1</td>\n    </tr>\n    <tr>\n      <th>...</th>\n      <td>...</td>\n      <td>...</td>\n      <td>...</td>\n      <td>...</td>\n      <td>...</td>\n      <td>...</td>\n      <td>...</td>\n      <td>...</td>\n      <td>...</td>\n      <td>...</td>\n    </tr>\n    <tr>\n      <th>182056</th>\n      <td>4b058815f964a520a9b022e3</td>\n      <td>1.310145</td>\n      <td>103.855216</td>\n      <td>Mall</td>\n      <td>SG</td>\n      <td>266723</td>\n      <td>2013-04-09 03:13:21+00:00</td>\n      <td>480</td>\n      <td>2013-04-09 11:13:21+00:00</td>\n      <td>266723@7</td>\n    </tr>\n    <tr>\n      <th>182057</th>\n      <td>4b127444f964a520fd8923e3</td>\n      <td>1.370918</td>\n      <td>103.892459</td>\n      <td>Bus Station</td>\n      <td>SG</td>\n      <td>266723</td>\n      <td>2013-04-09 08:05:25+00:00</td>\n      <td>480</td>\n      <td>2013-04-09 16:05:25+00:00</td>\n      <td>266723@7</td>\n    </tr>\n    <tr>\n      <th>182058</th>\n      <td>4ba0ddaaf964a520298337e3</td>\n      <td>1.368064</td>\n      <td>103.955007</td>\n      <td>Home (private)</td>\n      <td>SG</td>\n      <td>266723</td>\n      <td>2013-08-01 23:46:35+00:00</td>\n      <td>480</td>\n      <td>2013-08-02 07:46:35+00:00</td>\n      <td>266723@8</td>\n    </tr>\n    <tr>\n      <th>182059</th>\n      <td>4b87b5a6f964a5202ac831e3</td>\n      <td>1.373546</td>\n      <td>103.949536</td>\n      <td>Bus Station</td>\n      <td>SG</td>\n      <td>266723</td>\n      <td>2013-08-02 00:20:48+00:00</td>\n      <td>480</td>\n      <td>2013-08-02 08:20:48+00:00</td>\n      <td>266723@8</td>\n    </tr>\n    <tr>\n      <th>182060</th>\n      <td>4b932271f964a520073734e3</td>\n      <td>1.372859</td>\n      <td>103.949332</td>\n      <td>Train Station</td>\n      <td>SG</td>\n      <td>266723</td>\n      <td>2013-08-02 00:25:41+00:00</td>\n      <td>480</td>\n      <td>2013-08-02 08:25:41+00:00</td>\n      <td>266723@8</td>\n    </tr>\n  </tbody>\n</table>\n<p>182061 rows × 10 columns</p>\n</div>"
     },
     "execution_count": 75,
     "metadata": {},
     "output_type": "execute_result"
    }
   ],
   "source": [
    "p2 = p1.groupby('user_id').filter(lambda x: retain_users_with_trajectories(x, 5)).reset_index(drop=True)\n",
    "p2"
   ],
   "metadata": {
    "collapsed": false
   }
  },
  {
   "cell_type": "code",
   "execution_count": 76,
   "outputs": [
    {
     "data": {
      "text/plain": "                     business_id  latitude   longitude        cat_name  \\\n0       4e94f6845c5c3201e8ea90f0  1.310790  103.720520          Office   \n1       4c84c1f4d92ea093aec25f72  1.296405  103.850241      University   \n2       4c775cda93faa093a2c5f0fb  1.301253  103.837023            Mall   \n3       4b058814f964a52080b022e3  1.300642  103.844898       Multiplex   \n4       4e94f6845c5c3201e8ea90f0  1.310790  103.720520          Office   \n...                          ...       ...         ...             ...   \n182056  4b058815f964a520a9b022e3  1.310145  103.855216            Mall   \n182057  4b127444f964a520fd8923e3  1.370918  103.892459     Bus Station   \n182058  4ba0ddaaf964a520298337e3  1.368064  103.955007  Home (private)   \n182059  4b87b5a6f964a5202ac831e3  1.373546  103.949536     Bus Station   \n182060  4b932271f964a520073734e3  1.372859  103.949332   Train Station   \n\n       country  user_id                  utc_time  zone_offset  \\\n0           SG       16 2012-04-04 09:10:49+00:00          480   \n1           SG       16 2012-04-04 10:14:32+00:00          480   \n2           SG       16 2012-04-04 13:13:21+00:00          480   \n3           SG       16 2012-04-04 13:31:37+00:00          480   \n4           SG       16 2012-04-05 09:07:23+00:00          480   \n...        ...      ...                       ...          ...   \n182056      SG   266723 2013-04-09 03:13:21+00:00          480   \n182057      SG   266723 2013-04-09 08:05:25+00:00          480   \n182058      SG   266723 2013-08-01 23:46:35+00:00          480   \n182059      SG   266723 2013-08-02 00:20:48+00:00          480   \n182060      SG   266723 2013-08-02 00:25:41+00:00          480   \n\n                      local_time trajectory_id  \n0      2012-04-04 17:10:49+00:00          16@1  \n1      2012-04-04 18:14:32+00:00          16@1  \n2      2012-04-04 21:13:21+00:00          16@1  \n3      2012-04-04 21:31:37+00:00          16@1  \n4      2012-04-05 17:07:23+00:00          16@1  \n...                          ...           ...  \n182056 2013-04-09 11:13:21+00:00      266723@7  \n182057 2013-04-09 16:05:25+00:00      266723@7  \n182058 2013-08-02 07:46:35+00:00      266723@8  \n182059 2013-08-02 08:20:48+00:00      266723@8  \n182060 2013-08-02 08:25:41+00:00      266723@8  \n\n[153575 rows x 10 columns]",
      "text/html": "<div>\n<style scoped>\n    .dataframe tbody tr th:only-of-type {\n        vertical-align: middle;\n    }\n\n    .dataframe tbody tr th {\n        vertical-align: top;\n    }\n\n    .dataframe thead th {\n        text-align: right;\n    }\n</style>\n<table border=\"1\" class=\"dataframe\">\n  <thead>\n    <tr style=\"text-align: right;\">\n      <th></th>\n      <th>business_id</th>\n      <th>latitude</th>\n      <th>longitude</th>\n      <th>cat_name</th>\n      <th>country</th>\n      <th>user_id</th>\n      <th>utc_time</th>\n      <th>zone_offset</th>\n      <th>local_time</th>\n      <th>trajectory_id</th>\n    </tr>\n  </thead>\n  <tbody>\n    <tr>\n      <th>0</th>\n      <td>4e94f6845c5c3201e8ea90f0</td>\n      <td>1.310790</td>\n      <td>103.720520</td>\n      <td>Office</td>\n      <td>SG</td>\n      <td>16</td>\n      <td>2012-04-04 09:10:49+00:00</td>\n      <td>480</td>\n      <td>2012-04-04 17:10:49+00:00</td>\n      <td>16@1</td>\n    </tr>\n    <tr>\n      <th>1</th>\n      <td>4c84c1f4d92ea093aec25f72</td>\n      <td>1.296405</td>\n      <td>103.850241</td>\n      <td>University</td>\n      <td>SG</td>\n      <td>16</td>\n      <td>2012-04-04 10:14:32+00:00</td>\n      <td>480</td>\n      <td>2012-04-04 18:14:32+00:00</td>\n      <td>16@1</td>\n    </tr>\n    <tr>\n      <th>2</th>\n      <td>4c775cda93faa093a2c5f0fb</td>\n      <td>1.301253</td>\n      <td>103.837023</td>\n      <td>Mall</td>\n      <td>SG</td>\n      <td>16</td>\n      <td>2012-04-04 13:13:21+00:00</td>\n      <td>480</td>\n      <td>2012-04-04 21:13:21+00:00</td>\n      <td>16@1</td>\n    </tr>\n    <tr>\n      <th>3</th>\n      <td>4b058814f964a52080b022e3</td>\n      <td>1.300642</td>\n      <td>103.844898</td>\n      <td>Multiplex</td>\n      <td>SG</td>\n      <td>16</td>\n      <td>2012-04-04 13:31:37+00:00</td>\n      <td>480</td>\n      <td>2012-04-04 21:31:37+00:00</td>\n      <td>16@1</td>\n    </tr>\n    <tr>\n      <th>4</th>\n      <td>4e94f6845c5c3201e8ea90f0</td>\n      <td>1.310790</td>\n      <td>103.720520</td>\n      <td>Office</td>\n      <td>SG</td>\n      <td>16</td>\n      <td>2012-04-05 09:07:23+00:00</td>\n      <td>480</td>\n      <td>2012-04-05 17:07:23+00:00</td>\n      <td>16@1</td>\n    </tr>\n    <tr>\n      <th>...</th>\n      <td>...</td>\n      <td>...</td>\n      <td>...</td>\n      <td>...</td>\n      <td>...</td>\n      <td>...</td>\n      <td>...</td>\n      <td>...</td>\n      <td>...</td>\n      <td>...</td>\n    </tr>\n    <tr>\n      <th>182056</th>\n      <td>4b058815f964a520a9b022e3</td>\n      <td>1.310145</td>\n      <td>103.855216</td>\n      <td>Mall</td>\n      <td>SG</td>\n      <td>266723</td>\n      <td>2013-04-09 03:13:21+00:00</td>\n      <td>480</td>\n      <td>2013-04-09 11:13:21+00:00</td>\n      <td>266723@7</td>\n    </tr>\n    <tr>\n      <th>182057</th>\n      <td>4b127444f964a520fd8923e3</td>\n      <td>1.370918</td>\n      <td>103.892459</td>\n      <td>Bus Station</td>\n      <td>SG</td>\n      <td>266723</td>\n      <td>2013-04-09 08:05:25+00:00</td>\n      <td>480</td>\n      <td>2013-04-09 16:05:25+00:00</td>\n      <td>266723@7</td>\n    </tr>\n    <tr>\n      <th>182058</th>\n      <td>4ba0ddaaf964a520298337e3</td>\n      <td>1.368064</td>\n      <td>103.955007</td>\n      <td>Home (private)</td>\n      <td>SG</td>\n      <td>266723</td>\n      <td>2013-08-01 23:46:35+00:00</td>\n      <td>480</td>\n      <td>2013-08-02 07:46:35+00:00</td>\n      <td>266723@8</td>\n    </tr>\n    <tr>\n      <th>182059</th>\n      <td>4b87b5a6f964a5202ac831e3</td>\n      <td>1.373546</td>\n      <td>103.949536</td>\n      <td>Bus Station</td>\n      <td>SG</td>\n      <td>266723</td>\n      <td>2013-08-02 00:20:48+00:00</td>\n      <td>480</td>\n      <td>2013-08-02 08:20:48+00:00</td>\n      <td>266723@8</td>\n    </tr>\n    <tr>\n      <th>182060</th>\n      <td>4b932271f964a520073734e3</td>\n      <td>1.372859</td>\n      <td>103.949332</td>\n      <td>Train Station</td>\n      <td>SG</td>\n      <td>266723</td>\n      <td>2013-08-02 00:25:41+00:00</td>\n      <td>480</td>\n      <td>2013-08-02 08:25:41+00:00</td>\n      <td>266723@8</td>\n    </tr>\n  </tbody>\n</table>\n<p>153575 rows × 10 columns</p>\n</div>"
     },
     "execution_count": 76,
     "metadata": {},
     "output_type": "execute_result"
    }
   ],
   "source": [
    "retain = []\n",
    "for i, count in zip(p2['business_id'].value_counts().index, p2['business_id'].value_counts()):\n",
    "    if count >= 5:\n",
    "        retain.append(i)\n",
    "    else:\n",
    "        break\n",
    "p3 = p2[p2['business_id'].isin(retain)]\n",
    "p3"
   ],
   "metadata": {
    "collapsed": false
   }
  },
  {
   "cell_type": "code",
   "execution_count": 77,
   "outputs": [
    {
     "data": {
      "text/plain": "4c775cda93faa093a2c5f0fb    1881\n4b5da988f964a520ae6529e3    1575\n4b08e700f964a520421323e3    1402\n4b44cd7af964a520a3fc25e3    1330\n4b058818f964a520a7b122e3    1309\n                            ... \n4b910942f964a5203da033e3       5\n4c3c6e6b3d1b897c2d83419c       5\n4b05880ff964a52002af22e3       5\n4c812572e602b1f7bdd48f7a       5\n4e12e70a1838f8ad8168a2ac       5\nName: business_id, Length: 6074, dtype: int64"
     },
     "execution_count": 77,
     "metadata": {},
     "output_type": "execute_result"
    }
   ],
   "source": [
    "p3['business_id'].value_counts()"
   ],
   "metadata": {
    "collapsed": false
   }
  },
  {
   "cell_type": "code",
   "execution_count": 78,
   "outputs": [
    {
     "data": {
      "text/plain": "                     business_id  latitude   longitude        cat_name  \\\n0       4e94f6845c5c3201e8ea90f0  1.310790  103.720520          Office   \n1       4c84c1f4d92ea093aec25f72  1.296405  103.850241      University   \n2       4c775cda93faa093a2c5f0fb  1.301253  103.837023            Mall   \n3       4b058814f964a52080b022e3  1.300642  103.844898       Multiplex   \n4       4e94f6845c5c3201e8ea90f0  1.310790  103.720520          Office   \n...                          ...       ...         ...             ...   \n182056  4b058815f964a520a9b022e3  1.310145  103.855216            Mall   \n182057  4b127444f964a520fd8923e3  1.370918  103.892459     Bus Station   \n182058  4ba0ddaaf964a520298337e3  1.368064  103.955007  Home (private)   \n182059  4b87b5a6f964a5202ac831e3  1.373546  103.949536     Bus Station   \n182060  4b932271f964a520073734e3  1.372859  103.949332   Train Station   \n\n       country  user_id                  utc_time  zone_offset  \\\n0           SG       16 2012-04-04 09:10:49+00:00          480   \n1           SG       16 2012-04-04 10:14:32+00:00          480   \n2           SG       16 2012-04-04 13:13:21+00:00          480   \n3           SG       16 2012-04-04 13:31:37+00:00          480   \n4           SG       16 2012-04-05 09:07:23+00:00          480   \n...        ...      ...                       ...          ...   \n182056      SG   266723 2013-04-09 03:13:21+00:00          480   \n182057      SG   266723 2013-04-09 08:05:25+00:00          480   \n182058      SG   266723 2013-08-01 23:46:35+00:00          480   \n182059      SG   266723 2013-08-02 00:20:48+00:00          480   \n182060      SG   266723 2013-08-02 00:25:41+00:00          480   \n\n                      local_time trajectory_id  \n0      2012-04-04 17:10:49+00:00          16@1  \n1      2012-04-04 18:14:32+00:00          16@1  \n2      2012-04-04 21:13:21+00:00          16@1  \n3      2012-04-04 21:31:37+00:00          16@1  \n4      2012-04-05 17:07:23+00:00          16@1  \n...                          ...           ...  \n182056 2013-04-09 11:13:21+00:00      266723@7  \n182057 2013-04-09 16:05:25+00:00      266723@7  \n182058 2013-08-02 07:46:35+00:00      266723@8  \n182059 2013-08-02 08:20:48+00:00      266723@8  \n182060 2013-08-02 08:25:41+00:00      266723@8  \n\n[140471 rows x 10 columns]",
      "text/html": "<div>\n<style scoped>\n    .dataframe tbody tr th:only-of-type {\n        vertical-align: middle;\n    }\n\n    .dataframe tbody tr th {\n        vertical-align: top;\n    }\n\n    .dataframe thead th {\n        text-align: right;\n    }\n</style>\n<table border=\"1\" class=\"dataframe\">\n  <thead>\n    <tr style=\"text-align: right;\">\n      <th></th>\n      <th>business_id</th>\n      <th>latitude</th>\n      <th>longitude</th>\n      <th>cat_name</th>\n      <th>country</th>\n      <th>user_id</th>\n      <th>utc_time</th>\n      <th>zone_offset</th>\n      <th>local_time</th>\n      <th>trajectory_id</th>\n    </tr>\n  </thead>\n  <tbody>\n    <tr>\n      <th>0</th>\n      <td>4e94f6845c5c3201e8ea90f0</td>\n      <td>1.310790</td>\n      <td>103.720520</td>\n      <td>Office</td>\n      <td>SG</td>\n      <td>16</td>\n      <td>2012-04-04 09:10:49+00:00</td>\n      <td>480</td>\n      <td>2012-04-04 17:10:49+00:00</td>\n      <td>16@1</td>\n    </tr>\n    <tr>\n      <th>1</th>\n      <td>4c84c1f4d92ea093aec25f72</td>\n      <td>1.296405</td>\n      <td>103.850241</td>\n      <td>University</td>\n      <td>SG</td>\n      <td>16</td>\n      <td>2012-04-04 10:14:32+00:00</td>\n      <td>480</td>\n      <td>2012-04-04 18:14:32+00:00</td>\n      <td>16@1</td>\n    </tr>\n    <tr>\n      <th>2</th>\n      <td>4c775cda93faa093a2c5f0fb</td>\n      <td>1.301253</td>\n      <td>103.837023</td>\n      <td>Mall</td>\n      <td>SG</td>\n      <td>16</td>\n      <td>2012-04-04 13:13:21+00:00</td>\n      <td>480</td>\n      <td>2012-04-04 21:13:21+00:00</td>\n      <td>16@1</td>\n    </tr>\n    <tr>\n      <th>3</th>\n      <td>4b058814f964a52080b022e3</td>\n      <td>1.300642</td>\n      <td>103.844898</td>\n      <td>Multiplex</td>\n      <td>SG</td>\n      <td>16</td>\n      <td>2012-04-04 13:31:37+00:00</td>\n      <td>480</td>\n      <td>2012-04-04 21:31:37+00:00</td>\n      <td>16@1</td>\n    </tr>\n    <tr>\n      <th>4</th>\n      <td>4e94f6845c5c3201e8ea90f0</td>\n      <td>1.310790</td>\n      <td>103.720520</td>\n      <td>Office</td>\n      <td>SG</td>\n      <td>16</td>\n      <td>2012-04-05 09:07:23+00:00</td>\n      <td>480</td>\n      <td>2012-04-05 17:07:23+00:00</td>\n      <td>16@1</td>\n    </tr>\n    <tr>\n      <th>...</th>\n      <td>...</td>\n      <td>...</td>\n      <td>...</td>\n      <td>...</td>\n      <td>...</td>\n      <td>...</td>\n      <td>...</td>\n      <td>...</td>\n      <td>...</td>\n      <td>...</td>\n    </tr>\n    <tr>\n      <th>182056</th>\n      <td>4b058815f964a520a9b022e3</td>\n      <td>1.310145</td>\n      <td>103.855216</td>\n      <td>Mall</td>\n      <td>SG</td>\n      <td>266723</td>\n      <td>2013-04-09 03:13:21+00:00</td>\n      <td>480</td>\n      <td>2013-04-09 11:13:21+00:00</td>\n      <td>266723@7</td>\n    </tr>\n    <tr>\n      <th>182057</th>\n      <td>4b127444f964a520fd8923e3</td>\n      <td>1.370918</td>\n      <td>103.892459</td>\n      <td>Bus Station</td>\n      <td>SG</td>\n      <td>266723</td>\n      <td>2013-04-09 08:05:25+00:00</td>\n      <td>480</td>\n      <td>2013-04-09 16:05:25+00:00</td>\n      <td>266723@7</td>\n    </tr>\n    <tr>\n      <th>182058</th>\n      <td>4ba0ddaaf964a520298337e3</td>\n      <td>1.368064</td>\n      <td>103.955007</td>\n      <td>Home (private)</td>\n      <td>SG</td>\n      <td>266723</td>\n      <td>2013-08-01 23:46:35+00:00</td>\n      <td>480</td>\n      <td>2013-08-02 07:46:35+00:00</td>\n      <td>266723@8</td>\n    </tr>\n    <tr>\n      <th>182059</th>\n      <td>4b87b5a6f964a5202ac831e3</td>\n      <td>1.373546</td>\n      <td>103.949536</td>\n      <td>Bus Station</td>\n      <td>SG</td>\n      <td>266723</td>\n      <td>2013-08-02 00:20:48+00:00</td>\n      <td>480</td>\n      <td>2013-08-02 08:20:48+00:00</td>\n      <td>266723@8</td>\n    </tr>\n    <tr>\n      <th>182060</th>\n      <td>4b932271f964a520073734e3</td>\n      <td>1.372859</td>\n      <td>103.949332</td>\n      <td>Train Station</td>\n      <td>SG</td>\n      <td>266723</td>\n      <td>2013-08-02 00:25:41+00:00</td>\n      <td>480</td>\n      <td>2013-08-02 08:25:41+00:00</td>\n      <td>266723@8</td>\n    </tr>\n  </tbody>\n</table>\n<p>140471 rows × 10 columns</p>\n</div>"
     },
     "execution_count": 78,
     "metadata": {},
     "output_type": "execute_result"
    }
   ],
   "source": [
    "p4 = p3.groupby('trajectory_id').filter(lambda x: len(x) >= 3)\n",
    "p4"
   ],
   "metadata": {
    "collapsed": false
   }
  },
  {
   "cell_type": "code",
   "execution_count": 79,
   "outputs": [
    {
     "data": {
      "text/plain": "                     business_id  latitude   longitude        cat_name  \\\n0       4e94f6845c5c3201e8ea90f0  1.310790  103.720520          Office   \n1       4c84c1f4d92ea093aec25f72  1.296405  103.850241      University   \n2       4c775cda93faa093a2c5f0fb  1.301253  103.837023            Mall   \n3       4b058814f964a52080b022e3  1.300642  103.844898       Multiplex   \n4       4e94f6845c5c3201e8ea90f0  1.310790  103.720520          Office   \n...                          ...       ...         ...             ...   \n135781  4b058815f964a520a9b022e3  1.310145  103.855216            Mall   \n135782  4b127444f964a520fd8923e3  1.370918  103.892459     Bus Station   \n135783  4ba0ddaaf964a520298337e3  1.368064  103.955007  Home (private)   \n135784  4b87b5a6f964a5202ac831e3  1.373546  103.949536     Bus Station   \n135785  4b932271f964a520073734e3  1.372859  103.949332   Train Station   \n\n       country  user_id                  utc_time  zone_offset  \\\n0           SG       16 2012-04-04 09:10:49+00:00          480   \n1           SG       16 2012-04-04 10:14:32+00:00          480   \n2           SG       16 2012-04-04 13:13:21+00:00          480   \n3           SG       16 2012-04-04 13:31:37+00:00          480   \n4           SG       16 2012-04-05 09:07:23+00:00          480   \n...        ...      ...                       ...          ...   \n135781      SG   266723 2013-04-09 03:13:21+00:00          480   \n135782      SG   266723 2013-04-09 08:05:25+00:00          480   \n135783      SG   266723 2013-08-01 23:46:35+00:00          480   \n135784      SG   266723 2013-08-02 00:20:48+00:00          480   \n135785      SG   266723 2013-08-02 00:25:41+00:00          480   \n\n                      local_time trajectory_id  \n0      2012-04-04 17:10:49+00:00          16@1  \n1      2012-04-04 18:14:32+00:00          16@1  \n2      2012-04-04 21:13:21+00:00          16@1  \n3      2012-04-04 21:31:37+00:00          16@1  \n4      2012-04-05 17:07:23+00:00          16@1  \n...                          ...           ...  \n135781 2013-04-09 11:13:21+00:00      266723@7  \n135782 2013-04-09 16:05:25+00:00      266723@7  \n135783 2013-08-02 07:46:35+00:00      266723@8  \n135784 2013-08-02 08:20:48+00:00      266723@8  \n135785 2013-08-02 08:25:41+00:00      266723@8  \n\n[135786 rows x 10 columns]",
      "text/html": "<div>\n<style scoped>\n    .dataframe tbody tr th:only-of-type {\n        vertical-align: middle;\n    }\n\n    .dataframe tbody tr th {\n        vertical-align: top;\n    }\n\n    .dataframe thead th {\n        text-align: right;\n    }\n</style>\n<table border=\"1\" class=\"dataframe\">\n  <thead>\n    <tr style=\"text-align: right;\">\n      <th></th>\n      <th>business_id</th>\n      <th>latitude</th>\n      <th>longitude</th>\n      <th>cat_name</th>\n      <th>country</th>\n      <th>user_id</th>\n      <th>utc_time</th>\n      <th>zone_offset</th>\n      <th>local_time</th>\n      <th>trajectory_id</th>\n    </tr>\n  </thead>\n  <tbody>\n    <tr>\n      <th>0</th>\n      <td>4e94f6845c5c3201e8ea90f0</td>\n      <td>1.310790</td>\n      <td>103.720520</td>\n      <td>Office</td>\n      <td>SG</td>\n      <td>16</td>\n      <td>2012-04-04 09:10:49+00:00</td>\n      <td>480</td>\n      <td>2012-04-04 17:10:49+00:00</td>\n      <td>16@1</td>\n    </tr>\n    <tr>\n      <th>1</th>\n      <td>4c84c1f4d92ea093aec25f72</td>\n      <td>1.296405</td>\n      <td>103.850241</td>\n      <td>University</td>\n      <td>SG</td>\n      <td>16</td>\n      <td>2012-04-04 10:14:32+00:00</td>\n      <td>480</td>\n      <td>2012-04-04 18:14:32+00:00</td>\n      <td>16@1</td>\n    </tr>\n    <tr>\n      <th>2</th>\n      <td>4c775cda93faa093a2c5f0fb</td>\n      <td>1.301253</td>\n      <td>103.837023</td>\n      <td>Mall</td>\n      <td>SG</td>\n      <td>16</td>\n      <td>2012-04-04 13:13:21+00:00</td>\n      <td>480</td>\n      <td>2012-04-04 21:13:21+00:00</td>\n      <td>16@1</td>\n    </tr>\n    <tr>\n      <th>3</th>\n      <td>4b058814f964a52080b022e3</td>\n      <td>1.300642</td>\n      <td>103.844898</td>\n      <td>Multiplex</td>\n      <td>SG</td>\n      <td>16</td>\n      <td>2012-04-04 13:31:37+00:00</td>\n      <td>480</td>\n      <td>2012-04-04 21:31:37+00:00</td>\n      <td>16@1</td>\n    </tr>\n    <tr>\n      <th>4</th>\n      <td>4e94f6845c5c3201e8ea90f0</td>\n      <td>1.310790</td>\n      <td>103.720520</td>\n      <td>Office</td>\n      <td>SG</td>\n      <td>16</td>\n      <td>2012-04-05 09:07:23+00:00</td>\n      <td>480</td>\n      <td>2012-04-05 17:07:23+00:00</td>\n      <td>16@1</td>\n    </tr>\n    <tr>\n      <th>...</th>\n      <td>...</td>\n      <td>...</td>\n      <td>...</td>\n      <td>...</td>\n      <td>...</td>\n      <td>...</td>\n      <td>...</td>\n      <td>...</td>\n      <td>...</td>\n      <td>...</td>\n    </tr>\n    <tr>\n      <th>135781</th>\n      <td>4b058815f964a520a9b022e3</td>\n      <td>1.310145</td>\n      <td>103.855216</td>\n      <td>Mall</td>\n      <td>SG</td>\n      <td>266723</td>\n      <td>2013-04-09 03:13:21+00:00</td>\n      <td>480</td>\n      <td>2013-04-09 11:13:21+00:00</td>\n      <td>266723@7</td>\n    </tr>\n    <tr>\n      <th>135782</th>\n      <td>4b127444f964a520fd8923e3</td>\n      <td>1.370918</td>\n      <td>103.892459</td>\n      <td>Bus Station</td>\n      <td>SG</td>\n      <td>266723</td>\n      <td>2013-04-09 08:05:25+00:00</td>\n      <td>480</td>\n      <td>2013-04-09 16:05:25+00:00</td>\n      <td>266723@7</td>\n    </tr>\n    <tr>\n      <th>135783</th>\n      <td>4ba0ddaaf964a520298337e3</td>\n      <td>1.368064</td>\n      <td>103.955007</td>\n      <td>Home (private)</td>\n      <td>SG</td>\n      <td>266723</td>\n      <td>2013-08-01 23:46:35+00:00</td>\n      <td>480</td>\n      <td>2013-08-02 07:46:35+00:00</td>\n      <td>266723@8</td>\n    </tr>\n    <tr>\n      <th>135784</th>\n      <td>4b87b5a6f964a5202ac831e3</td>\n      <td>1.373546</td>\n      <td>103.949536</td>\n      <td>Bus Station</td>\n      <td>SG</td>\n      <td>266723</td>\n      <td>2013-08-02 00:20:48+00:00</td>\n      <td>480</td>\n      <td>2013-08-02 08:20:48+00:00</td>\n      <td>266723@8</td>\n    </tr>\n    <tr>\n      <th>135785</th>\n      <td>4b932271f964a520073734e3</td>\n      <td>1.372859</td>\n      <td>103.949332</td>\n      <td>Train Station</td>\n      <td>SG</td>\n      <td>266723</td>\n      <td>2013-08-02 00:25:41+00:00</td>\n      <td>480</td>\n      <td>2013-08-02 08:25:41+00:00</td>\n      <td>266723@8</td>\n    </tr>\n  </tbody>\n</table>\n<p>135786 rows × 10 columns</p>\n</div>"
     },
     "execution_count": 79,
     "metadata": {},
     "output_type": "execute_result"
    }
   ],
   "source": [
    "p5 = p4.groupby('user_id').filter(lambda x: check(x)).reset_index(drop=True)\n",
    "p5"
   ],
   "metadata": {
    "collapsed": false
   }
  },
  {
   "cell_type": "code",
   "execution_count": 80,
   "outputs": [
    {
     "data": {
      "text/plain": "                     business_id  latitude   longitude        cat_name  \\\n0       4e94f6845c5c3201e8ea90f0  1.310790  103.720520          Office   \n1       4c84c1f4d92ea093aec25f72  1.296405  103.850241      University   \n2       4c775cda93faa093a2c5f0fb  1.301253  103.837023            Mall   \n3       4b058814f964a52080b022e3  1.300642  103.844898       Multiplex   \n4       4e94f6845c5c3201e8ea90f0  1.310790  103.720520          Office   \n...                          ...       ...         ...             ...   \n135781  4b058815f964a520a9b022e3  1.310145  103.855216            Mall   \n135782  4b127444f964a520fd8923e3  1.370918  103.892459     Bus Station   \n135783  4ba0ddaaf964a520298337e3  1.368064  103.955007  Home (private)   \n135784  4b87b5a6f964a5202ac831e3  1.373546  103.949536     Bus Station   \n135785  4b932271f964a520073734e3  1.372859  103.949332   Train Station   \n\n       country  user_id                  utc_time  zone_offset  \\\n0           SG       16 2012-04-04 09:10:49+00:00          480   \n1           SG       16 2012-04-04 10:14:32+00:00          480   \n2           SG       16 2012-04-04 13:13:21+00:00          480   \n3           SG       16 2012-04-04 13:31:37+00:00          480   \n4           SG       16 2012-04-05 09:07:23+00:00          480   \n...        ...      ...                       ...          ...   \n135781      SG   266723 2013-04-09 03:13:21+00:00          480   \n135782      SG   266723 2013-04-09 08:05:25+00:00          480   \n135783      SG   266723 2013-08-01 23:46:35+00:00          480   \n135784      SG   266723 2013-08-02 00:20:48+00:00          480   \n135785      SG   266723 2013-08-02 00:25:41+00:00          480   \n\n                      local_time trajectory_id  cat_code  \n0      2012-04-04 17:10:49+00:00          16@1         0  \n1      2012-04-04 18:14:32+00:00          16@1         1  \n2      2012-04-04 21:13:21+00:00          16@1         2  \n3      2012-04-04 21:31:37+00:00          16@1         3  \n4      2012-04-05 17:07:23+00:00          16@1         0  \n...                          ...           ...       ...  \n135781 2013-04-09 11:13:21+00:00      266723@7         2  \n135782 2013-04-09 16:05:25+00:00      266723@7         9  \n135783 2013-08-02 07:46:35+00:00      266723@8        81  \n135784 2013-08-02 08:20:48+00:00      266723@8         9  \n135785 2013-08-02 08:25:41+00:00      266723@8        19  \n\n[135786 rows x 11 columns]",
      "text/html": "<div>\n<style scoped>\n    .dataframe tbody tr th:only-of-type {\n        vertical-align: middle;\n    }\n\n    .dataframe tbody tr th {\n        vertical-align: top;\n    }\n\n    .dataframe thead th {\n        text-align: right;\n    }\n</style>\n<table border=\"1\" class=\"dataframe\">\n  <thead>\n    <tr style=\"text-align: right;\">\n      <th></th>\n      <th>business_id</th>\n      <th>latitude</th>\n      <th>longitude</th>\n      <th>cat_name</th>\n      <th>country</th>\n      <th>user_id</th>\n      <th>utc_time</th>\n      <th>zone_offset</th>\n      <th>local_time</th>\n      <th>trajectory_id</th>\n      <th>cat_code</th>\n    </tr>\n  </thead>\n  <tbody>\n    <tr>\n      <th>0</th>\n      <td>4e94f6845c5c3201e8ea90f0</td>\n      <td>1.310790</td>\n      <td>103.720520</td>\n      <td>Office</td>\n      <td>SG</td>\n      <td>16</td>\n      <td>2012-04-04 09:10:49+00:00</td>\n      <td>480</td>\n      <td>2012-04-04 17:10:49+00:00</td>\n      <td>16@1</td>\n      <td>0</td>\n    </tr>\n    <tr>\n      <th>1</th>\n      <td>4c84c1f4d92ea093aec25f72</td>\n      <td>1.296405</td>\n      <td>103.850241</td>\n      <td>University</td>\n      <td>SG</td>\n      <td>16</td>\n      <td>2012-04-04 10:14:32+00:00</td>\n      <td>480</td>\n      <td>2012-04-04 18:14:32+00:00</td>\n      <td>16@1</td>\n      <td>1</td>\n    </tr>\n    <tr>\n      <th>2</th>\n      <td>4c775cda93faa093a2c5f0fb</td>\n      <td>1.301253</td>\n      <td>103.837023</td>\n      <td>Mall</td>\n      <td>SG</td>\n      <td>16</td>\n      <td>2012-04-04 13:13:21+00:00</td>\n      <td>480</td>\n      <td>2012-04-04 21:13:21+00:00</td>\n      <td>16@1</td>\n      <td>2</td>\n    </tr>\n    <tr>\n      <th>3</th>\n      <td>4b058814f964a52080b022e3</td>\n      <td>1.300642</td>\n      <td>103.844898</td>\n      <td>Multiplex</td>\n      <td>SG</td>\n      <td>16</td>\n      <td>2012-04-04 13:31:37+00:00</td>\n      <td>480</td>\n      <td>2012-04-04 21:31:37+00:00</td>\n      <td>16@1</td>\n      <td>3</td>\n    </tr>\n    <tr>\n      <th>4</th>\n      <td>4e94f6845c5c3201e8ea90f0</td>\n      <td>1.310790</td>\n      <td>103.720520</td>\n      <td>Office</td>\n      <td>SG</td>\n      <td>16</td>\n      <td>2012-04-05 09:07:23+00:00</td>\n      <td>480</td>\n      <td>2012-04-05 17:07:23+00:00</td>\n      <td>16@1</td>\n      <td>0</td>\n    </tr>\n    <tr>\n      <th>...</th>\n      <td>...</td>\n      <td>...</td>\n      <td>...</td>\n      <td>...</td>\n      <td>...</td>\n      <td>...</td>\n      <td>...</td>\n      <td>...</td>\n      <td>...</td>\n      <td>...</td>\n      <td>...</td>\n    </tr>\n    <tr>\n      <th>135781</th>\n      <td>4b058815f964a520a9b022e3</td>\n      <td>1.310145</td>\n      <td>103.855216</td>\n      <td>Mall</td>\n      <td>SG</td>\n      <td>266723</td>\n      <td>2013-04-09 03:13:21+00:00</td>\n      <td>480</td>\n      <td>2013-04-09 11:13:21+00:00</td>\n      <td>266723@7</td>\n      <td>2</td>\n    </tr>\n    <tr>\n      <th>135782</th>\n      <td>4b127444f964a520fd8923e3</td>\n      <td>1.370918</td>\n      <td>103.892459</td>\n      <td>Bus Station</td>\n      <td>SG</td>\n      <td>266723</td>\n      <td>2013-04-09 08:05:25+00:00</td>\n      <td>480</td>\n      <td>2013-04-09 16:05:25+00:00</td>\n      <td>266723@7</td>\n      <td>9</td>\n    </tr>\n    <tr>\n      <th>135783</th>\n      <td>4ba0ddaaf964a520298337e3</td>\n      <td>1.368064</td>\n      <td>103.955007</td>\n      <td>Home (private)</td>\n      <td>SG</td>\n      <td>266723</td>\n      <td>2013-08-01 23:46:35+00:00</td>\n      <td>480</td>\n      <td>2013-08-02 07:46:35+00:00</td>\n      <td>266723@8</td>\n      <td>81</td>\n    </tr>\n    <tr>\n      <th>135784</th>\n      <td>4b87b5a6f964a5202ac831e3</td>\n      <td>1.373546</td>\n      <td>103.949536</td>\n      <td>Bus Station</td>\n      <td>SG</td>\n      <td>266723</td>\n      <td>2013-08-02 00:20:48+00:00</td>\n      <td>480</td>\n      <td>2013-08-02 08:20:48+00:00</td>\n      <td>266723@8</td>\n      <td>9</td>\n    </tr>\n    <tr>\n      <th>135785</th>\n      <td>4b932271f964a520073734e3</td>\n      <td>1.372859</td>\n      <td>103.949332</td>\n      <td>Train Station</td>\n      <td>SG</td>\n      <td>266723</td>\n      <td>2013-08-02 00:25:41+00:00</td>\n      <td>480</td>\n      <td>2013-08-02 08:25:41+00:00</td>\n      <td>266723@8</td>\n      <td>19</td>\n    </tr>\n  </tbody>\n</table>\n<p>135786 rows × 11 columns</p>\n</div>"
     },
     "execution_count": 80,
     "metadata": {},
     "output_type": "execute_result"
    }
   ],
   "source": [
    "category_ids = p5['cat_name'].unique()\n",
    "category_reindex_map = {category_ids[i]: i for i in range(len(category_ids))}\n",
    "p5['cat_code'] = p5['cat_name'].map(category_reindex_map)\n",
    "p5"
   ],
   "metadata": {
    "collapsed": false
   }
  },
  {
   "cell_type": "code",
   "execution_count": 81,
   "outputs": [
    {
     "data": {
      "text/plain": "                     business_id  latitude   longitude        cat_name  \\\n0       4e94f6845c5c3201e8ea90f0  1.310790  103.720520          Office   \n1       4c84c1f4d92ea093aec25f72  1.296405  103.850241      University   \n2       4c775cda93faa093a2c5f0fb  1.301253  103.837023            Mall   \n3       4b058814f964a52080b022e3  1.300642  103.844898       Multiplex   \n4       4e94f6845c5c3201e8ea90f0  1.310790  103.720520          Office   \n...                          ...       ...         ...             ...   \n135781  4b058815f964a520a9b022e3  1.310145  103.855216            Mall   \n135782  4b127444f964a520fd8923e3  1.370918  103.892459     Bus Station   \n135783  4ba0ddaaf964a520298337e3  1.368064  103.955007  Home (private)   \n135784  4b87b5a6f964a5202ac831e3  1.373546  103.949536     Bus Station   \n135785  4b932271f964a520073734e3  1.372859  103.949332   Train Station   \n\n       country  user_id                  utc_time  zone_offset  \\\n0           SG       16 2012-04-04 09:10:49+00:00          480   \n1           SG       16 2012-04-04 10:14:32+00:00          480   \n2           SG       16 2012-04-04 13:13:21+00:00          480   \n3           SG       16 2012-04-04 13:31:37+00:00          480   \n4           SG       16 2012-04-05 09:07:23+00:00          480   \n...        ...      ...                       ...          ...   \n135781      SG   266723 2013-04-09 03:13:21+00:00          480   \n135782      SG   266723 2013-04-09 08:05:25+00:00          480   \n135783      SG   266723 2013-08-01 23:46:35+00:00          480   \n135784      SG   266723 2013-08-02 00:20:48+00:00          480   \n135785      SG   266723 2013-08-02 00:25:41+00:00          480   \n\n                      local_time trajectory_id  cat_code              lat_lon  \n0      2012-04-04 17:10:49+00:00          16@1         0    1.31079,103.72052  \n1      2012-04-04 18:14:32+00:00          16@1         1  1.296405,103.850241  \n2      2012-04-04 21:13:21+00:00          16@1         2  1.301253,103.837023  \n3      2012-04-04 21:31:37+00:00          16@1         3  1.300642,103.844898  \n4      2012-04-05 17:07:23+00:00          16@1         0    1.31079,103.72052  \n...                          ...           ...       ...                  ...  \n135781 2013-04-09 11:13:21+00:00      266723@7         2  1.310145,103.855216  \n135782 2013-04-09 16:05:25+00:00      266723@7         9  1.370918,103.892459  \n135783 2013-08-02 07:46:35+00:00      266723@8        81  1.368064,103.955007  \n135784 2013-08-02 08:20:48+00:00      266723@8         9  1.373546,103.949536  \n135785 2013-08-02 08:25:41+00:00      266723@8        19  1.372859,103.949332  \n\n[135786 rows x 12 columns]",
      "text/html": "<div>\n<style scoped>\n    .dataframe tbody tr th:only-of-type {\n        vertical-align: middle;\n    }\n\n    .dataframe tbody tr th {\n        vertical-align: top;\n    }\n\n    .dataframe thead th {\n        text-align: right;\n    }\n</style>\n<table border=\"1\" class=\"dataframe\">\n  <thead>\n    <tr style=\"text-align: right;\">\n      <th></th>\n      <th>business_id</th>\n      <th>latitude</th>\n      <th>longitude</th>\n      <th>cat_name</th>\n      <th>country</th>\n      <th>user_id</th>\n      <th>utc_time</th>\n      <th>zone_offset</th>\n      <th>local_time</th>\n      <th>trajectory_id</th>\n      <th>cat_code</th>\n      <th>lat_lon</th>\n    </tr>\n  </thead>\n  <tbody>\n    <tr>\n      <th>0</th>\n      <td>4e94f6845c5c3201e8ea90f0</td>\n      <td>1.310790</td>\n      <td>103.720520</td>\n      <td>Office</td>\n      <td>SG</td>\n      <td>16</td>\n      <td>2012-04-04 09:10:49+00:00</td>\n      <td>480</td>\n      <td>2012-04-04 17:10:49+00:00</td>\n      <td>16@1</td>\n      <td>0</td>\n      <td>1.31079,103.72052</td>\n    </tr>\n    <tr>\n      <th>1</th>\n      <td>4c84c1f4d92ea093aec25f72</td>\n      <td>1.296405</td>\n      <td>103.850241</td>\n      <td>University</td>\n      <td>SG</td>\n      <td>16</td>\n      <td>2012-04-04 10:14:32+00:00</td>\n      <td>480</td>\n      <td>2012-04-04 18:14:32+00:00</td>\n      <td>16@1</td>\n      <td>1</td>\n      <td>1.296405,103.850241</td>\n    </tr>\n    <tr>\n      <th>2</th>\n      <td>4c775cda93faa093a2c5f0fb</td>\n      <td>1.301253</td>\n      <td>103.837023</td>\n      <td>Mall</td>\n      <td>SG</td>\n      <td>16</td>\n      <td>2012-04-04 13:13:21+00:00</td>\n      <td>480</td>\n      <td>2012-04-04 21:13:21+00:00</td>\n      <td>16@1</td>\n      <td>2</td>\n      <td>1.301253,103.837023</td>\n    </tr>\n    <tr>\n      <th>3</th>\n      <td>4b058814f964a52080b022e3</td>\n      <td>1.300642</td>\n      <td>103.844898</td>\n      <td>Multiplex</td>\n      <td>SG</td>\n      <td>16</td>\n      <td>2012-04-04 13:31:37+00:00</td>\n      <td>480</td>\n      <td>2012-04-04 21:31:37+00:00</td>\n      <td>16@1</td>\n      <td>3</td>\n      <td>1.300642,103.844898</td>\n    </tr>\n    <tr>\n      <th>4</th>\n      <td>4e94f6845c5c3201e8ea90f0</td>\n      <td>1.310790</td>\n      <td>103.720520</td>\n      <td>Office</td>\n      <td>SG</td>\n      <td>16</td>\n      <td>2012-04-05 09:07:23+00:00</td>\n      <td>480</td>\n      <td>2012-04-05 17:07:23+00:00</td>\n      <td>16@1</td>\n      <td>0</td>\n      <td>1.31079,103.72052</td>\n    </tr>\n    <tr>\n      <th>...</th>\n      <td>...</td>\n      <td>...</td>\n      <td>...</td>\n      <td>...</td>\n      <td>...</td>\n      <td>...</td>\n      <td>...</td>\n      <td>...</td>\n      <td>...</td>\n      <td>...</td>\n      <td>...</td>\n      <td>...</td>\n    </tr>\n    <tr>\n      <th>135781</th>\n      <td>4b058815f964a520a9b022e3</td>\n      <td>1.310145</td>\n      <td>103.855216</td>\n      <td>Mall</td>\n      <td>SG</td>\n      <td>266723</td>\n      <td>2013-04-09 03:13:21+00:00</td>\n      <td>480</td>\n      <td>2013-04-09 11:13:21+00:00</td>\n      <td>266723@7</td>\n      <td>2</td>\n      <td>1.310145,103.855216</td>\n    </tr>\n    <tr>\n      <th>135782</th>\n      <td>4b127444f964a520fd8923e3</td>\n      <td>1.370918</td>\n      <td>103.892459</td>\n      <td>Bus Station</td>\n      <td>SG</td>\n      <td>266723</td>\n      <td>2013-04-09 08:05:25+00:00</td>\n      <td>480</td>\n      <td>2013-04-09 16:05:25+00:00</td>\n      <td>266723@7</td>\n      <td>9</td>\n      <td>1.370918,103.892459</td>\n    </tr>\n    <tr>\n      <th>135783</th>\n      <td>4ba0ddaaf964a520298337e3</td>\n      <td>1.368064</td>\n      <td>103.955007</td>\n      <td>Home (private)</td>\n      <td>SG</td>\n      <td>266723</td>\n      <td>2013-08-01 23:46:35+00:00</td>\n      <td>480</td>\n      <td>2013-08-02 07:46:35+00:00</td>\n      <td>266723@8</td>\n      <td>81</td>\n      <td>1.368064,103.955007</td>\n    </tr>\n    <tr>\n      <th>135784</th>\n      <td>4b87b5a6f964a5202ac831e3</td>\n      <td>1.373546</td>\n      <td>103.949536</td>\n      <td>Bus Station</td>\n      <td>SG</td>\n      <td>266723</td>\n      <td>2013-08-02 00:20:48+00:00</td>\n      <td>480</td>\n      <td>2013-08-02 08:20:48+00:00</td>\n      <td>266723@8</td>\n      <td>9</td>\n      <td>1.373546,103.949536</td>\n    </tr>\n    <tr>\n      <th>135785</th>\n      <td>4b932271f964a520073734e3</td>\n      <td>1.372859</td>\n      <td>103.949332</td>\n      <td>Train Station</td>\n      <td>SG</td>\n      <td>266723</td>\n      <td>2013-08-02 00:25:41+00:00</td>\n      <td>480</td>\n      <td>2013-08-02 08:25:41+00:00</td>\n      <td>266723@8</td>\n      <td>19</td>\n      <td>1.372859,103.949332</td>\n    </tr>\n  </tbody>\n</table>\n<p>135786 rows × 12 columns</p>\n</div>"
     },
     "execution_count": 81,
     "metadata": {},
     "output_type": "execute_result"
    }
   ],
   "source": [
    "p5['lat_lon'] = p5['latitude'].map(str) + ',' + p5['longitude'].map(str)\n",
    "p5 = p5.groupby('business_id').apply(lambda x: lon_lat_tuning(x))\n",
    "p5"
   ],
   "metadata": {
    "collapsed": false
   }
  },
  {
   "cell_type": "code",
   "execution_count": 82,
   "outputs": [],
   "source": [
    "all_poi = p5.drop_duplicates(subset=['business_id', 'latitude', 'longitude'])\n",
    "all_business_ids = np.array(all_poi['business_id'])\n",
    "all_lat_lon = np.array(\n",
    "    [[float(x['latitude']), float(x['longitude'])] for _, x in all_poi[['latitude', 'longitude']].iterrows()])"
   ],
   "metadata": {
    "collapsed": false
   }
  },
  {
   "cell_type": "code",
   "execution_count": 83,
   "outputs": [
    {
     "data": {
      "text/plain": "array([ -1,   0,   1,   2,   3,   4,   5,   6,   7,   8,   9,  10,  11,\n        12,  13,  14,  15,  16,  17,  18,  19,  20,  21,  22,  23,  24,\n        25,  26,  27,  28,  29,  30,  31,  32,  33,  34,  35,  36,  37,\n        38,  39,  40,  41,  42,  43,  44,  45,  46,  47,  48,  49,  50,\n        51,  52,  53,  54,  55,  56,  57,  58,  59,  60,  61,  62,  63,\n        64,  65,  66,  67,  68,  69,  70,  71,  72,  73,  74,  75,  76,\n        77,  78,  79,  80,  81,  82,  83,  84,  85,  86,  87,  88,  89,\n        90,  91,  92,  93,  94,  95,  96,  97,  98,  99, 100, 101, 102,\n       103, 104, 105, 106, 107, 108, 109, 110, 111, 112, 113, 114, 115,\n       116, 117, 118, 119, 120, 121, 122, 123, 124], dtype=int64)"
     },
     "execution_count": 83,
     "metadata": {},
     "output_type": "execute_result"
    }
   ],
   "source": [
    "eps = 0.05\n",
    "min_samples = 7\n",
    "clusters = DBSCAN(eps=eps, min_samples=min_samples, metric=haversine).fit(all_lat_lon)\n",
    "np.unique(clusters.labels_)"
   ],
   "metadata": {
    "collapsed": false
   }
  },
  {
   "cell_type": "code",
   "execution_count": 84,
   "outputs": [],
   "source": [
    "individual_poi_map = {x: i for i, x in enumerate(all_business_ids[clusters.labels_ == -1])}"
   ],
   "metadata": {
    "collapsed": false
   }
  },
  {
   "cell_type": "code",
   "execution_count": 85,
   "outputs": [],
   "source": [
    "individual_in_collective_poi_map = dict()\n",
    "for cluster in np.unique(clusters.labels_):  # 给集合POI中的独立POI标POI编号\n",
    "    if cluster == -1:\n",
    "        continue\n",
    "    for x in all_business_ids[clusters.labels_ == cluster]:\n",
    "        individual_in_collective_poi_map[x] = len(individual_poi_map) + len(individual_in_collective_poi_map)"
   ],
   "metadata": {
    "collapsed": false
   }
  },
  {
   "cell_type": "code",
   "execution_count": 86,
   "outputs": [],
   "source": [
    "check_in_poi_map = dict()\n",
    "for cluster in np.unique(clusters.labels_):  # 给集合POI中的独立POI标POI编号\n",
    "    if cluster == -1:\n",
    "        continue\n",
    "    for x in all_business_ids[clusters.labels_ == cluster]:\n",
    "        check_in_poi_map[x] = len(individual_poi_map) + len(individual_in_collective_poi_map) + cluster"
   ],
   "metadata": {
    "collapsed": false
   }
  },
  {
   "cell_type": "code",
   "execution_count": 87,
   "outputs": [],
   "source": [
    "actual_poi_reindex_map = dict(**individual_poi_map, **individual_in_collective_poi_map)\n",
    "check_in_poi_reindex_map = dict(**individual_poi_map, **check_in_poi_map)"
   ],
   "metadata": {
    "collapsed": false
   }
  },
  {
   "cell_type": "code",
   "execution_count": 88,
   "outputs": [
    {
     "data": {
      "text/plain": "(3770, 2248, 2248)"
     },
     "execution_count": 88,
     "metadata": {},
     "output_type": "execute_result"
    }
   ],
   "source": [
    "len(individual_poi_map), len(individual_in_collective_poi_map), len(check_in_poi_map)"
   ],
   "metadata": {
    "collapsed": false
   }
  },
  {
   "cell_type": "code",
   "execution_count": 89,
   "outputs": [
    {
     "data": {
      "text/plain": "(6018, 6018)"
     },
     "execution_count": 89,
     "metadata": {},
     "output_type": "execute_result"
    }
   ],
   "source": [
    "len(actual_poi_reindex_map), len(check_in_poi_reindex_map)"
   ],
   "metadata": {
    "collapsed": false
   }
  },
  {
   "cell_type": "code",
   "execution_count": 90,
   "outputs": [
    {
     "data": {
      "text/plain": "                     business_id  latitude   longitude        cat_name  \\\n0       4e94f6845c5c3201e8ea90f0  1.310790  103.720520          Office   \n1       4c84c1f4d92ea093aec25f72  1.296405  103.850241      University   \n2       4c775cda93faa093a2c5f0fb  1.301253  103.837023            Mall   \n3       4b058814f964a52080b022e3  1.300642  103.844898       Multiplex   \n4       4e94f6845c5c3201e8ea90f0  1.310790  103.720520          Office   \n...                          ...       ...         ...             ...   \n135781  4b058815f964a520a9b022e3  1.310145  103.855216            Mall   \n135782  4b127444f964a520fd8923e3  1.370918  103.892459     Bus Station   \n135783  4ba0ddaaf964a520298337e3  1.368064  103.955007  Home (private)   \n135784  4b87b5a6f964a5202ac831e3  1.373546  103.949536     Bus Station   \n135785  4b932271f964a520073734e3  1.372859  103.949332   Train Station   \n\n       country  user_id                  utc_time  zone_offset  \\\n0           SG       16 2012-04-04 09:10:49+00:00          480   \n1           SG       16 2012-04-04 10:14:32+00:00          480   \n2           SG       16 2012-04-04 13:13:21+00:00          480   \n3           SG       16 2012-04-04 13:31:37+00:00          480   \n4           SG       16 2012-04-05 09:07:23+00:00          480   \n...        ...      ...                       ...          ...   \n135781      SG   266723 2013-04-09 03:13:21+00:00          480   \n135782      SG   266723 2013-04-09 08:05:25+00:00          480   \n135783      SG   266723 2013-08-01 23:46:35+00:00          480   \n135784      SG   266723 2013-08-02 00:20:48+00:00          480   \n135785      SG   266723 2013-08-02 00:25:41+00:00          480   \n\n                      local_time trajectory_id  cat_code              lat_lon  \\\n0      2012-04-04 17:10:49+00:00          16@1         0    1.31079,103.72052   \n1      2012-04-04 18:14:32+00:00          16@1         1  1.296405,103.850241   \n2      2012-04-04 21:13:21+00:00          16@1         2  1.301253,103.837023   \n3      2012-04-04 21:31:37+00:00          16@1         3  1.300642,103.844898   \n4      2012-04-05 17:07:23+00:00          16@1         0    1.31079,103.72052   \n...                          ...           ...       ...                  ...   \n135781 2013-04-09 11:13:21+00:00      266723@7         2  1.310145,103.855216   \n135782 2013-04-09 16:05:25+00:00      266723@7         9  1.370918,103.892459   \n135783 2013-08-02 07:46:35+00:00      266723@8        81  1.368064,103.955007   \n135784 2013-08-02 08:20:48+00:00      266723@8         9  1.373546,103.949536   \n135785 2013-08-02 08:25:41+00:00      266723@8        19  1.372859,103.949332   \n\n        actual_poi_id  check_in_poi_id    poi_type  \n0                   0                0  individual  \n1                   1                1  individual  \n2                3770             6018  collective  \n3                3821             6019  collective  \n4                   0                0  individual  \n...               ...              ...         ...  \n135781            168              168  individual  \n135782             53               53  individual  \n135783           5554             6099  collective  \n135784            345              345  individual  \n135785           4695             6042  collective  \n\n[135786 rows x 15 columns]",
      "text/html": "<div>\n<style scoped>\n    .dataframe tbody tr th:only-of-type {\n        vertical-align: middle;\n    }\n\n    .dataframe tbody tr th {\n        vertical-align: top;\n    }\n\n    .dataframe thead th {\n        text-align: right;\n    }\n</style>\n<table border=\"1\" class=\"dataframe\">\n  <thead>\n    <tr style=\"text-align: right;\">\n      <th></th>\n      <th>business_id</th>\n      <th>latitude</th>\n      <th>longitude</th>\n      <th>cat_name</th>\n      <th>country</th>\n      <th>user_id</th>\n      <th>utc_time</th>\n      <th>zone_offset</th>\n      <th>local_time</th>\n      <th>trajectory_id</th>\n      <th>cat_code</th>\n      <th>lat_lon</th>\n      <th>actual_poi_id</th>\n      <th>check_in_poi_id</th>\n      <th>poi_type</th>\n    </tr>\n  </thead>\n  <tbody>\n    <tr>\n      <th>0</th>\n      <td>4e94f6845c5c3201e8ea90f0</td>\n      <td>1.310790</td>\n      <td>103.720520</td>\n      <td>Office</td>\n      <td>SG</td>\n      <td>16</td>\n      <td>2012-04-04 09:10:49+00:00</td>\n      <td>480</td>\n      <td>2012-04-04 17:10:49+00:00</td>\n      <td>16@1</td>\n      <td>0</td>\n      <td>1.31079,103.72052</td>\n      <td>0</td>\n      <td>0</td>\n      <td>individual</td>\n    </tr>\n    <tr>\n      <th>1</th>\n      <td>4c84c1f4d92ea093aec25f72</td>\n      <td>1.296405</td>\n      <td>103.850241</td>\n      <td>University</td>\n      <td>SG</td>\n      <td>16</td>\n      <td>2012-04-04 10:14:32+00:00</td>\n      <td>480</td>\n      <td>2012-04-04 18:14:32+00:00</td>\n      <td>16@1</td>\n      <td>1</td>\n      <td>1.296405,103.850241</td>\n      <td>1</td>\n      <td>1</td>\n      <td>individual</td>\n    </tr>\n    <tr>\n      <th>2</th>\n      <td>4c775cda93faa093a2c5f0fb</td>\n      <td>1.301253</td>\n      <td>103.837023</td>\n      <td>Mall</td>\n      <td>SG</td>\n      <td>16</td>\n      <td>2012-04-04 13:13:21+00:00</td>\n      <td>480</td>\n      <td>2012-04-04 21:13:21+00:00</td>\n      <td>16@1</td>\n      <td>2</td>\n      <td>1.301253,103.837023</td>\n      <td>3770</td>\n      <td>6018</td>\n      <td>collective</td>\n    </tr>\n    <tr>\n      <th>3</th>\n      <td>4b058814f964a52080b022e3</td>\n      <td>1.300642</td>\n      <td>103.844898</td>\n      <td>Multiplex</td>\n      <td>SG</td>\n      <td>16</td>\n      <td>2012-04-04 13:31:37+00:00</td>\n      <td>480</td>\n      <td>2012-04-04 21:31:37+00:00</td>\n      <td>16@1</td>\n      <td>3</td>\n      <td>1.300642,103.844898</td>\n      <td>3821</td>\n      <td>6019</td>\n      <td>collective</td>\n    </tr>\n    <tr>\n      <th>4</th>\n      <td>4e94f6845c5c3201e8ea90f0</td>\n      <td>1.310790</td>\n      <td>103.720520</td>\n      <td>Office</td>\n      <td>SG</td>\n      <td>16</td>\n      <td>2012-04-05 09:07:23+00:00</td>\n      <td>480</td>\n      <td>2012-04-05 17:07:23+00:00</td>\n      <td>16@1</td>\n      <td>0</td>\n      <td>1.31079,103.72052</td>\n      <td>0</td>\n      <td>0</td>\n      <td>individual</td>\n    </tr>\n    <tr>\n      <th>...</th>\n      <td>...</td>\n      <td>...</td>\n      <td>...</td>\n      <td>...</td>\n      <td>...</td>\n      <td>...</td>\n      <td>...</td>\n      <td>...</td>\n      <td>...</td>\n      <td>...</td>\n      <td>...</td>\n      <td>...</td>\n      <td>...</td>\n      <td>...</td>\n      <td>...</td>\n    </tr>\n    <tr>\n      <th>135781</th>\n      <td>4b058815f964a520a9b022e3</td>\n      <td>1.310145</td>\n      <td>103.855216</td>\n      <td>Mall</td>\n      <td>SG</td>\n      <td>266723</td>\n      <td>2013-04-09 03:13:21+00:00</td>\n      <td>480</td>\n      <td>2013-04-09 11:13:21+00:00</td>\n      <td>266723@7</td>\n      <td>2</td>\n      <td>1.310145,103.855216</td>\n      <td>168</td>\n      <td>168</td>\n      <td>individual</td>\n    </tr>\n    <tr>\n      <th>135782</th>\n      <td>4b127444f964a520fd8923e3</td>\n      <td>1.370918</td>\n      <td>103.892459</td>\n      <td>Bus Station</td>\n      <td>SG</td>\n      <td>266723</td>\n      <td>2013-04-09 08:05:25+00:00</td>\n      <td>480</td>\n      <td>2013-04-09 16:05:25+00:00</td>\n      <td>266723@7</td>\n      <td>9</td>\n      <td>1.370918,103.892459</td>\n      <td>53</td>\n      <td>53</td>\n      <td>individual</td>\n    </tr>\n    <tr>\n      <th>135783</th>\n      <td>4ba0ddaaf964a520298337e3</td>\n      <td>1.368064</td>\n      <td>103.955007</td>\n      <td>Home (private)</td>\n      <td>SG</td>\n      <td>266723</td>\n      <td>2013-08-01 23:46:35+00:00</td>\n      <td>480</td>\n      <td>2013-08-02 07:46:35+00:00</td>\n      <td>266723@8</td>\n      <td>81</td>\n      <td>1.368064,103.955007</td>\n      <td>5554</td>\n      <td>6099</td>\n      <td>collective</td>\n    </tr>\n    <tr>\n      <th>135784</th>\n      <td>4b87b5a6f964a5202ac831e3</td>\n      <td>1.373546</td>\n      <td>103.949536</td>\n      <td>Bus Station</td>\n      <td>SG</td>\n      <td>266723</td>\n      <td>2013-08-02 00:20:48+00:00</td>\n      <td>480</td>\n      <td>2013-08-02 08:20:48+00:00</td>\n      <td>266723@8</td>\n      <td>9</td>\n      <td>1.373546,103.949536</td>\n      <td>345</td>\n      <td>345</td>\n      <td>individual</td>\n    </tr>\n    <tr>\n      <th>135785</th>\n      <td>4b932271f964a520073734e3</td>\n      <td>1.372859</td>\n      <td>103.949332</td>\n      <td>Train Station</td>\n      <td>SG</td>\n      <td>266723</td>\n      <td>2013-08-02 00:25:41+00:00</td>\n      <td>480</td>\n      <td>2013-08-02 08:25:41+00:00</td>\n      <td>266723@8</td>\n      <td>19</td>\n      <td>1.372859,103.949332</td>\n      <td>4695</td>\n      <td>6042</td>\n      <td>collective</td>\n    </tr>\n  </tbody>\n</table>\n<p>135786 rows × 15 columns</p>\n</div>"
     },
     "execution_count": 90,
     "metadata": {},
     "output_type": "execute_result"
    }
   ],
   "source": [
    "p5['actual_poi_id'] = p5['business_id'].map(actual_poi_reindex_map)\n",
    "p5['check_in_poi_id'] = p5['business_id'].map(check_in_poi_reindex_map)\n",
    "p5['poi_type'] = p5['actual_poi_id'].map(\n",
    "    lambda x: 'individual' if x < len(individual_poi_map) else 'collective')\n",
    "p5"
   ],
   "metadata": {
    "collapsed": false
   }
  },
  {
   "cell_type": "code",
   "execution_count": 91,
   "outputs": [
    {
     "data": {
      "text/plain": "                     business_id  latitude   longitude        cat_name  \\\n0       4e94f6845c5c3201e8ea90f0  1.310790  103.720520          Office   \n1       4c84c1f4d92ea093aec25f72  1.296405  103.850241      University   \n2       4c775cda93faa093a2c5f0fb  1.301253  103.837023            Mall   \n3       4b058814f964a52080b022e3  1.300642  103.844898       Multiplex   \n4       4e94f6845c5c3201e8ea90f0  1.310790  103.720520          Office   \n...                          ...       ...         ...             ...   \n135781  4b058815f964a520a9b022e3  1.310145  103.855216            Mall   \n135782  4b127444f964a520fd8923e3  1.370918  103.892459     Bus Station   \n135783  4ba0ddaaf964a520298337e3  1.368064  103.955007  Home (private)   \n135784  4b87b5a6f964a5202ac831e3  1.373546  103.949536     Bus Station   \n135785  4b932271f964a520073734e3  1.372859  103.949332   Train Station   \n\n       country  user_id                  utc_time  zone_offset  \\\n0           SG       16 2012-04-04 09:10:49+00:00          480   \n1           SG       16 2012-04-04 10:14:32+00:00          480   \n2           SG       16 2012-04-04 13:13:21+00:00          480   \n3           SG       16 2012-04-04 13:31:37+00:00          480   \n4           SG       16 2012-04-05 09:07:23+00:00          480   \n...        ...      ...                       ...          ...   \n135781      SG   266723 2013-04-09 03:13:21+00:00          480   \n135782      SG   266723 2013-04-09 08:05:25+00:00          480   \n135783      SG   266723 2013-08-01 23:46:35+00:00          480   \n135784      SG   266723 2013-08-02 00:20:48+00:00          480   \n135785      SG   266723 2013-08-02 00:25:41+00:00          480   \n\n                      local_time trajectory_id  cat_code              lat_lon  \\\n0      2012-04-04 17:10:49+00:00          16@1         0    1.31079,103.72052   \n1      2012-04-04 18:14:32+00:00          16@1         1  1.296405,103.850241   \n2      2012-04-04 21:13:21+00:00          16@1         2  1.301253,103.837023   \n3      2012-04-04 21:31:37+00:00          16@1         3  1.300642,103.844898   \n4      2012-04-05 17:07:23+00:00          16@1         0    1.31079,103.72052   \n...                          ...           ...       ...                  ...   \n135781 2013-04-09 11:13:21+00:00      266723@7         2  1.310145,103.855216   \n135782 2013-04-09 16:05:25+00:00      266723@7         9  1.370918,103.892459   \n135783 2013-08-02 07:46:35+00:00      266723@8        81  1.368064,103.955007   \n135784 2013-08-02 08:20:48+00:00      266723@8         9  1.373546,103.949536   \n135785 2013-08-02 08:25:41+00:00      266723@8        19  1.372859,103.949332   \n\n        actual_poi_id  check_in_poi_id    poi_type  norm_in_day_time  \n0                   0                0  individual          0.729167  \n1                   1                1  individual          0.770833  \n2                3770             6018  collective          0.895833  \n3                3821             6019  collective          0.916667  \n4                   0                0  individual          0.729167  \n...               ...              ...         ...               ...  \n135781            168              168  individual          0.479167  \n135782             53               53  individual          0.687500  \n135783           5554             6099  collective          0.333333  \n135784            345              345  individual          0.354167  \n135785           4695             6042  collective          0.354167  \n\n[135786 rows x 16 columns]",
      "text/html": "<div>\n<style scoped>\n    .dataframe tbody tr th:only-of-type {\n        vertical-align: middle;\n    }\n\n    .dataframe tbody tr th {\n        vertical-align: top;\n    }\n\n    .dataframe thead th {\n        text-align: right;\n    }\n</style>\n<table border=\"1\" class=\"dataframe\">\n  <thead>\n    <tr style=\"text-align: right;\">\n      <th></th>\n      <th>business_id</th>\n      <th>latitude</th>\n      <th>longitude</th>\n      <th>cat_name</th>\n      <th>country</th>\n      <th>user_id</th>\n      <th>utc_time</th>\n      <th>zone_offset</th>\n      <th>local_time</th>\n      <th>trajectory_id</th>\n      <th>cat_code</th>\n      <th>lat_lon</th>\n      <th>actual_poi_id</th>\n      <th>check_in_poi_id</th>\n      <th>poi_type</th>\n      <th>norm_in_day_time</th>\n    </tr>\n  </thead>\n  <tbody>\n    <tr>\n      <th>0</th>\n      <td>4e94f6845c5c3201e8ea90f0</td>\n      <td>1.310790</td>\n      <td>103.720520</td>\n      <td>Office</td>\n      <td>SG</td>\n      <td>16</td>\n      <td>2012-04-04 09:10:49+00:00</td>\n      <td>480</td>\n      <td>2012-04-04 17:10:49+00:00</td>\n      <td>16@1</td>\n      <td>0</td>\n      <td>1.31079,103.72052</td>\n      <td>0</td>\n      <td>0</td>\n      <td>individual</td>\n      <td>0.729167</td>\n    </tr>\n    <tr>\n      <th>1</th>\n      <td>4c84c1f4d92ea093aec25f72</td>\n      <td>1.296405</td>\n      <td>103.850241</td>\n      <td>University</td>\n      <td>SG</td>\n      <td>16</td>\n      <td>2012-04-04 10:14:32+00:00</td>\n      <td>480</td>\n      <td>2012-04-04 18:14:32+00:00</td>\n      <td>16@1</td>\n      <td>1</td>\n      <td>1.296405,103.850241</td>\n      <td>1</td>\n      <td>1</td>\n      <td>individual</td>\n      <td>0.770833</td>\n    </tr>\n    <tr>\n      <th>2</th>\n      <td>4c775cda93faa093a2c5f0fb</td>\n      <td>1.301253</td>\n      <td>103.837023</td>\n      <td>Mall</td>\n      <td>SG</td>\n      <td>16</td>\n      <td>2012-04-04 13:13:21+00:00</td>\n      <td>480</td>\n      <td>2012-04-04 21:13:21+00:00</td>\n      <td>16@1</td>\n      <td>2</td>\n      <td>1.301253,103.837023</td>\n      <td>3770</td>\n      <td>6018</td>\n      <td>collective</td>\n      <td>0.895833</td>\n    </tr>\n    <tr>\n      <th>3</th>\n      <td>4b058814f964a52080b022e3</td>\n      <td>1.300642</td>\n      <td>103.844898</td>\n      <td>Multiplex</td>\n      <td>SG</td>\n      <td>16</td>\n      <td>2012-04-04 13:31:37+00:00</td>\n      <td>480</td>\n      <td>2012-04-04 21:31:37+00:00</td>\n      <td>16@1</td>\n      <td>3</td>\n      <td>1.300642,103.844898</td>\n      <td>3821</td>\n      <td>6019</td>\n      <td>collective</td>\n      <td>0.916667</td>\n    </tr>\n    <tr>\n      <th>4</th>\n      <td>4e94f6845c5c3201e8ea90f0</td>\n      <td>1.310790</td>\n      <td>103.720520</td>\n      <td>Office</td>\n      <td>SG</td>\n      <td>16</td>\n      <td>2012-04-05 09:07:23+00:00</td>\n      <td>480</td>\n      <td>2012-04-05 17:07:23+00:00</td>\n      <td>16@1</td>\n      <td>0</td>\n      <td>1.31079,103.72052</td>\n      <td>0</td>\n      <td>0</td>\n      <td>individual</td>\n      <td>0.729167</td>\n    </tr>\n    <tr>\n      <th>...</th>\n      <td>...</td>\n      <td>...</td>\n      <td>...</td>\n      <td>...</td>\n      <td>...</td>\n      <td>...</td>\n      <td>...</td>\n      <td>...</td>\n      <td>...</td>\n      <td>...</td>\n      <td>...</td>\n      <td>...</td>\n      <td>...</td>\n      <td>...</td>\n      <td>...</td>\n      <td>...</td>\n    </tr>\n    <tr>\n      <th>135781</th>\n      <td>4b058815f964a520a9b022e3</td>\n      <td>1.310145</td>\n      <td>103.855216</td>\n      <td>Mall</td>\n      <td>SG</td>\n      <td>266723</td>\n      <td>2013-04-09 03:13:21+00:00</td>\n      <td>480</td>\n      <td>2013-04-09 11:13:21+00:00</td>\n      <td>266723@7</td>\n      <td>2</td>\n      <td>1.310145,103.855216</td>\n      <td>168</td>\n      <td>168</td>\n      <td>individual</td>\n      <td>0.479167</td>\n    </tr>\n    <tr>\n      <th>135782</th>\n      <td>4b127444f964a520fd8923e3</td>\n      <td>1.370918</td>\n      <td>103.892459</td>\n      <td>Bus Station</td>\n      <td>SG</td>\n      <td>266723</td>\n      <td>2013-04-09 08:05:25+00:00</td>\n      <td>480</td>\n      <td>2013-04-09 16:05:25+00:00</td>\n      <td>266723@7</td>\n      <td>9</td>\n      <td>1.370918,103.892459</td>\n      <td>53</td>\n      <td>53</td>\n      <td>individual</td>\n      <td>0.687500</td>\n    </tr>\n    <tr>\n      <th>135783</th>\n      <td>4ba0ddaaf964a520298337e3</td>\n      <td>1.368064</td>\n      <td>103.955007</td>\n      <td>Home (private)</td>\n      <td>SG</td>\n      <td>266723</td>\n      <td>2013-08-01 23:46:35+00:00</td>\n      <td>480</td>\n      <td>2013-08-02 07:46:35+00:00</td>\n      <td>266723@8</td>\n      <td>81</td>\n      <td>1.368064,103.955007</td>\n      <td>5554</td>\n      <td>6099</td>\n      <td>collective</td>\n      <td>0.333333</td>\n    </tr>\n    <tr>\n      <th>135784</th>\n      <td>4b87b5a6f964a5202ac831e3</td>\n      <td>1.373546</td>\n      <td>103.949536</td>\n      <td>Bus Station</td>\n      <td>SG</td>\n      <td>266723</td>\n      <td>2013-08-02 00:20:48+00:00</td>\n      <td>480</td>\n      <td>2013-08-02 08:20:48+00:00</td>\n      <td>266723@8</td>\n      <td>9</td>\n      <td>1.373546,103.949536</td>\n      <td>345</td>\n      <td>345</td>\n      <td>individual</td>\n      <td>0.354167</td>\n    </tr>\n    <tr>\n      <th>135785</th>\n      <td>4b932271f964a520073734e3</td>\n      <td>1.372859</td>\n      <td>103.949332</td>\n      <td>Train Station</td>\n      <td>SG</td>\n      <td>266723</td>\n      <td>2013-08-02 00:25:41+00:00</td>\n      <td>480</td>\n      <td>2013-08-02 08:25:41+00:00</td>\n      <td>266723@8</td>\n      <td>19</td>\n      <td>1.372859,103.949332</td>\n      <td>4695</td>\n      <td>6042</td>\n      <td>collective</td>\n      <td>0.354167</td>\n    </tr>\n  </tbody>\n</table>\n<p>135786 rows × 16 columns</p>\n</div>"
     },
     "execution_count": 91,
     "metadata": {},
     "output_type": "execute_result"
    }
   ],
   "source": [
    "p5['norm_in_day_time']= p5['local_time'].map(lambda x: convert_time(x))\n",
    "p5"
   ],
   "metadata": {
    "collapsed": false
   }
  },
  {
   "cell_type": "code",
   "execution_count": 92,
   "outputs": [
    {
     "data": {
      "text/plain": "1536"
     },
     "execution_count": 92,
     "metadata": {},
     "output_type": "execute_result"
    }
   ],
   "source": [
    "p5['user_id'].nunique()"
   ],
   "metadata": {
    "collapsed": false
   }
  },
  {
   "cell_type": "code",
   "execution_count": 93,
   "outputs": [
    {
     "data": {
      "text/plain": "312"
     },
     "execution_count": 93,
     "metadata": {},
     "output_type": "execute_result"
    }
   ],
   "source": [
    "p5['cat_code'].nunique()"
   ],
   "metadata": {
    "collapsed": false
   }
  },
  {
   "cell_type": "code",
   "execution_count": 94,
   "outputs": [
    {
     "data": {
      "text/plain": "                     business_id  latitude   longitude  \\\n0       4e94f6845c5c3201e8ea90f0  1.310790  103.720520   \n1       4c84c1f4d92ea093aec25f72  1.296405  103.850241   \n4       4e94f6845c5c3201e8ea90f0  1.310790  103.720520   \n5       4e94f6845c5c3201e8ea90f0  1.310790  103.720520   \n9       4c84c1f4d92ea093aec25f72  1.296405  103.850241   \n...                          ...       ...         ...   \n135777  4b586667f964a520065628e3  1.373074  103.932102   \n135779  4c32ec0116adc9281ad1c29c  1.379198  103.921255   \n135781  4b058815f964a520a9b022e3  1.310145  103.855216   \n135782  4b127444f964a520fd8923e3  1.370918  103.892459   \n135784  4b87b5a6f964a5202ac831e3  1.373546  103.949536   \n\n                      cat_name country  user_id                  utc_time  \\\n0                       Office      SG       16 2012-04-04 09:10:49+00:00   \n1                   University      SG       16 2012-04-04 10:14:32+00:00   \n4                       Office      SG       16 2012-04-05 09:07:23+00:00   \n5                       Office      SG       16 2012-04-11 09:10:19+00:00   \n9                   University      SG       16 2012-04-11 13:29:47+00:00   \n...                        ...     ...      ...                       ...   \n135777  Furniture / Home Store      SG   266723 2013-04-07 09:22:01+00:00   \n135779                Bus Line      SG   266723 2013-04-08 01:09:08+00:00   \n135781                    Mall      SG   266723 2013-04-09 03:13:21+00:00   \n135782             Bus Station      SG   266723 2013-04-09 08:05:25+00:00   \n135784             Bus Station      SG   266723 2013-08-02 00:20:48+00:00   \n\n        zone_offset                local_time trajectory_id  cat_code  \\\n0               480 2012-04-04 17:10:49+00:00          16@1         0   \n1               480 2012-04-04 18:14:32+00:00          16@1         1   \n4               480 2012-04-05 17:07:23+00:00          16@1         0   \n5               480 2012-04-11 17:10:19+00:00          16@2         0   \n9               480 2012-04-11 21:29:47+00:00          16@2         1   \n...             ...                       ...           ...       ...   \n135777          480 2013-04-07 17:22:01+00:00      266723@6       128   \n135779          480 2013-04-08 09:09:08+00:00      266723@6       138   \n135781          480 2013-04-09 11:13:21+00:00      266723@7         2   \n135782          480 2013-04-09 16:05:25+00:00      266723@7         9   \n135784          480 2013-08-02 08:20:48+00:00      266723@8         9   \n\n                    lat_lon  actual_poi_id  check_in_poi_id    poi_type  \\\n0         1.31079,103.72052              0                0  individual   \n1       1.296405,103.850241              1                1  individual   \n4         1.31079,103.72052              0                0  individual   \n5         1.31079,103.72052              0                0  individual   \n9       1.296405,103.850241              1                1  individual   \n...                     ...            ...              ...         ...   \n135777  1.373074,103.932102            413              413  individual   \n135779  1.379198,103.921255            399              399  individual   \n135781  1.310145,103.855216            168              168  individual   \n135782  1.370918,103.892459             53               53  individual   \n135784  1.373546,103.949536            345              345  individual   \n\n        norm_in_day_time  \n0               0.729167  \n1               0.770833  \n4               0.729167  \n5               0.729167  \n9               0.895833  \n...                  ...  \n135777          0.729167  \n135779          0.395833  \n135781          0.479167  \n135782          0.687500  \n135784          0.354167  \n\n[69770 rows x 16 columns]",
      "text/html": "<div>\n<style scoped>\n    .dataframe tbody tr th:only-of-type {\n        vertical-align: middle;\n    }\n\n    .dataframe tbody tr th {\n        vertical-align: top;\n    }\n\n    .dataframe thead th {\n        text-align: right;\n    }\n</style>\n<table border=\"1\" class=\"dataframe\">\n  <thead>\n    <tr style=\"text-align: right;\">\n      <th></th>\n      <th>business_id</th>\n      <th>latitude</th>\n      <th>longitude</th>\n      <th>cat_name</th>\n      <th>country</th>\n      <th>user_id</th>\n      <th>utc_time</th>\n      <th>zone_offset</th>\n      <th>local_time</th>\n      <th>trajectory_id</th>\n      <th>cat_code</th>\n      <th>lat_lon</th>\n      <th>actual_poi_id</th>\n      <th>check_in_poi_id</th>\n      <th>poi_type</th>\n      <th>norm_in_day_time</th>\n    </tr>\n  </thead>\n  <tbody>\n    <tr>\n      <th>0</th>\n      <td>4e94f6845c5c3201e8ea90f0</td>\n      <td>1.310790</td>\n      <td>103.720520</td>\n      <td>Office</td>\n      <td>SG</td>\n      <td>16</td>\n      <td>2012-04-04 09:10:49+00:00</td>\n      <td>480</td>\n      <td>2012-04-04 17:10:49+00:00</td>\n      <td>16@1</td>\n      <td>0</td>\n      <td>1.31079,103.72052</td>\n      <td>0</td>\n      <td>0</td>\n      <td>individual</td>\n      <td>0.729167</td>\n    </tr>\n    <tr>\n      <th>1</th>\n      <td>4c84c1f4d92ea093aec25f72</td>\n      <td>1.296405</td>\n      <td>103.850241</td>\n      <td>University</td>\n      <td>SG</td>\n      <td>16</td>\n      <td>2012-04-04 10:14:32+00:00</td>\n      <td>480</td>\n      <td>2012-04-04 18:14:32+00:00</td>\n      <td>16@1</td>\n      <td>1</td>\n      <td>1.296405,103.850241</td>\n      <td>1</td>\n      <td>1</td>\n      <td>individual</td>\n      <td>0.770833</td>\n    </tr>\n    <tr>\n      <th>4</th>\n      <td>4e94f6845c5c3201e8ea90f0</td>\n      <td>1.310790</td>\n      <td>103.720520</td>\n      <td>Office</td>\n      <td>SG</td>\n      <td>16</td>\n      <td>2012-04-05 09:07:23+00:00</td>\n      <td>480</td>\n      <td>2012-04-05 17:07:23+00:00</td>\n      <td>16@1</td>\n      <td>0</td>\n      <td>1.31079,103.72052</td>\n      <td>0</td>\n      <td>0</td>\n      <td>individual</td>\n      <td>0.729167</td>\n    </tr>\n    <tr>\n      <th>5</th>\n      <td>4e94f6845c5c3201e8ea90f0</td>\n      <td>1.310790</td>\n      <td>103.720520</td>\n      <td>Office</td>\n      <td>SG</td>\n      <td>16</td>\n      <td>2012-04-11 09:10:19+00:00</td>\n      <td>480</td>\n      <td>2012-04-11 17:10:19+00:00</td>\n      <td>16@2</td>\n      <td>0</td>\n      <td>1.31079,103.72052</td>\n      <td>0</td>\n      <td>0</td>\n      <td>individual</td>\n      <td>0.729167</td>\n    </tr>\n    <tr>\n      <th>9</th>\n      <td>4c84c1f4d92ea093aec25f72</td>\n      <td>1.296405</td>\n      <td>103.850241</td>\n      <td>University</td>\n      <td>SG</td>\n      <td>16</td>\n      <td>2012-04-11 13:29:47+00:00</td>\n      <td>480</td>\n      <td>2012-04-11 21:29:47+00:00</td>\n      <td>16@2</td>\n      <td>1</td>\n      <td>1.296405,103.850241</td>\n      <td>1</td>\n      <td>1</td>\n      <td>individual</td>\n      <td>0.895833</td>\n    </tr>\n    <tr>\n      <th>...</th>\n      <td>...</td>\n      <td>...</td>\n      <td>...</td>\n      <td>...</td>\n      <td>...</td>\n      <td>...</td>\n      <td>...</td>\n      <td>...</td>\n      <td>...</td>\n      <td>...</td>\n      <td>...</td>\n      <td>...</td>\n      <td>...</td>\n      <td>...</td>\n      <td>...</td>\n      <td>...</td>\n    </tr>\n    <tr>\n      <th>135777</th>\n      <td>4b586667f964a520065628e3</td>\n      <td>1.373074</td>\n      <td>103.932102</td>\n      <td>Furniture / Home Store</td>\n      <td>SG</td>\n      <td>266723</td>\n      <td>2013-04-07 09:22:01+00:00</td>\n      <td>480</td>\n      <td>2013-04-07 17:22:01+00:00</td>\n      <td>266723@6</td>\n      <td>128</td>\n      <td>1.373074,103.932102</td>\n      <td>413</td>\n      <td>413</td>\n      <td>individual</td>\n      <td>0.729167</td>\n    </tr>\n    <tr>\n      <th>135779</th>\n      <td>4c32ec0116adc9281ad1c29c</td>\n      <td>1.379198</td>\n      <td>103.921255</td>\n      <td>Bus Line</td>\n      <td>SG</td>\n      <td>266723</td>\n      <td>2013-04-08 01:09:08+00:00</td>\n      <td>480</td>\n      <td>2013-04-08 09:09:08+00:00</td>\n      <td>266723@6</td>\n      <td>138</td>\n      <td>1.379198,103.921255</td>\n      <td>399</td>\n      <td>399</td>\n      <td>individual</td>\n      <td>0.395833</td>\n    </tr>\n    <tr>\n      <th>135781</th>\n      <td>4b058815f964a520a9b022e3</td>\n      <td>1.310145</td>\n      <td>103.855216</td>\n      <td>Mall</td>\n      <td>SG</td>\n      <td>266723</td>\n      <td>2013-04-09 03:13:21+00:00</td>\n      <td>480</td>\n      <td>2013-04-09 11:13:21+00:00</td>\n      <td>266723@7</td>\n      <td>2</td>\n      <td>1.310145,103.855216</td>\n      <td>168</td>\n      <td>168</td>\n      <td>individual</td>\n      <td>0.479167</td>\n    </tr>\n    <tr>\n      <th>135782</th>\n      <td>4b127444f964a520fd8923e3</td>\n      <td>1.370918</td>\n      <td>103.892459</td>\n      <td>Bus Station</td>\n      <td>SG</td>\n      <td>266723</td>\n      <td>2013-04-09 08:05:25+00:00</td>\n      <td>480</td>\n      <td>2013-04-09 16:05:25+00:00</td>\n      <td>266723@7</td>\n      <td>9</td>\n      <td>1.370918,103.892459</td>\n      <td>53</td>\n      <td>53</td>\n      <td>individual</td>\n      <td>0.687500</td>\n    </tr>\n    <tr>\n      <th>135784</th>\n      <td>4b87b5a6f964a5202ac831e3</td>\n      <td>1.373546</td>\n      <td>103.949536</td>\n      <td>Bus Station</td>\n      <td>SG</td>\n      <td>266723</td>\n      <td>2013-08-02 00:20:48+00:00</td>\n      <td>480</td>\n      <td>2013-08-02 08:20:48+00:00</td>\n      <td>266723@8</td>\n      <td>9</td>\n      <td>1.373546,103.949536</td>\n      <td>345</td>\n      <td>345</td>\n      <td>individual</td>\n      <td>0.354167</td>\n    </tr>\n  </tbody>\n</table>\n<p>69770 rows × 16 columns</p>\n</div>"
     },
     "execution_count": 94,
     "metadata": {},
     "output_type": "execute_result"
    }
   ],
   "source": [
    "p5[p5['poi_type']=='individual']"
   ],
   "metadata": {
    "collapsed": false
   }
  },
  {
   "cell_type": "code",
   "execution_count": 95,
   "outputs": [
    {
     "data": {
      "text/plain": "                     business_id  latitude   longitude        cat_name  \\\n2       4c775cda93faa093a2c5f0fb  1.301253  103.837023            Mall   \n3       4b058814f964a52080b022e3  1.300642  103.844898       Multiplex   \n6       4b058815f964a520afb022e3  1.300304  103.844887            Mall   \n7       4b058814f964a52087b022e3  1.298915  103.847644       Multiplex   \n8       4b058814f964a52080b022e3  1.300642  103.844898       Multiplex   \n...                          ...       ...         ...             ...   \n135775  4db25a40043733cda52388ce  1.307457  103.862855          Bridge   \n135778  4ba0ddaaf964a520298337e3  1.368064  103.955007  Home (private)   \n135780  4b932271f964a520073734e3  1.372859  103.949332   Train Station   \n135783  4ba0ddaaf964a520298337e3  1.368064  103.955007  Home (private)   \n135785  4b932271f964a520073734e3  1.372859  103.949332   Train Station   \n\n       country  user_id                  utc_time  zone_offset  \\\n2           SG       16 2012-04-04 13:13:21+00:00          480   \n3           SG       16 2012-04-04 13:31:37+00:00          480   \n6           SG       16 2012-04-11 10:36:57+00:00          480   \n7           SG       16 2012-04-11 10:54:56+00:00          480   \n8           SG       16 2012-04-11 13:18:37+00:00          480   \n...        ...      ...                       ...          ...   \n135775      SG   266723 2013-03-29 08:48:48+00:00          480   \n135778      SG   266723 2013-04-08 01:01:12+00:00          480   \n135780      SG   266723 2013-04-09 01:47:40+00:00          480   \n135783      SG   266723 2013-08-01 23:46:35+00:00          480   \n135785      SG   266723 2013-08-02 00:25:41+00:00          480   \n\n                      local_time trajectory_id  cat_code              lat_lon  \\\n2      2012-04-04 21:13:21+00:00          16@1         2  1.301253,103.837023   \n3      2012-04-04 21:31:37+00:00          16@1         3  1.300642,103.844898   \n6      2012-04-11 18:36:57+00:00          16@2         2  1.300304,103.844887   \n7      2012-04-11 18:54:56+00:00          16@2         3  1.298915,103.847644   \n8      2012-04-11 21:18:37+00:00          16@2         3  1.300642,103.844898   \n...                          ...           ...       ...                  ...   \n135775 2013-03-29 16:48:48+00:00      266723@4       143  1.307457,103.862855   \n135778 2013-04-08 09:01:12+00:00      266723@6        81  1.368064,103.955007   \n135780 2013-04-09 09:47:40+00:00      266723@7        19  1.372859,103.949332   \n135783 2013-08-02 07:46:35+00:00      266723@8        81  1.368064,103.955007   \n135785 2013-08-02 08:25:41+00:00      266723@8        19  1.372859,103.949332   \n\n        actual_poi_id  check_in_poi_id    poi_type  norm_in_day_time  \n2                3770             6018  collective          0.895833  \n3                3821             6019  collective          0.916667  \n6                3822             6019  collective          0.791667  \n7                3882             6020  collective          0.791667  \n8                3821             6019  collective          0.895833  \n...               ...              ...         ...               ...  \n135775           5340             6085  collective          0.708333  \n135778           5554             6099  collective          0.395833  \n135780           4695             6042  collective          0.416667  \n135783           5554             6099  collective          0.333333  \n135785           4695             6042  collective          0.354167  \n\n[66016 rows x 16 columns]",
      "text/html": "<div>\n<style scoped>\n    .dataframe tbody tr th:only-of-type {\n        vertical-align: middle;\n    }\n\n    .dataframe tbody tr th {\n        vertical-align: top;\n    }\n\n    .dataframe thead th {\n        text-align: right;\n    }\n</style>\n<table border=\"1\" class=\"dataframe\">\n  <thead>\n    <tr style=\"text-align: right;\">\n      <th></th>\n      <th>business_id</th>\n      <th>latitude</th>\n      <th>longitude</th>\n      <th>cat_name</th>\n      <th>country</th>\n      <th>user_id</th>\n      <th>utc_time</th>\n      <th>zone_offset</th>\n      <th>local_time</th>\n      <th>trajectory_id</th>\n      <th>cat_code</th>\n      <th>lat_lon</th>\n      <th>actual_poi_id</th>\n      <th>check_in_poi_id</th>\n      <th>poi_type</th>\n      <th>norm_in_day_time</th>\n    </tr>\n  </thead>\n  <tbody>\n    <tr>\n      <th>2</th>\n      <td>4c775cda93faa093a2c5f0fb</td>\n      <td>1.301253</td>\n      <td>103.837023</td>\n      <td>Mall</td>\n      <td>SG</td>\n      <td>16</td>\n      <td>2012-04-04 13:13:21+00:00</td>\n      <td>480</td>\n      <td>2012-04-04 21:13:21+00:00</td>\n      <td>16@1</td>\n      <td>2</td>\n      <td>1.301253,103.837023</td>\n      <td>3770</td>\n      <td>6018</td>\n      <td>collective</td>\n      <td>0.895833</td>\n    </tr>\n    <tr>\n      <th>3</th>\n      <td>4b058814f964a52080b022e3</td>\n      <td>1.300642</td>\n      <td>103.844898</td>\n      <td>Multiplex</td>\n      <td>SG</td>\n      <td>16</td>\n      <td>2012-04-04 13:31:37+00:00</td>\n      <td>480</td>\n      <td>2012-04-04 21:31:37+00:00</td>\n      <td>16@1</td>\n      <td>3</td>\n      <td>1.300642,103.844898</td>\n      <td>3821</td>\n      <td>6019</td>\n      <td>collective</td>\n      <td>0.916667</td>\n    </tr>\n    <tr>\n      <th>6</th>\n      <td>4b058815f964a520afb022e3</td>\n      <td>1.300304</td>\n      <td>103.844887</td>\n      <td>Mall</td>\n      <td>SG</td>\n      <td>16</td>\n      <td>2012-04-11 10:36:57+00:00</td>\n      <td>480</td>\n      <td>2012-04-11 18:36:57+00:00</td>\n      <td>16@2</td>\n      <td>2</td>\n      <td>1.300304,103.844887</td>\n      <td>3822</td>\n      <td>6019</td>\n      <td>collective</td>\n      <td>0.791667</td>\n    </tr>\n    <tr>\n      <th>7</th>\n      <td>4b058814f964a52087b022e3</td>\n      <td>1.298915</td>\n      <td>103.847644</td>\n      <td>Multiplex</td>\n      <td>SG</td>\n      <td>16</td>\n      <td>2012-04-11 10:54:56+00:00</td>\n      <td>480</td>\n      <td>2012-04-11 18:54:56+00:00</td>\n      <td>16@2</td>\n      <td>3</td>\n      <td>1.298915,103.847644</td>\n      <td>3882</td>\n      <td>6020</td>\n      <td>collective</td>\n      <td>0.791667</td>\n    </tr>\n    <tr>\n      <th>8</th>\n      <td>4b058814f964a52080b022e3</td>\n      <td>1.300642</td>\n      <td>103.844898</td>\n      <td>Multiplex</td>\n      <td>SG</td>\n      <td>16</td>\n      <td>2012-04-11 13:18:37+00:00</td>\n      <td>480</td>\n      <td>2012-04-11 21:18:37+00:00</td>\n      <td>16@2</td>\n      <td>3</td>\n      <td>1.300642,103.844898</td>\n      <td>3821</td>\n      <td>6019</td>\n      <td>collective</td>\n      <td>0.895833</td>\n    </tr>\n    <tr>\n      <th>...</th>\n      <td>...</td>\n      <td>...</td>\n      <td>...</td>\n      <td>...</td>\n      <td>...</td>\n      <td>...</td>\n      <td>...</td>\n      <td>...</td>\n      <td>...</td>\n      <td>...</td>\n      <td>...</td>\n      <td>...</td>\n      <td>...</td>\n      <td>...</td>\n      <td>...</td>\n      <td>...</td>\n    </tr>\n    <tr>\n      <th>135775</th>\n      <td>4db25a40043733cda52388ce</td>\n      <td>1.307457</td>\n      <td>103.862855</td>\n      <td>Bridge</td>\n      <td>SG</td>\n      <td>266723</td>\n      <td>2013-03-29 08:48:48+00:00</td>\n      <td>480</td>\n      <td>2013-03-29 16:48:48+00:00</td>\n      <td>266723@4</td>\n      <td>143</td>\n      <td>1.307457,103.862855</td>\n      <td>5340</td>\n      <td>6085</td>\n      <td>collective</td>\n      <td>0.708333</td>\n    </tr>\n    <tr>\n      <th>135778</th>\n      <td>4ba0ddaaf964a520298337e3</td>\n      <td>1.368064</td>\n      <td>103.955007</td>\n      <td>Home (private)</td>\n      <td>SG</td>\n      <td>266723</td>\n      <td>2013-04-08 01:01:12+00:00</td>\n      <td>480</td>\n      <td>2013-04-08 09:01:12+00:00</td>\n      <td>266723@6</td>\n      <td>81</td>\n      <td>1.368064,103.955007</td>\n      <td>5554</td>\n      <td>6099</td>\n      <td>collective</td>\n      <td>0.395833</td>\n    </tr>\n    <tr>\n      <th>135780</th>\n      <td>4b932271f964a520073734e3</td>\n      <td>1.372859</td>\n      <td>103.949332</td>\n      <td>Train Station</td>\n      <td>SG</td>\n      <td>266723</td>\n      <td>2013-04-09 01:47:40+00:00</td>\n      <td>480</td>\n      <td>2013-04-09 09:47:40+00:00</td>\n      <td>266723@7</td>\n      <td>19</td>\n      <td>1.372859,103.949332</td>\n      <td>4695</td>\n      <td>6042</td>\n      <td>collective</td>\n      <td>0.416667</td>\n    </tr>\n    <tr>\n      <th>135783</th>\n      <td>4ba0ddaaf964a520298337e3</td>\n      <td>1.368064</td>\n      <td>103.955007</td>\n      <td>Home (private)</td>\n      <td>SG</td>\n      <td>266723</td>\n      <td>2013-08-01 23:46:35+00:00</td>\n      <td>480</td>\n      <td>2013-08-02 07:46:35+00:00</td>\n      <td>266723@8</td>\n      <td>81</td>\n      <td>1.368064,103.955007</td>\n      <td>5554</td>\n      <td>6099</td>\n      <td>collective</td>\n      <td>0.333333</td>\n    </tr>\n    <tr>\n      <th>135785</th>\n      <td>4b932271f964a520073734e3</td>\n      <td>1.372859</td>\n      <td>103.949332</td>\n      <td>Train Station</td>\n      <td>SG</td>\n      <td>266723</td>\n      <td>2013-08-02 00:25:41+00:00</td>\n      <td>480</td>\n      <td>2013-08-02 08:25:41+00:00</td>\n      <td>266723@8</td>\n      <td>19</td>\n      <td>1.372859,103.949332</td>\n      <td>4695</td>\n      <td>6042</td>\n      <td>collective</td>\n      <td>0.354167</td>\n    </tr>\n  </tbody>\n</table>\n<p>66016 rows × 16 columns</p>\n</div>"
     },
     "execution_count": 95,
     "metadata": {},
     "output_type": "execute_result"
    }
   ],
   "source": [
    "p5[p5['poi_type']=='collective']"
   ],
   "metadata": {
    "collapsed": false
   }
  },
  {
   "cell_type": "code",
   "execution_count": 96,
   "outputs": [],
   "source": [
    "p5['user_id'] = p5['user_id'].map(lambda x:'user_'+str(x))\n",
    "p5['actual_poi_id'] = p5['actual_poi_id'].map(lambda x: 'poi_' + str(x))\n",
    "p5['check_in_poi_id'] = p5['check_in_poi_id'].map(lambda x: 'poi_' + str(x))\n",
    "p5['trajectory_id'] = p5['trajectory_id'].map(lambda x: 'user_' + str(x))\n",
    "p5['cat_code'] = p5['cat_code'].map(lambda x: 'cat_' + str(x))"
   ],
   "metadata": {
    "collapsed": false
   }
  },
  {
   "cell_type": "code",
   "execution_count": 97,
   "outputs": [
    {
     "data": {
      "text/plain": "                     business_id  latitude   longitude        cat_name  \\\n0       4e94f6845c5c3201e8ea90f0  1.310790  103.720520          Office   \n1       4c84c1f4d92ea093aec25f72  1.296405  103.850241      University   \n2       4c775cda93faa093a2c5f0fb  1.301253  103.837023            Mall   \n3       4b058814f964a52080b022e3  1.300642  103.844898       Multiplex   \n4       4e94f6845c5c3201e8ea90f0  1.310790  103.720520          Office   \n...                          ...       ...         ...             ...   \n135781  4b058815f964a520a9b022e3  1.310145  103.855216            Mall   \n135782  4b127444f964a520fd8923e3  1.370918  103.892459     Bus Station   \n135783  4ba0ddaaf964a520298337e3  1.368064  103.955007  Home (private)   \n135784  4b87b5a6f964a5202ac831e3  1.373546  103.949536     Bus Station   \n135785  4b932271f964a520073734e3  1.372859  103.949332   Train Station   \n\n       country      user_id                  utc_time  zone_offset  \\\n0           SG      user_16 2012-04-04 09:10:49+00:00          480   \n1           SG      user_16 2012-04-04 10:14:32+00:00          480   \n2           SG      user_16 2012-04-04 13:13:21+00:00          480   \n3           SG      user_16 2012-04-04 13:31:37+00:00          480   \n4           SG      user_16 2012-04-05 09:07:23+00:00          480   \n...        ...          ...                       ...          ...   \n135781      SG  user_266723 2013-04-09 03:13:21+00:00          480   \n135782      SG  user_266723 2013-04-09 08:05:25+00:00          480   \n135783      SG  user_266723 2013-08-01 23:46:35+00:00          480   \n135784      SG  user_266723 2013-08-02 00:20:48+00:00          480   \n135785      SG  user_266723 2013-08-02 00:25:41+00:00          480   \n\n                      local_time  trajectory_id cat_code              lat_lon  \\\n0      2012-04-04 17:10:49+00:00      user_16@1    cat_0    1.31079,103.72052   \n1      2012-04-04 18:14:32+00:00      user_16@1    cat_1  1.296405,103.850241   \n2      2012-04-04 21:13:21+00:00      user_16@1    cat_2  1.301253,103.837023   \n3      2012-04-04 21:31:37+00:00      user_16@1    cat_3  1.300642,103.844898   \n4      2012-04-05 17:07:23+00:00      user_16@1    cat_0    1.31079,103.72052   \n...                          ...            ...      ...                  ...   \n135781 2013-04-09 11:13:21+00:00  user_266723@7    cat_2  1.310145,103.855216   \n135782 2013-04-09 16:05:25+00:00  user_266723@7    cat_9  1.370918,103.892459   \n135783 2013-08-02 07:46:35+00:00  user_266723@8   cat_81  1.368064,103.955007   \n135784 2013-08-02 08:20:48+00:00  user_266723@8    cat_9  1.373546,103.949536   \n135785 2013-08-02 08:25:41+00:00  user_266723@8   cat_19  1.372859,103.949332   \n\n       actual_poi_id check_in_poi_id    poi_type  norm_in_day_time  \n0              poi_0           poi_0  individual          0.729167  \n1              poi_1           poi_1  individual          0.770833  \n2           poi_3770        poi_6018  collective          0.895833  \n3           poi_3821        poi_6019  collective          0.916667  \n4              poi_0           poi_0  individual          0.729167  \n...              ...             ...         ...               ...  \n135781       poi_168         poi_168  individual          0.479167  \n135782        poi_53          poi_53  individual          0.687500  \n135783      poi_5554        poi_6099  collective          0.333333  \n135784       poi_345         poi_345  individual          0.354167  \n135785      poi_4695        poi_6042  collective          0.354167  \n\n[135786 rows x 16 columns]",
      "text/html": "<div>\n<style scoped>\n    .dataframe tbody tr th:only-of-type {\n        vertical-align: middle;\n    }\n\n    .dataframe tbody tr th {\n        vertical-align: top;\n    }\n\n    .dataframe thead th {\n        text-align: right;\n    }\n</style>\n<table border=\"1\" class=\"dataframe\">\n  <thead>\n    <tr style=\"text-align: right;\">\n      <th></th>\n      <th>business_id</th>\n      <th>latitude</th>\n      <th>longitude</th>\n      <th>cat_name</th>\n      <th>country</th>\n      <th>user_id</th>\n      <th>utc_time</th>\n      <th>zone_offset</th>\n      <th>local_time</th>\n      <th>trajectory_id</th>\n      <th>cat_code</th>\n      <th>lat_lon</th>\n      <th>actual_poi_id</th>\n      <th>check_in_poi_id</th>\n      <th>poi_type</th>\n      <th>norm_in_day_time</th>\n    </tr>\n  </thead>\n  <tbody>\n    <tr>\n      <th>0</th>\n      <td>4e94f6845c5c3201e8ea90f0</td>\n      <td>1.310790</td>\n      <td>103.720520</td>\n      <td>Office</td>\n      <td>SG</td>\n      <td>user_16</td>\n      <td>2012-04-04 09:10:49+00:00</td>\n      <td>480</td>\n      <td>2012-04-04 17:10:49+00:00</td>\n      <td>user_16@1</td>\n      <td>cat_0</td>\n      <td>1.31079,103.72052</td>\n      <td>poi_0</td>\n      <td>poi_0</td>\n      <td>individual</td>\n      <td>0.729167</td>\n    </tr>\n    <tr>\n      <th>1</th>\n      <td>4c84c1f4d92ea093aec25f72</td>\n      <td>1.296405</td>\n      <td>103.850241</td>\n      <td>University</td>\n      <td>SG</td>\n      <td>user_16</td>\n      <td>2012-04-04 10:14:32+00:00</td>\n      <td>480</td>\n      <td>2012-04-04 18:14:32+00:00</td>\n      <td>user_16@1</td>\n      <td>cat_1</td>\n      <td>1.296405,103.850241</td>\n      <td>poi_1</td>\n      <td>poi_1</td>\n      <td>individual</td>\n      <td>0.770833</td>\n    </tr>\n    <tr>\n      <th>2</th>\n      <td>4c775cda93faa093a2c5f0fb</td>\n      <td>1.301253</td>\n      <td>103.837023</td>\n      <td>Mall</td>\n      <td>SG</td>\n      <td>user_16</td>\n      <td>2012-04-04 13:13:21+00:00</td>\n      <td>480</td>\n      <td>2012-04-04 21:13:21+00:00</td>\n      <td>user_16@1</td>\n      <td>cat_2</td>\n      <td>1.301253,103.837023</td>\n      <td>poi_3770</td>\n      <td>poi_6018</td>\n      <td>collective</td>\n      <td>0.895833</td>\n    </tr>\n    <tr>\n      <th>3</th>\n      <td>4b058814f964a52080b022e3</td>\n      <td>1.300642</td>\n      <td>103.844898</td>\n      <td>Multiplex</td>\n      <td>SG</td>\n      <td>user_16</td>\n      <td>2012-04-04 13:31:37+00:00</td>\n      <td>480</td>\n      <td>2012-04-04 21:31:37+00:00</td>\n      <td>user_16@1</td>\n      <td>cat_3</td>\n      <td>1.300642,103.844898</td>\n      <td>poi_3821</td>\n      <td>poi_6019</td>\n      <td>collective</td>\n      <td>0.916667</td>\n    </tr>\n    <tr>\n      <th>4</th>\n      <td>4e94f6845c5c3201e8ea90f0</td>\n      <td>1.310790</td>\n      <td>103.720520</td>\n      <td>Office</td>\n      <td>SG</td>\n      <td>user_16</td>\n      <td>2012-04-05 09:07:23+00:00</td>\n      <td>480</td>\n      <td>2012-04-05 17:07:23+00:00</td>\n      <td>user_16@1</td>\n      <td>cat_0</td>\n      <td>1.31079,103.72052</td>\n      <td>poi_0</td>\n      <td>poi_0</td>\n      <td>individual</td>\n      <td>0.729167</td>\n    </tr>\n    <tr>\n      <th>...</th>\n      <td>...</td>\n      <td>...</td>\n      <td>...</td>\n      <td>...</td>\n      <td>...</td>\n      <td>...</td>\n      <td>...</td>\n      <td>...</td>\n      <td>...</td>\n      <td>...</td>\n      <td>...</td>\n      <td>...</td>\n      <td>...</td>\n      <td>...</td>\n      <td>...</td>\n      <td>...</td>\n    </tr>\n    <tr>\n      <th>135781</th>\n      <td>4b058815f964a520a9b022e3</td>\n      <td>1.310145</td>\n      <td>103.855216</td>\n      <td>Mall</td>\n      <td>SG</td>\n      <td>user_266723</td>\n      <td>2013-04-09 03:13:21+00:00</td>\n      <td>480</td>\n      <td>2013-04-09 11:13:21+00:00</td>\n      <td>user_266723@7</td>\n      <td>cat_2</td>\n      <td>1.310145,103.855216</td>\n      <td>poi_168</td>\n      <td>poi_168</td>\n      <td>individual</td>\n      <td>0.479167</td>\n    </tr>\n    <tr>\n      <th>135782</th>\n      <td>4b127444f964a520fd8923e3</td>\n      <td>1.370918</td>\n      <td>103.892459</td>\n      <td>Bus Station</td>\n      <td>SG</td>\n      <td>user_266723</td>\n      <td>2013-04-09 08:05:25+00:00</td>\n      <td>480</td>\n      <td>2013-04-09 16:05:25+00:00</td>\n      <td>user_266723@7</td>\n      <td>cat_9</td>\n      <td>1.370918,103.892459</td>\n      <td>poi_53</td>\n      <td>poi_53</td>\n      <td>individual</td>\n      <td>0.687500</td>\n    </tr>\n    <tr>\n      <th>135783</th>\n      <td>4ba0ddaaf964a520298337e3</td>\n      <td>1.368064</td>\n      <td>103.955007</td>\n      <td>Home (private)</td>\n      <td>SG</td>\n      <td>user_266723</td>\n      <td>2013-08-01 23:46:35+00:00</td>\n      <td>480</td>\n      <td>2013-08-02 07:46:35+00:00</td>\n      <td>user_266723@8</td>\n      <td>cat_81</td>\n      <td>1.368064,103.955007</td>\n      <td>poi_5554</td>\n      <td>poi_6099</td>\n      <td>collective</td>\n      <td>0.333333</td>\n    </tr>\n    <tr>\n      <th>135784</th>\n      <td>4b87b5a6f964a5202ac831e3</td>\n      <td>1.373546</td>\n      <td>103.949536</td>\n      <td>Bus Station</td>\n      <td>SG</td>\n      <td>user_266723</td>\n      <td>2013-08-02 00:20:48+00:00</td>\n      <td>480</td>\n      <td>2013-08-02 08:20:48+00:00</td>\n      <td>user_266723@8</td>\n      <td>cat_9</td>\n      <td>1.373546,103.949536</td>\n      <td>poi_345</td>\n      <td>poi_345</td>\n      <td>individual</td>\n      <td>0.354167</td>\n    </tr>\n    <tr>\n      <th>135785</th>\n      <td>4b932271f964a520073734e3</td>\n      <td>1.372859</td>\n      <td>103.949332</td>\n      <td>Train Station</td>\n      <td>SG</td>\n      <td>user_266723</td>\n      <td>2013-08-02 00:25:41+00:00</td>\n      <td>480</td>\n      <td>2013-08-02 08:25:41+00:00</td>\n      <td>user_266723@8</td>\n      <td>cat_19</td>\n      <td>1.372859,103.949332</td>\n      <td>poi_4695</td>\n      <td>poi_6042</td>\n      <td>collective</td>\n      <td>0.354167</td>\n    </tr>\n  </tbody>\n</table>\n<p>135786 rows × 16 columns</p>\n</div>"
     },
     "execution_count": 97,
     "metadata": {},
     "output_type": "execute_result"
    }
   ],
   "source": [
    "p5"
   ],
   "metadata": {
    "collapsed": false
   }
  },
  {
   "cell_type": "code",
   "execution_count": 98,
   "outputs": [
    {
     "data": {
      "text/plain": "            user_id    poi_type actual_poi_id check_in_poi_id  \\\n0           user_16  individual         poi_0           poi_0   \n1           user_16  individual         poi_1           poi_1   \n2           user_16  collective      poi_3770        poi_6018   \n3           user_16  collective      poi_3821        poi_6019   \n4           user_16  individual         poi_0           poi_0   \n...             ...         ...           ...             ...   \n135781  user_266723  individual       poi_168         poi_168   \n135782  user_266723  individual        poi_53          poi_53   \n135783  user_266723  collective      poi_5554        poi_6099   \n135784  user_266723  individual       poi_345         poi_345   \n135785  user_266723  collective      poi_4695        poi_6042   \n\n                      local_time  norm_in_day_time        cat_name cat_code  \\\n0      2012-04-04 17:10:49+00:00          0.729167          Office    cat_0   \n1      2012-04-04 18:14:32+00:00          0.770833      University    cat_1   \n2      2012-04-04 21:13:21+00:00          0.895833            Mall    cat_2   \n3      2012-04-04 21:31:37+00:00          0.916667       Multiplex    cat_3   \n4      2012-04-05 17:07:23+00:00          0.729167          Office    cat_0   \n...                          ...               ...             ...      ...   \n135781 2013-04-09 11:13:21+00:00          0.479167            Mall    cat_2   \n135782 2013-04-09 16:05:25+00:00          0.687500     Bus Station    cat_9   \n135783 2013-08-02 07:46:35+00:00          0.333333  Home (private)   cat_81   \n135784 2013-08-02 08:20:48+00:00          0.354167     Bus Station    cat_9   \n135785 2013-08-02 08:25:41+00:00          0.354167   Train Station   cat_19   \n\n        trajectory_id  latitude   longitude  \n0           user_16@1  1.310790  103.720520  \n1           user_16@1  1.296405  103.850241  \n2           user_16@1  1.301253  103.837023  \n3           user_16@1  1.300642  103.844898  \n4           user_16@1  1.310790  103.720520  \n...               ...       ...         ...  \n135781  user_266723@7  1.310145  103.855216  \n135782  user_266723@7  1.370918  103.892459  \n135783  user_266723@8  1.368064  103.955007  \n135784  user_266723@8  1.373546  103.949536  \n135785  user_266723@8  1.372859  103.949332  \n\n[135786 rows x 11 columns]",
      "text/html": "<div>\n<style scoped>\n    .dataframe tbody tr th:only-of-type {\n        vertical-align: middle;\n    }\n\n    .dataframe tbody tr th {\n        vertical-align: top;\n    }\n\n    .dataframe thead th {\n        text-align: right;\n    }\n</style>\n<table border=\"1\" class=\"dataframe\">\n  <thead>\n    <tr style=\"text-align: right;\">\n      <th></th>\n      <th>user_id</th>\n      <th>poi_type</th>\n      <th>actual_poi_id</th>\n      <th>check_in_poi_id</th>\n      <th>local_time</th>\n      <th>norm_in_day_time</th>\n      <th>cat_name</th>\n      <th>cat_code</th>\n      <th>trajectory_id</th>\n      <th>latitude</th>\n      <th>longitude</th>\n    </tr>\n  </thead>\n  <tbody>\n    <tr>\n      <th>0</th>\n      <td>user_16</td>\n      <td>individual</td>\n      <td>poi_0</td>\n      <td>poi_0</td>\n      <td>2012-04-04 17:10:49+00:00</td>\n      <td>0.729167</td>\n      <td>Office</td>\n      <td>cat_0</td>\n      <td>user_16@1</td>\n      <td>1.310790</td>\n      <td>103.720520</td>\n    </tr>\n    <tr>\n      <th>1</th>\n      <td>user_16</td>\n      <td>individual</td>\n      <td>poi_1</td>\n      <td>poi_1</td>\n      <td>2012-04-04 18:14:32+00:00</td>\n      <td>0.770833</td>\n      <td>University</td>\n      <td>cat_1</td>\n      <td>user_16@1</td>\n      <td>1.296405</td>\n      <td>103.850241</td>\n    </tr>\n    <tr>\n      <th>2</th>\n      <td>user_16</td>\n      <td>collective</td>\n      <td>poi_3770</td>\n      <td>poi_6018</td>\n      <td>2012-04-04 21:13:21+00:00</td>\n      <td>0.895833</td>\n      <td>Mall</td>\n      <td>cat_2</td>\n      <td>user_16@1</td>\n      <td>1.301253</td>\n      <td>103.837023</td>\n    </tr>\n    <tr>\n      <th>3</th>\n      <td>user_16</td>\n      <td>collective</td>\n      <td>poi_3821</td>\n      <td>poi_6019</td>\n      <td>2012-04-04 21:31:37+00:00</td>\n      <td>0.916667</td>\n      <td>Multiplex</td>\n      <td>cat_3</td>\n      <td>user_16@1</td>\n      <td>1.300642</td>\n      <td>103.844898</td>\n    </tr>\n    <tr>\n      <th>4</th>\n      <td>user_16</td>\n      <td>individual</td>\n      <td>poi_0</td>\n      <td>poi_0</td>\n      <td>2012-04-05 17:07:23+00:00</td>\n      <td>0.729167</td>\n      <td>Office</td>\n      <td>cat_0</td>\n      <td>user_16@1</td>\n      <td>1.310790</td>\n      <td>103.720520</td>\n    </tr>\n    <tr>\n      <th>...</th>\n      <td>...</td>\n      <td>...</td>\n      <td>...</td>\n      <td>...</td>\n      <td>...</td>\n      <td>...</td>\n      <td>...</td>\n      <td>...</td>\n      <td>...</td>\n      <td>...</td>\n      <td>...</td>\n    </tr>\n    <tr>\n      <th>135781</th>\n      <td>user_266723</td>\n      <td>individual</td>\n      <td>poi_168</td>\n      <td>poi_168</td>\n      <td>2013-04-09 11:13:21+00:00</td>\n      <td>0.479167</td>\n      <td>Mall</td>\n      <td>cat_2</td>\n      <td>user_266723@7</td>\n      <td>1.310145</td>\n      <td>103.855216</td>\n    </tr>\n    <tr>\n      <th>135782</th>\n      <td>user_266723</td>\n      <td>individual</td>\n      <td>poi_53</td>\n      <td>poi_53</td>\n      <td>2013-04-09 16:05:25+00:00</td>\n      <td>0.687500</td>\n      <td>Bus Station</td>\n      <td>cat_9</td>\n      <td>user_266723@7</td>\n      <td>1.370918</td>\n      <td>103.892459</td>\n    </tr>\n    <tr>\n      <th>135783</th>\n      <td>user_266723</td>\n      <td>collective</td>\n      <td>poi_5554</td>\n      <td>poi_6099</td>\n      <td>2013-08-02 07:46:35+00:00</td>\n      <td>0.333333</td>\n      <td>Home (private)</td>\n      <td>cat_81</td>\n      <td>user_266723@8</td>\n      <td>1.368064</td>\n      <td>103.955007</td>\n    </tr>\n    <tr>\n      <th>135784</th>\n      <td>user_266723</td>\n      <td>individual</td>\n      <td>poi_345</td>\n      <td>poi_345</td>\n      <td>2013-08-02 08:20:48+00:00</td>\n      <td>0.354167</td>\n      <td>Bus Station</td>\n      <td>cat_9</td>\n      <td>user_266723@8</td>\n      <td>1.373546</td>\n      <td>103.949536</td>\n    </tr>\n    <tr>\n      <th>135785</th>\n      <td>user_266723</td>\n      <td>collective</td>\n      <td>poi_4695</td>\n      <td>poi_6042</td>\n      <td>2013-08-02 08:25:41+00:00</td>\n      <td>0.354167</td>\n      <td>Train Station</td>\n      <td>cat_19</td>\n      <td>user_266723@8</td>\n      <td>1.372859</td>\n      <td>103.949332</td>\n    </tr>\n  </tbody>\n</table>\n<p>135786 rows × 11 columns</p>\n</div>"
     },
     "execution_count": 98,
     "metadata": {},
     "output_type": "execute_result"
    }
   ],
   "source": [
    "p5 = p5[['user_id', 'poi_type',  'actual_poi_id', 'check_in_poi_id', 'local_time', 'norm_in_day_time', 'cat_name','cat_code', 'trajectory_id','latitude','longitude']]\n",
    "p5"
   ],
   "metadata": {
    "collapsed": false
   }
  },
  {
   "cell_type": "code",
   "execution_count": 99,
   "outputs": [
    {
     "data": {
      "text/plain": "array(['user_16', 'user_73', 'user_126', ..., 'user_262328',\n       'user_263249', 'user_266723'], dtype=object)"
     },
     "execution_count": 99,
     "metadata": {},
     "output_type": "execute_result"
    }
   ],
   "source": [
    "p5['user_id'].unique()"
   ],
   "metadata": {
    "collapsed": false
   }
  },
  {
   "cell_type": "code",
   "execution_count": 100,
   "outputs": [],
   "source": [
    "p5.to_csv('out/SIN/checkins_v1.csv', index=False)"
   ],
   "metadata": {
    "collapsed": false
   }
  },
  {
   "cell_type": "code",
   "execution_count": 100,
   "outputs": [],
   "source": [],
   "metadata": {
    "collapsed": false
   }
  }
 ],
 "metadata": {
  "kernelspec": {
   "display_name": "Python 3",
   "language": "python",
   "name": "python3"
  },
  "language_info": {
   "codemirror_mode": {
    "name": "ipython",
    "version": 2
   },
   "file_extension": ".py",
   "mimetype": "text/x-python",
   "name": "python",
   "nbconvert_exporter": "python",
   "pygments_lexer": "ipython2",
   "version": "2.7.6"
  }
 },
 "nbformat": 4,
 "nbformat_minor": 0
}
