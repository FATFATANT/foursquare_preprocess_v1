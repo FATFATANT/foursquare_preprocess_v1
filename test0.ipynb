{
 "cells": [
  {
   "cell_type": "code",
   "execution_count": 1,
   "metadata": {
    "collapsed": true
   },
   "outputs": [],
   "source": [
    "import pandas as pd"
   ]
  },
  {
   "cell_type": "code",
   "execution_count": 2,
   "outputs": [],
   "source": [
    "train = pd.read_csv('out/NYC/checkins_v1.csv')"
   ],
   "metadata": {
    "collapsed": false
   }
  },
  {
   "cell_type": "code",
   "execution_count": 3,
   "outputs": [
    {
     "data": {
      "text/plain": "        user_id               business_id    poi_type  actual_poi_id  \\\n0            10  41181000f964a520060c1fe3  individual              0   \n1            10  41181000f964a520060c1fe3  individual              0   \n2            10  4a464a63f964a520a3a81fe3  individual              1   \n3            10  4ae8906ef964a52071b021e3  individual              2   \n4            10  49f76cc2f964a5209d6c1fe3  individual              3   \n...         ...                       ...         ...            ...   \n100864      999  3fd66200f964a52067e91ee3  individual           3691   \n100865      999  3fd66200f964a5203ee71ee3  individual            849   \n100866      999  40bbc700f964a520a2001fe3  collective           6390   \n100867      999  4b3ff06cf964a52097b225e3  collective           6723   \n100868      999  4b6daa1cf964a52072842ce3  individual           5576   \n\n        check_in_poi_id                 local_time  norm_in_day_time  \\\n0                     0  2012-04-07 12:10:47+00:00          0.520833   \n1                     0  2012-04-07 13:51:43+00:00          0.583333   \n2                     1  2012-04-07 15:51:56+00:00          0.666667   \n3                     2  2012-04-15 09:27:42+00:00          0.395833   \n4                     3  2012-04-15 10:31:45+00:00          0.458333   \n...                 ...                        ...               ...   \n100864             3691  2012-12-21 23:52:50+00:00          1.000000   \n100865              849  2012-12-22 14:27:53+00:00          0.604167   \n100866             7202  2013-01-09 12:43:19+00:00          0.541667   \n100867             7234  2013-01-09 14:11:07+00:00          0.604167   \n100868             5576  2013-01-10 10:29:53+00:00          0.437500   \n\n                    cat_name  cat_code trajectory_id   latitude  longitude  \n0       Other Great Outdoors         0          10@2  40.741481 -74.009433  \n1       Other Great Outdoors         0          10@2  40.741481 -74.009433  \n2       Other Great Outdoors         0          10@2  40.850238 -73.946968  \n3              Train Station         1          10@6  40.712671 -74.011931  \n4              Train Station         1          10@6  40.734201 -74.164838  \n...                      ...       ...           ...        ...        ...  \n100864                   Bar         3        999@27  40.737216 -73.989348  \n100865     Food & Drink Shop        21        999@27  40.731094 -74.002845  \n100866     Korean Restaurant        83        999@28  40.747901 -73.986891  \n100867           Coffee Shop        26        999@28  40.777624 -73.954916  \n100868           Coffee Shop        26        999@28  40.777021 -73.949968  \n\n[100869 rows x 12 columns]",
      "text/html": "<div>\n<style scoped>\n    .dataframe tbody tr th:only-of-type {\n        vertical-align: middle;\n    }\n\n    .dataframe tbody tr th {\n        vertical-align: top;\n    }\n\n    .dataframe thead th {\n        text-align: right;\n    }\n</style>\n<table border=\"1\" class=\"dataframe\">\n  <thead>\n    <tr style=\"text-align: right;\">\n      <th></th>\n      <th>user_id</th>\n      <th>business_id</th>\n      <th>poi_type</th>\n      <th>actual_poi_id</th>\n      <th>check_in_poi_id</th>\n      <th>local_time</th>\n      <th>norm_in_day_time</th>\n      <th>cat_name</th>\n      <th>cat_code</th>\n      <th>trajectory_id</th>\n      <th>latitude</th>\n      <th>longitude</th>\n    </tr>\n  </thead>\n  <tbody>\n    <tr>\n      <th>0</th>\n      <td>10</td>\n      <td>41181000f964a520060c1fe3</td>\n      <td>individual</td>\n      <td>0</td>\n      <td>0</td>\n      <td>2012-04-07 12:10:47+00:00</td>\n      <td>0.520833</td>\n      <td>Other Great Outdoors</td>\n      <td>0</td>\n      <td>10@2</td>\n      <td>40.741481</td>\n      <td>-74.009433</td>\n    </tr>\n    <tr>\n      <th>1</th>\n      <td>10</td>\n      <td>41181000f964a520060c1fe3</td>\n      <td>individual</td>\n      <td>0</td>\n      <td>0</td>\n      <td>2012-04-07 13:51:43+00:00</td>\n      <td>0.583333</td>\n      <td>Other Great Outdoors</td>\n      <td>0</td>\n      <td>10@2</td>\n      <td>40.741481</td>\n      <td>-74.009433</td>\n    </tr>\n    <tr>\n      <th>2</th>\n      <td>10</td>\n      <td>4a464a63f964a520a3a81fe3</td>\n      <td>individual</td>\n      <td>1</td>\n      <td>1</td>\n      <td>2012-04-07 15:51:56+00:00</td>\n      <td>0.666667</td>\n      <td>Other Great Outdoors</td>\n      <td>0</td>\n      <td>10@2</td>\n      <td>40.850238</td>\n      <td>-73.946968</td>\n    </tr>\n    <tr>\n      <th>3</th>\n      <td>10</td>\n      <td>4ae8906ef964a52071b021e3</td>\n      <td>individual</td>\n      <td>2</td>\n      <td>2</td>\n      <td>2012-04-15 09:27:42+00:00</td>\n      <td>0.395833</td>\n      <td>Train Station</td>\n      <td>1</td>\n      <td>10@6</td>\n      <td>40.712671</td>\n      <td>-74.011931</td>\n    </tr>\n    <tr>\n      <th>4</th>\n      <td>10</td>\n      <td>49f76cc2f964a5209d6c1fe3</td>\n      <td>individual</td>\n      <td>3</td>\n      <td>3</td>\n      <td>2012-04-15 10:31:45+00:00</td>\n      <td>0.458333</td>\n      <td>Train Station</td>\n      <td>1</td>\n      <td>10@6</td>\n      <td>40.734201</td>\n      <td>-74.164838</td>\n    </tr>\n    <tr>\n      <th>...</th>\n      <td>...</td>\n      <td>...</td>\n      <td>...</td>\n      <td>...</td>\n      <td>...</td>\n      <td>...</td>\n      <td>...</td>\n      <td>...</td>\n      <td>...</td>\n      <td>...</td>\n      <td>...</td>\n      <td>...</td>\n    </tr>\n    <tr>\n      <th>100864</th>\n      <td>999</td>\n      <td>3fd66200f964a52067e91ee3</td>\n      <td>individual</td>\n      <td>3691</td>\n      <td>3691</td>\n      <td>2012-12-21 23:52:50+00:00</td>\n      <td>1.000000</td>\n      <td>Bar</td>\n      <td>3</td>\n      <td>999@27</td>\n      <td>40.737216</td>\n      <td>-73.989348</td>\n    </tr>\n    <tr>\n      <th>100865</th>\n      <td>999</td>\n      <td>3fd66200f964a5203ee71ee3</td>\n      <td>individual</td>\n      <td>849</td>\n      <td>849</td>\n      <td>2012-12-22 14:27:53+00:00</td>\n      <td>0.604167</td>\n      <td>Food &amp; Drink Shop</td>\n      <td>21</td>\n      <td>999@27</td>\n      <td>40.731094</td>\n      <td>-74.002845</td>\n    </tr>\n    <tr>\n      <th>100866</th>\n      <td>999</td>\n      <td>40bbc700f964a520a2001fe3</td>\n      <td>collective</td>\n      <td>6390</td>\n      <td>7202</td>\n      <td>2013-01-09 12:43:19+00:00</td>\n      <td>0.541667</td>\n      <td>Korean Restaurant</td>\n      <td>83</td>\n      <td>999@28</td>\n      <td>40.747901</td>\n      <td>-73.986891</td>\n    </tr>\n    <tr>\n      <th>100867</th>\n      <td>999</td>\n      <td>4b3ff06cf964a52097b225e3</td>\n      <td>collective</td>\n      <td>6723</td>\n      <td>7234</td>\n      <td>2013-01-09 14:11:07+00:00</td>\n      <td>0.604167</td>\n      <td>Coffee Shop</td>\n      <td>26</td>\n      <td>999@28</td>\n      <td>40.777624</td>\n      <td>-73.954916</td>\n    </tr>\n    <tr>\n      <th>100868</th>\n      <td>999</td>\n      <td>4b6daa1cf964a52072842ce3</td>\n      <td>individual</td>\n      <td>5576</td>\n      <td>5576</td>\n      <td>2013-01-10 10:29:53+00:00</td>\n      <td>0.437500</td>\n      <td>Coffee Shop</td>\n      <td>26</td>\n      <td>999@28</td>\n      <td>40.777021</td>\n      <td>-73.949968</td>\n    </tr>\n  </tbody>\n</table>\n<p>100869 rows × 12 columns</p>\n</div>"
     },
     "execution_count": 3,
     "metadata": {},
     "output_type": "execute_result"
    }
   ],
   "source": [
    "train"
   ],
   "metadata": {
    "collapsed": false
   }
  },
  {
   "cell_type": "code",
   "execution_count": 9,
   "outputs": [
    {
     "data": {
      "text/plain": "True     864\nFalse     13\nName: business_id, dtype: int64"
     },
     "execution_count": 9,
     "metadata": {},
     "output_type": "execute_result"
    }
   ],
   "source": [
    "(train.groupby('user_id')['business_id'].count()>=16).value_counts()"
   ],
   "metadata": {
    "collapsed": false
   }
  },
  {
   "cell_type": "code",
   "execution_count": 18,
   "outputs": [
    {
     "name": "stdout",
     "output_type": "stream",
     "text": [
      "(0, user_id                                    10\n",
      "business_id          41181000f964a520060c1fe3\n",
      "poi_type                           individual\n",
      "actual_poi_id                               0\n",
      "check_in_poi_id                             0\n",
      "local_time          2012-04-07 12:10:47+00:00\n",
      "norm_in_day_time                     0.520833\n",
      "cat_name                 Other Great Outdoors\n",
      "cat_code                                    0\n",
      "trajectory_id                            10@2\n",
      "latitude                            40.741481\n",
      "longitude                          -74.009433\n",
      "Name: 0, dtype: object)\n"
     ]
    }
   ],
   "source": [
    "for x in train[train['user_id']==10].iterrows():\n",
    "    # print(x[1]['user_id'])\n",
    "    print(x)\n",
    "    break"
   ],
   "metadata": {
    "collapsed": false
   }
  },
  {
   "cell_type": "code",
   "execution_count": 6,
   "outputs": [
    {
     "data": {
      "text/plain": "15"
     },
     "execution_count": 6,
     "metadata": {},
     "output_type": "execute_result"
    }
   ],
   "source": [
    "train.groupby('user_id')['business_id'].count().min()"
   ],
   "metadata": {
    "collapsed": false
   }
  },
  {
   "cell_type": "code",
   "execution_count": 20,
   "outputs": [
    {
     "name": "stdout",
     "output_type": "stream",
     "text": [
      "2\n"
     ]
    }
   ],
   "source": [
    "for x in train['user_id'].unique():\n",
    "    print(x)\n",
    "    break"
   ],
   "metadata": {
    "collapsed": false
   }
  },
  {
   "cell_type": "code",
   "execution_count": null,
   "outputs": [],
   "source": [],
   "metadata": {
    "collapsed": false
   }
  }
 ],
 "metadata": {
  "kernelspec": {
   "display_name": "Python 3",
   "language": "python",
   "name": "python3"
  },
  "language_info": {
   "codemirror_mode": {
    "name": "ipython",
    "version": 2
   },
   "file_extension": ".py",
   "mimetype": "text/x-python",
   "name": "python",
   "nbconvert_exporter": "python",
   "pygments_lexer": "ipython2",
   "version": "2.7.6"
  }
 },
 "nbformat": 4,
 "nbformat_minor": 0
}
