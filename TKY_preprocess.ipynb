{
 "cells": [
  {
   "cell_type": "code",
   "execution_count": 1,
   "metadata": {
    "collapsed": true
   },
   "outputs": [],
   "source": [
    "import pandas as pd\n",
    "import math\n",
    "import numpy as np\n",
    "from sklearn.cluster import DBSCAN"
   ]
  },
  {
   "cell_type": "code",
   "execution_count": 2,
   "outputs": [],
   "source": [
    "p1_list = []\n",
    "delta = 60 * 60 * 24\n",
    "duplicate_interval = 60 * 60\n",
    "\n",
    "\n",
    "def read_txt(file_name):\n",
    "    filtered = []\n",
    "    file = open(file_name, 'r', encoding='utf-8')  #打开文件\n",
    "    file_data = file.readlines()  #读取所有行\n",
    "    for row in file_data:\n",
    "        row_list = row.split('\\t')\n",
    "        if row_list[2] == '4bf58dd8d48988d16d941735':\n",
    "            tmp_list = []\n",
    "            for i, x in enumerate(row_list):\n",
    "                if i != 3:\n",
    "                    tmp_list.append(x)\n",
    "                else:\n",
    "                    _, latitude = x.split('?')\n",
    "                    tmp_list.append('Cafe')\n",
    "                    tmp_list.append(latitude)\n",
    "            row_list = tmp_list\n",
    "        row_list[-1] = row_list[-1].replace('\\n', '')\n",
    "        filtered.append(row_list)\n",
    "    return filtered\n",
    "\n",
    "\n",
    "def str2delta(t):\n",
    "    t = int(t)\n",
    "    abs_t = abs(t)\n",
    "    d = pd.Timedelta(minutes=abs_t)\n",
    "    if t > 0:\n",
    "        return d\n",
    "    else:\n",
    "        return -d\n",
    "\n",
    "\n",
    "# 这个方法已经要求了轨迹至少得有三个点\n",
    "def trajectory_regulation(df):\n",
    "    trajectory_id = 1\n",
    "    traj_list = []\n",
    "    retained_list = []\n",
    "    duplicate_list = []\n",
    "    df = df.sort_values(by=['local_time']).reset_index(drop=True)\n",
    "    user_id = df.iloc[0, 0]\n",
    "    last_date = None\n",
    "    last_checkin_date = None\n",
    "    last_checkin_id = None\n",
    "    last_index = 0\n",
    "    for i, x in df.iterrows():\n",
    "        if i == 0:\n",
    "            last_date = x['local_time']\n",
    "            last_index = i\n",
    "            last_checkin_date = x['local_time']\n",
    "            last_checkin_id = x['business_id']\n",
    "            continue\n",
    "        current_date = x['local_time']\n",
    "        current_checkin_id = x['business_id']\n",
    "        if (current_date - last_date).total_seconds() < delta:  # 这个是用来取一条轨迹的始末\n",
    "            if last_checkin_id == current_checkin_id:  # 有连续的两个相同POI的签到点，如果是短时间内的重复打卡那就只保留第一个点，重复这个过程\n",
    "                if (current_date - last_checkin_date).total_seconds() < duplicate_interval:\n",
    "                    duplicate_list.append(i)\n",
    "                else:\n",
    "                    # 如果是相同的签到点，由于时间间隔大于一小时，那就相当于这个是不同的签到点\n",
    "                    last_checkin_date = current_date\n",
    "                    last_checkin_id = current_checkin_id\n",
    "            else:  # 如果不是相同的签到点，那肯定可以直接记录当前的签到点和时间\n",
    "                last_checkin_date = current_date\n",
    "                last_checkin_id = current_checkin_id\n",
    "        else:\n",
    "            # 当前这一项如果时间距离轨迹的第一项超过了24小时，那么应该是对上一项进行处理\n",
    "            # +1是因为数量是减后加1，但还要-1，因为是要用上一项的索引，那么就是不加不减\n",
    "            if i - last_index >= 3:\n",
    "                for retain_row in range(last_index, i):  # 刚好range也不用加1了\n",
    "                    if retain_row not in duplicate_list:\n",
    "                        retained_list.append(retain_row)  # 索引是用来标记要留下哪些行\n",
    "                        traj_list.append(trajectory_id)  # 轨迹序号是用来标记哪些行归属一条轨迹\n",
    "                trajectory_id += 1\n",
    "\n",
    "            last_date = x['local_time']  # 重新开始划分轨迹\n",
    "            last_index = i  # 下一条轨迹的开始索引\n",
    "    retained_df = df.iloc[retained_list, :].copy()\n",
    "    traj_list = [user_id + '@' + str(x) for x in traj_list]\n",
    "    retained_df['trajectory_id'] = traj_list\n",
    "    p1_list.append(retained_df)\n",
    "\n",
    "\n",
    "def retain_users_with_trajectories(df, min_len):\n",
    "    trajectories = df['trajectory_id'].unique()\n",
    "    if len(trajectories) >= min_len:\n",
    "        return True\n",
    "    else:\n",
    "        return False\n",
    "\n",
    "\n",
    "def check(df):\n",
    "    n = df['trajectory_id'].nunique()\n",
    "    if n < 5:\n",
    "        return False\n",
    "    else:\n",
    "        return True\n",
    "\n",
    "\n",
    "def haversine(pos1, pos2):\n",
    "    lat1, lon1 = pos1\n",
    "    lat2, lon2 = pos2\n",
    "    dlat = lat2 - lat1\n",
    "    dlon = lon2 - lon1\n",
    "    a = math.sin(math.radians(dlat / 2)) ** 2 + math.cos(math.radians(lat1)) * math.cos(math.radians(lat2)) * math.sin(\n",
    "        math.radians(dlon / 2)) ** 2\n",
    "    c = 2 * math.asin(math.sqrt(a))\n",
    "    r = 6371\n",
    "    h_dist = c * r\n",
    "\n",
    "    return h_dist\n",
    "\n",
    "\n",
    "def lon_lat_tuning(df):\n",
    "    l = len(df)\n",
    "    lon_lat = df['lat_lon'].unique()\n",
    "    if len(lon_lat) != 1:\n",
    "        most = df['lat_lon'].value_counts().index[0]\n",
    "        df['latitude'] = [most.split(',')[0]] * l\n",
    "        df['longitude'] = [most.split(',')[1]] * l\n",
    "    return df\n",
    "\n",
    "\n",
    "def convert_time(d):\n",
    "    hour = d.hour\n",
    "    minute = d.minute\n",
    "    if minute < 30:\n",
    "        minute = 30\n",
    "    else:\n",
    "        minute = 0\n",
    "        hour += 1\n",
    "    return (hour * 3600 + minute * 60) / 24 / 3600"
   ],
   "metadata": {
    "collapsed": false
   }
  },
  {
   "cell_type": "code",
   "execution_count": 3,
   "outputs": [
    {
     "data": {
      "text/plain": "       user_id               business_id                    cat_id  \\\n0         1541  4f0fd5a8e4b03856eeb6c8cb  4bf58dd8d48988d10c951735   \n1          868  4b7b884ff964a5207d662fe3  4bf58dd8d48988d1d1941735   \n2          114  4c16fdda96040f477cc473a5  4d954b0ea243a5684a65b473   \n3          868  4c178638c2dfc928651ea869  4bf58dd8d48988d118951735   \n4         1458  4f568309e4b071452e447afe  4f2a210c4b9023bd5841ed28   \n...        ...                       ...                       ...   \n573698     326  4bab3456f964a5204d993ae3  4bf58dd8d48988d1e9931735   \n573699     853  4b559c09f964a520efe827e3  4bf58dd8d48988d129951735   \n573700    1502  5101e81ee4b020384100b0a5  4bf58dd8d48988d1dc931735   \n573701     408  4bbc5648afe1b7134743304b  4bf58dd8d48988d16e941735   \n573702    1050  4b5a7486f964a52027c628e3  4bf58dd8d48988d10d951735   \n\n                     cat_name            latitude           longitude  \\\n0              Cosmetics Shop  35.705101088587135   139.6195900440216   \n1       Ramen /  Noodle House   35.71558112039315  139.80031728744507   \n2           Convenience Store   35.71454217399564   139.4800649934587   \n3           Food & Drink Shop   35.72559198908874  139.77663259388527   \n4         Housing Development  35.656083091901124    139.734045462721   \n...                       ...                 ...                 ...   \n573698            Music Venue   35.65693905642321   139.7025178567526   \n573699          Train Station  35.858739601673754   139.6572858095169   \n573700               Tea Room  35.701748478737294   139.7712157996672   \n573701   Fast Food Restaurant  35.670464936192225  139.76834803819656   \n573702            Record Shop    35.7040686917013    139.579496383667   \n\n       zone_offset                        utc_time  \n0              540  Tue Apr 03 18:17:18 +0000 2012  \n1              540  Tue Apr 03 18:22:04 +0000 2012  \n2              540  Tue Apr 03 19:12:07 +0000 2012  \n3              540  Tue Apr 03 19:12:13 +0000 2012  \n4              540  Tue Apr 03 19:18:23 +0000 2012  \n...            ...                             ...  \n573698         540  Sat Feb 16 02:34:35 +0000 2013  \n573699         540  Sat Feb 16 02:34:53 +0000 2013  \n573700         540  Sat Feb 16 02:34:55 +0000 2013  \n573701         540  Sat Feb 16 02:35:17 +0000 2013  \n573702         540  Sat Feb 16 02:35:29 +0000 2013  \n\n[573703 rows x 8 columns]",
      "text/html": "<div>\n<style scoped>\n    .dataframe tbody tr th:only-of-type {\n        vertical-align: middle;\n    }\n\n    .dataframe tbody tr th {\n        vertical-align: top;\n    }\n\n    .dataframe thead th {\n        text-align: right;\n    }\n</style>\n<table border=\"1\" class=\"dataframe\">\n  <thead>\n    <tr style=\"text-align: right;\">\n      <th></th>\n      <th>user_id</th>\n      <th>business_id</th>\n      <th>cat_id</th>\n      <th>cat_name</th>\n      <th>latitude</th>\n      <th>longitude</th>\n      <th>zone_offset</th>\n      <th>utc_time</th>\n    </tr>\n  </thead>\n  <tbody>\n    <tr>\n      <th>0</th>\n      <td>1541</td>\n      <td>4f0fd5a8e4b03856eeb6c8cb</td>\n      <td>4bf58dd8d48988d10c951735</td>\n      <td>Cosmetics Shop</td>\n      <td>35.705101088587135</td>\n      <td>139.6195900440216</td>\n      <td>540</td>\n      <td>Tue Apr 03 18:17:18 +0000 2012</td>\n    </tr>\n    <tr>\n      <th>1</th>\n      <td>868</td>\n      <td>4b7b884ff964a5207d662fe3</td>\n      <td>4bf58dd8d48988d1d1941735</td>\n      <td>Ramen /  Noodle House</td>\n      <td>35.71558112039315</td>\n      <td>139.80031728744507</td>\n      <td>540</td>\n      <td>Tue Apr 03 18:22:04 +0000 2012</td>\n    </tr>\n    <tr>\n      <th>2</th>\n      <td>114</td>\n      <td>4c16fdda96040f477cc473a5</td>\n      <td>4d954b0ea243a5684a65b473</td>\n      <td>Convenience Store</td>\n      <td>35.71454217399564</td>\n      <td>139.4800649934587</td>\n      <td>540</td>\n      <td>Tue Apr 03 19:12:07 +0000 2012</td>\n    </tr>\n    <tr>\n      <th>3</th>\n      <td>868</td>\n      <td>4c178638c2dfc928651ea869</td>\n      <td>4bf58dd8d48988d118951735</td>\n      <td>Food &amp; Drink Shop</td>\n      <td>35.72559198908874</td>\n      <td>139.77663259388527</td>\n      <td>540</td>\n      <td>Tue Apr 03 19:12:13 +0000 2012</td>\n    </tr>\n    <tr>\n      <th>4</th>\n      <td>1458</td>\n      <td>4f568309e4b071452e447afe</td>\n      <td>4f2a210c4b9023bd5841ed28</td>\n      <td>Housing Development</td>\n      <td>35.656083091901124</td>\n      <td>139.734045462721</td>\n      <td>540</td>\n      <td>Tue Apr 03 19:18:23 +0000 2012</td>\n    </tr>\n    <tr>\n      <th>...</th>\n      <td>...</td>\n      <td>...</td>\n      <td>...</td>\n      <td>...</td>\n      <td>...</td>\n      <td>...</td>\n      <td>...</td>\n      <td>...</td>\n    </tr>\n    <tr>\n      <th>573698</th>\n      <td>326</td>\n      <td>4bab3456f964a5204d993ae3</td>\n      <td>4bf58dd8d48988d1e9931735</td>\n      <td>Music Venue</td>\n      <td>35.65693905642321</td>\n      <td>139.7025178567526</td>\n      <td>540</td>\n      <td>Sat Feb 16 02:34:35 +0000 2013</td>\n    </tr>\n    <tr>\n      <th>573699</th>\n      <td>853</td>\n      <td>4b559c09f964a520efe827e3</td>\n      <td>4bf58dd8d48988d129951735</td>\n      <td>Train Station</td>\n      <td>35.858739601673754</td>\n      <td>139.6572858095169</td>\n      <td>540</td>\n      <td>Sat Feb 16 02:34:53 +0000 2013</td>\n    </tr>\n    <tr>\n      <th>573700</th>\n      <td>1502</td>\n      <td>5101e81ee4b020384100b0a5</td>\n      <td>4bf58dd8d48988d1dc931735</td>\n      <td>Tea Room</td>\n      <td>35.701748478737294</td>\n      <td>139.7712157996672</td>\n      <td>540</td>\n      <td>Sat Feb 16 02:34:55 +0000 2013</td>\n    </tr>\n    <tr>\n      <th>573701</th>\n      <td>408</td>\n      <td>4bbc5648afe1b7134743304b</td>\n      <td>4bf58dd8d48988d16e941735</td>\n      <td>Fast Food Restaurant</td>\n      <td>35.670464936192225</td>\n      <td>139.76834803819656</td>\n      <td>540</td>\n      <td>Sat Feb 16 02:35:17 +0000 2013</td>\n    </tr>\n    <tr>\n      <th>573702</th>\n      <td>1050</td>\n      <td>4b5a7486f964a52027c628e3</td>\n      <td>4bf58dd8d48988d10d951735</td>\n      <td>Record Shop</td>\n      <td>35.7040686917013</td>\n      <td>139.579496383667</td>\n      <td>540</td>\n      <td>Sat Feb 16 02:35:29 +0000 2013</td>\n    </tr>\n  </tbody>\n</table>\n<p>573703 rows × 8 columns</p>\n</div>"
     },
     "execution_count": 3,
     "metadata": {},
     "output_type": "execute_result"
    }
   ],
   "source": [
    "data = read_txt('data/TKY/TKY.txt')\n",
    "columns = ['user_id', 'business_id', 'cat_id', 'cat_name', 'latitude', 'longitude', 'zone_offset', 'utc_time']\n",
    "tky = pd.DataFrame(data, columns=columns)\n",
    "tky"
   ],
   "metadata": {
    "collapsed": false
   }
  },
  {
   "cell_type": "code",
   "execution_count": 4,
   "outputs": [
    {
     "data": {
      "text/plain": "Empty DataFrame\nColumns: []\nIndex: []",
      "text/html": "<div>\n<style scoped>\n    .dataframe tbody tr th:only-of-type {\n        vertical-align: middle;\n    }\n\n    .dataframe tbody tr th {\n        vertical-align: top;\n    }\n\n    .dataframe thead th {\n        text-align: right;\n    }\n</style>\n<table border=\"1\" class=\"dataframe\">\n  <thead>\n    <tr style=\"text-align: right;\">\n      <th></th>\n    </tr>\n  </thead>\n  <tbody>\n  </tbody>\n</table>\n</div>"
     },
     "execution_count": 4,
     "metadata": {},
     "output_type": "execute_result"
    }
   ],
   "source": [
    "tky['utc_time'] = pd.to_datetime(tky['utc_time'])\n",
    "zone_delta = tky['zone_offset'].map(lambda x: str2delta(x))\n",
    "tky['local_time'] = tky['utc_time'] + zone_delta\n",
    "tky.groupby('user_id').apply(lambda x: trajectory_regulation(x))"
   ],
   "metadata": {
    "collapsed": false
   }
  },
  {
   "cell_type": "code",
   "execution_count": 5,
   "outputs": [
    {
     "data": {
      "text/plain": "       user_id               business_id                    cat_id  \\\n0            1  4b396b34f964a5204f5c25e3  4bf58dd8d48988d129951735   \n1            1  4b305a74f964a5201ef924e3  4bf58dd8d48988d1fd931735   \n2            1  4b835f06f964a520330431e3  4bf58dd8d48988d1ff931735   \n3            1  4bef4d2fb0b376b030d8dab3  4d954b0ea243a5684a65b473   \n4            1  4b835f06f964a520330431e3  4bf58dd8d48988d1ff931735   \n...        ...                       ...                       ...   \n443044     999  4b9779f5f964a5203e0535e3  4bf58dd8d48988d129951735   \n443045     999  4b0587a6f964a5203d9e22e3  4bf58dd8d48988d129951735   \n443046     999  4b5ecbf5f964a520fd9829e3  4bf58dd8d48988d129951735   \n443047     999  4b0587a6f964a5203d9e22e3  4bf58dd8d48988d129951735   \n443048     999  4b5ecbf5f964a520fd9829e3  4bf58dd8d48988d129951735   \n\n                 cat_name            latitude           longitude zone_offset  \\\n0           Train Station   35.74964694346383  139.80514526367188         540   \n1                  Subway           35.669687          139.767254         540   \n2       Convention Center  35.668087628929534  139.76731538772583         540   \n3       Convenience Store         35.66833822         139.7667561         540   \n4       Convention Center  35.668087628929534  139.76731538772583         540   \n...                   ...                 ...                 ...         ...   \n443044      Train Station   35.69137390901421   139.6993589401245         540   \n443045      Train Station   35.69080269423021  139.70027922656513         540   \n443046      Train Station    35.6895798775885   139.7000147227295         540   \n443047      Train Station   35.69080269423021  139.70027922656513         540   \n443048      Train Station   35.68914210525224  139.70000973651244         540   \n\n                        utc_time                local_time trajectory_id  \n0      2012-04-07 23:33:08+00:00 2012-04-08 08:33:08+00:00           1@1  \n1      2012-04-08 00:03:35+00:00 2012-04-08 09:03:35+00:00           1@1  \n2      2012-04-08 00:10:48+00:00 2012-04-08 09:10:48+00:00           1@1  \n3      2012-04-08 01:18:00+00:00 2012-04-08 10:18:00+00:00           1@1  \n4      2012-04-08 01:18:21+00:00 2012-04-08 10:18:21+00:00           1@1  \n...                          ...                       ...           ...  \n443044 2013-02-08 00:31:55+00:00 2013-02-08 09:31:55+00:00        999@20  \n443045 2013-02-12 08:17:09+00:00 2013-02-12 17:17:09+00:00        999@21  \n443046 2013-02-12 08:19:24+00:00 2013-02-12 17:19:24+00:00        999@21  \n443047 2013-02-13 00:35:26+00:00 2013-02-13 09:35:26+00:00        999@21  \n443048 2013-02-13 08:03:16+00:00 2013-02-13 17:03:16+00:00        999@21  \n\n[443049 rows x 10 columns]",
      "text/html": "<div>\n<style scoped>\n    .dataframe tbody tr th:only-of-type {\n        vertical-align: middle;\n    }\n\n    .dataframe tbody tr th {\n        vertical-align: top;\n    }\n\n    .dataframe thead th {\n        text-align: right;\n    }\n</style>\n<table border=\"1\" class=\"dataframe\">\n  <thead>\n    <tr style=\"text-align: right;\">\n      <th></th>\n      <th>user_id</th>\n      <th>business_id</th>\n      <th>cat_id</th>\n      <th>cat_name</th>\n      <th>latitude</th>\n      <th>longitude</th>\n      <th>zone_offset</th>\n      <th>utc_time</th>\n      <th>local_time</th>\n      <th>trajectory_id</th>\n    </tr>\n  </thead>\n  <tbody>\n    <tr>\n      <th>0</th>\n      <td>1</td>\n      <td>4b396b34f964a5204f5c25e3</td>\n      <td>4bf58dd8d48988d129951735</td>\n      <td>Train Station</td>\n      <td>35.74964694346383</td>\n      <td>139.80514526367188</td>\n      <td>540</td>\n      <td>2012-04-07 23:33:08+00:00</td>\n      <td>2012-04-08 08:33:08+00:00</td>\n      <td>1@1</td>\n    </tr>\n    <tr>\n      <th>1</th>\n      <td>1</td>\n      <td>4b305a74f964a5201ef924e3</td>\n      <td>4bf58dd8d48988d1fd931735</td>\n      <td>Subway</td>\n      <td>35.669687</td>\n      <td>139.767254</td>\n      <td>540</td>\n      <td>2012-04-08 00:03:35+00:00</td>\n      <td>2012-04-08 09:03:35+00:00</td>\n      <td>1@1</td>\n    </tr>\n    <tr>\n      <th>2</th>\n      <td>1</td>\n      <td>4b835f06f964a520330431e3</td>\n      <td>4bf58dd8d48988d1ff931735</td>\n      <td>Convention Center</td>\n      <td>35.668087628929534</td>\n      <td>139.76731538772583</td>\n      <td>540</td>\n      <td>2012-04-08 00:10:48+00:00</td>\n      <td>2012-04-08 09:10:48+00:00</td>\n      <td>1@1</td>\n    </tr>\n    <tr>\n      <th>3</th>\n      <td>1</td>\n      <td>4bef4d2fb0b376b030d8dab3</td>\n      <td>4d954b0ea243a5684a65b473</td>\n      <td>Convenience Store</td>\n      <td>35.66833822</td>\n      <td>139.7667561</td>\n      <td>540</td>\n      <td>2012-04-08 01:18:00+00:00</td>\n      <td>2012-04-08 10:18:00+00:00</td>\n      <td>1@1</td>\n    </tr>\n    <tr>\n      <th>4</th>\n      <td>1</td>\n      <td>4b835f06f964a520330431e3</td>\n      <td>4bf58dd8d48988d1ff931735</td>\n      <td>Convention Center</td>\n      <td>35.668087628929534</td>\n      <td>139.76731538772583</td>\n      <td>540</td>\n      <td>2012-04-08 01:18:21+00:00</td>\n      <td>2012-04-08 10:18:21+00:00</td>\n      <td>1@1</td>\n    </tr>\n    <tr>\n      <th>...</th>\n      <td>...</td>\n      <td>...</td>\n      <td>...</td>\n      <td>...</td>\n      <td>...</td>\n      <td>...</td>\n      <td>...</td>\n      <td>...</td>\n      <td>...</td>\n      <td>...</td>\n    </tr>\n    <tr>\n      <th>443044</th>\n      <td>999</td>\n      <td>4b9779f5f964a5203e0535e3</td>\n      <td>4bf58dd8d48988d129951735</td>\n      <td>Train Station</td>\n      <td>35.69137390901421</td>\n      <td>139.6993589401245</td>\n      <td>540</td>\n      <td>2013-02-08 00:31:55+00:00</td>\n      <td>2013-02-08 09:31:55+00:00</td>\n      <td>999@20</td>\n    </tr>\n    <tr>\n      <th>443045</th>\n      <td>999</td>\n      <td>4b0587a6f964a5203d9e22e3</td>\n      <td>4bf58dd8d48988d129951735</td>\n      <td>Train Station</td>\n      <td>35.69080269423021</td>\n      <td>139.70027922656513</td>\n      <td>540</td>\n      <td>2013-02-12 08:17:09+00:00</td>\n      <td>2013-02-12 17:17:09+00:00</td>\n      <td>999@21</td>\n    </tr>\n    <tr>\n      <th>443046</th>\n      <td>999</td>\n      <td>4b5ecbf5f964a520fd9829e3</td>\n      <td>4bf58dd8d48988d129951735</td>\n      <td>Train Station</td>\n      <td>35.6895798775885</td>\n      <td>139.7000147227295</td>\n      <td>540</td>\n      <td>2013-02-12 08:19:24+00:00</td>\n      <td>2013-02-12 17:19:24+00:00</td>\n      <td>999@21</td>\n    </tr>\n    <tr>\n      <th>443047</th>\n      <td>999</td>\n      <td>4b0587a6f964a5203d9e22e3</td>\n      <td>4bf58dd8d48988d129951735</td>\n      <td>Train Station</td>\n      <td>35.69080269423021</td>\n      <td>139.70027922656513</td>\n      <td>540</td>\n      <td>2013-02-13 00:35:26+00:00</td>\n      <td>2013-02-13 09:35:26+00:00</td>\n      <td>999@21</td>\n    </tr>\n    <tr>\n      <th>443048</th>\n      <td>999</td>\n      <td>4b5ecbf5f964a520fd9829e3</td>\n      <td>4bf58dd8d48988d129951735</td>\n      <td>Train Station</td>\n      <td>35.68914210525224</td>\n      <td>139.70000973651244</td>\n      <td>540</td>\n      <td>2013-02-13 08:03:16+00:00</td>\n      <td>2013-02-13 17:03:16+00:00</td>\n      <td>999@21</td>\n    </tr>\n  </tbody>\n</table>\n<p>443049 rows × 10 columns</p>\n</div>"
     },
     "execution_count": 5,
     "metadata": {},
     "output_type": "execute_result"
    }
   ],
   "source": [
    "p1 = pd.concat(p1_list).reset_index(drop=True)\n",
    "p1"
   ],
   "metadata": {
    "collapsed": false
   }
  },
  {
   "cell_type": "code",
   "execution_count": 6,
   "outputs": [
    {
     "data": {
      "text/plain": "       user_id               business_id                    cat_id  \\\n0            1  4b396b34f964a5204f5c25e3  4bf58dd8d48988d129951735   \n1            1  4b305a74f964a5201ef924e3  4bf58dd8d48988d1fd931735   \n2            1  4b835f06f964a520330431e3  4bf58dd8d48988d1ff931735   \n3            1  4bef4d2fb0b376b030d8dab3  4d954b0ea243a5684a65b473   \n4            1  4b835f06f964a520330431e3  4bf58dd8d48988d1ff931735   \n...        ...                       ...                       ...   \n442954     999  4b9779f5f964a5203e0535e3  4bf58dd8d48988d129951735   \n442955     999  4b0587a6f964a5203d9e22e3  4bf58dd8d48988d129951735   \n442956     999  4b5ecbf5f964a520fd9829e3  4bf58dd8d48988d129951735   \n442957     999  4b0587a6f964a5203d9e22e3  4bf58dd8d48988d129951735   \n442958     999  4b5ecbf5f964a520fd9829e3  4bf58dd8d48988d129951735   \n\n                 cat_name            latitude           longitude zone_offset  \\\n0           Train Station   35.74964694346383  139.80514526367188         540   \n1                  Subway           35.669687          139.767254         540   \n2       Convention Center  35.668087628929534  139.76731538772583         540   \n3       Convenience Store         35.66833822         139.7667561         540   \n4       Convention Center  35.668087628929534  139.76731538772583         540   \n...                   ...                 ...                 ...         ...   \n442954      Train Station   35.69137390901421   139.6993589401245         540   \n442955      Train Station   35.69080269423021  139.70027922656513         540   \n442956      Train Station    35.6895798775885   139.7000147227295         540   \n442957      Train Station   35.69080269423021  139.70027922656513         540   \n442958      Train Station   35.68914210525224  139.70000973651244         540   \n\n                        utc_time                local_time trajectory_id  \n0      2012-04-07 23:33:08+00:00 2012-04-08 08:33:08+00:00           1@1  \n1      2012-04-08 00:03:35+00:00 2012-04-08 09:03:35+00:00           1@1  \n2      2012-04-08 00:10:48+00:00 2012-04-08 09:10:48+00:00           1@1  \n3      2012-04-08 01:18:00+00:00 2012-04-08 10:18:00+00:00           1@1  \n4      2012-04-08 01:18:21+00:00 2012-04-08 10:18:21+00:00           1@1  \n...                          ...                       ...           ...  \n442954 2013-02-08 00:31:55+00:00 2013-02-08 09:31:55+00:00        999@20  \n442955 2013-02-12 08:17:09+00:00 2013-02-12 17:17:09+00:00        999@21  \n442956 2013-02-12 08:19:24+00:00 2013-02-12 17:19:24+00:00        999@21  \n442957 2013-02-13 00:35:26+00:00 2013-02-13 09:35:26+00:00        999@21  \n442958 2013-02-13 08:03:16+00:00 2013-02-13 17:03:16+00:00        999@21  \n\n[442959 rows x 10 columns]",
      "text/html": "<div>\n<style scoped>\n    .dataframe tbody tr th:only-of-type {\n        vertical-align: middle;\n    }\n\n    .dataframe tbody tr th {\n        vertical-align: top;\n    }\n\n    .dataframe thead th {\n        text-align: right;\n    }\n</style>\n<table border=\"1\" class=\"dataframe\">\n  <thead>\n    <tr style=\"text-align: right;\">\n      <th></th>\n      <th>user_id</th>\n      <th>business_id</th>\n      <th>cat_id</th>\n      <th>cat_name</th>\n      <th>latitude</th>\n      <th>longitude</th>\n      <th>zone_offset</th>\n      <th>utc_time</th>\n      <th>local_time</th>\n      <th>trajectory_id</th>\n    </tr>\n  </thead>\n  <tbody>\n    <tr>\n      <th>0</th>\n      <td>1</td>\n      <td>4b396b34f964a5204f5c25e3</td>\n      <td>4bf58dd8d48988d129951735</td>\n      <td>Train Station</td>\n      <td>35.74964694346383</td>\n      <td>139.80514526367188</td>\n      <td>540</td>\n      <td>2012-04-07 23:33:08+00:00</td>\n      <td>2012-04-08 08:33:08+00:00</td>\n      <td>1@1</td>\n    </tr>\n    <tr>\n      <th>1</th>\n      <td>1</td>\n      <td>4b305a74f964a5201ef924e3</td>\n      <td>4bf58dd8d48988d1fd931735</td>\n      <td>Subway</td>\n      <td>35.669687</td>\n      <td>139.767254</td>\n      <td>540</td>\n      <td>2012-04-08 00:03:35+00:00</td>\n      <td>2012-04-08 09:03:35+00:00</td>\n      <td>1@1</td>\n    </tr>\n    <tr>\n      <th>2</th>\n      <td>1</td>\n      <td>4b835f06f964a520330431e3</td>\n      <td>4bf58dd8d48988d1ff931735</td>\n      <td>Convention Center</td>\n      <td>35.668087628929534</td>\n      <td>139.76731538772583</td>\n      <td>540</td>\n      <td>2012-04-08 00:10:48+00:00</td>\n      <td>2012-04-08 09:10:48+00:00</td>\n      <td>1@1</td>\n    </tr>\n    <tr>\n      <th>3</th>\n      <td>1</td>\n      <td>4bef4d2fb0b376b030d8dab3</td>\n      <td>4d954b0ea243a5684a65b473</td>\n      <td>Convenience Store</td>\n      <td>35.66833822</td>\n      <td>139.7667561</td>\n      <td>540</td>\n      <td>2012-04-08 01:18:00+00:00</td>\n      <td>2012-04-08 10:18:00+00:00</td>\n      <td>1@1</td>\n    </tr>\n    <tr>\n      <th>4</th>\n      <td>1</td>\n      <td>4b835f06f964a520330431e3</td>\n      <td>4bf58dd8d48988d1ff931735</td>\n      <td>Convention Center</td>\n      <td>35.668087628929534</td>\n      <td>139.76731538772583</td>\n      <td>540</td>\n      <td>2012-04-08 01:18:21+00:00</td>\n      <td>2012-04-08 10:18:21+00:00</td>\n      <td>1@1</td>\n    </tr>\n    <tr>\n      <th>...</th>\n      <td>...</td>\n      <td>...</td>\n      <td>...</td>\n      <td>...</td>\n      <td>...</td>\n      <td>...</td>\n      <td>...</td>\n      <td>...</td>\n      <td>...</td>\n      <td>...</td>\n    </tr>\n    <tr>\n      <th>442954</th>\n      <td>999</td>\n      <td>4b9779f5f964a5203e0535e3</td>\n      <td>4bf58dd8d48988d129951735</td>\n      <td>Train Station</td>\n      <td>35.69137390901421</td>\n      <td>139.6993589401245</td>\n      <td>540</td>\n      <td>2013-02-08 00:31:55+00:00</td>\n      <td>2013-02-08 09:31:55+00:00</td>\n      <td>999@20</td>\n    </tr>\n    <tr>\n      <th>442955</th>\n      <td>999</td>\n      <td>4b0587a6f964a5203d9e22e3</td>\n      <td>4bf58dd8d48988d129951735</td>\n      <td>Train Station</td>\n      <td>35.69080269423021</td>\n      <td>139.70027922656513</td>\n      <td>540</td>\n      <td>2013-02-12 08:17:09+00:00</td>\n      <td>2013-02-12 17:17:09+00:00</td>\n      <td>999@21</td>\n    </tr>\n    <tr>\n      <th>442956</th>\n      <td>999</td>\n      <td>4b5ecbf5f964a520fd9829e3</td>\n      <td>4bf58dd8d48988d129951735</td>\n      <td>Train Station</td>\n      <td>35.6895798775885</td>\n      <td>139.7000147227295</td>\n      <td>540</td>\n      <td>2013-02-12 08:19:24+00:00</td>\n      <td>2013-02-12 17:19:24+00:00</td>\n      <td>999@21</td>\n    </tr>\n    <tr>\n      <th>442957</th>\n      <td>999</td>\n      <td>4b0587a6f964a5203d9e22e3</td>\n      <td>4bf58dd8d48988d129951735</td>\n      <td>Train Station</td>\n      <td>35.69080269423021</td>\n      <td>139.70027922656513</td>\n      <td>540</td>\n      <td>2013-02-13 00:35:26+00:00</td>\n      <td>2013-02-13 09:35:26+00:00</td>\n      <td>999@21</td>\n    </tr>\n    <tr>\n      <th>442958</th>\n      <td>999</td>\n      <td>4b5ecbf5f964a520fd9829e3</td>\n      <td>4bf58dd8d48988d129951735</td>\n      <td>Train Station</td>\n      <td>35.68914210525224</td>\n      <td>139.70000973651244</td>\n      <td>540</td>\n      <td>2013-02-13 08:03:16+00:00</td>\n      <td>2013-02-13 17:03:16+00:00</td>\n      <td>999@21</td>\n    </tr>\n  </tbody>\n</table>\n<p>442959 rows × 10 columns</p>\n</div>"
     },
     "execution_count": 6,
     "metadata": {},
     "output_type": "execute_result"
    }
   ],
   "source": [
    "p2 = p1.groupby('user_id').filter(lambda x: retain_users_with_trajectories(x, 5)).reset_index(drop=True)\n",
    "p2"
   ],
   "metadata": {
    "collapsed": false
   }
  },
  {
   "cell_type": "code",
   "execution_count": 7,
   "outputs": [
    {
     "data": {
      "text/plain": "       user_id               business_id                    cat_id  \\\n0            1  4b396b34f964a5204f5c25e3  4bf58dd8d48988d129951735   \n1            1  4b305a74f964a5201ef924e3  4bf58dd8d48988d1fd931735   \n2            1  4b835f06f964a520330431e3  4bf58dd8d48988d1ff931735   \n4            1  4b835f06f964a520330431e3  4bf58dd8d48988d1ff931735   \n5            1  4b305a74f964a5201ef924e3  4bf58dd8d48988d1fd931735   \n...        ...                       ...                       ...   \n442954     999  4b9779f5f964a5203e0535e3  4bf58dd8d48988d129951735   \n442955     999  4b0587a6f964a5203d9e22e3  4bf58dd8d48988d129951735   \n442956     999  4b5ecbf5f964a520fd9829e3  4bf58dd8d48988d129951735   \n442957     999  4b0587a6f964a5203d9e22e3  4bf58dd8d48988d129951735   \n442958     999  4b5ecbf5f964a520fd9829e3  4bf58dd8d48988d129951735   \n\n                 cat_name            latitude           longitude zone_offset  \\\n0           Train Station   35.74964694346383  139.80514526367188         540   \n1                  Subway           35.669687          139.767254         540   \n2       Convention Center  35.668087628929534  139.76731538772583         540   \n4       Convention Center  35.668087628929534  139.76731538772583         540   \n5                  Subway           35.669687          139.767254         540   \n...                   ...                 ...                 ...         ...   \n442954      Train Station   35.69137390901421   139.6993589401245         540   \n442955      Train Station   35.69080269423021  139.70027922656513         540   \n442956      Train Station    35.6895798775885   139.7000147227295         540   \n442957      Train Station   35.69080269423021  139.70027922656513         540   \n442958      Train Station   35.68914210525224  139.70000973651244         540   \n\n                        utc_time                local_time trajectory_id  \n0      2012-04-07 23:33:08+00:00 2012-04-08 08:33:08+00:00           1@1  \n1      2012-04-08 00:03:35+00:00 2012-04-08 09:03:35+00:00           1@1  \n2      2012-04-08 00:10:48+00:00 2012-04-08 09:10:48+00:00           1@1  \n4      2012-04-08 01:18:21+00:00 2012-04-08 10:18:21+00:00           1@1  \n5      2012-04-08 06:41:07+00:00 2012-04-08 15:41:07+00:00           1@1  \n...                          ...                       ...           ...  \n442954 2013-02-08 00:31:55+00:00 2013-02-08 09:31:55+00:00        999@20  \n442955 2013-02-12 08:17:09+00:00 2013-02-12 17:17:09+00:00        999@21  \n442956 2013-02-12 08:19:24+00:00 2013-02-12 17:19:24+00:00        999@21  \n442957 2013-02-13 00:35:26+00:00 2013-02-13 09:35:26+00:00        999@21  \n442958 2013-02-13 08:03:16+00:00 2013-02-13 17:03:16+00:00        999@21  \n\n[376635 rows x 10 columns]",
      "text/html": "<div>\n<style scoped>\n    .dataframe tbody tr th:only-of-type {\n        vertical-align: middle;\n    }\n\n    .dataframe tbody tr th {\n        vertical-align: top;\n    }\n\n    .dataframe thead th {\n        text-align: right;\n    }\n</style>\n<table border=\"1\" class=\"dataframe\">\n  <thead>\n    <tr style=\"text-align: right;\">\n      <th></th>\n      <th>user_id</th>\n      <th>business_id</th>\n      <th>cat_id</th>\n      <th>cat_name</th>\n      <th>latitude</th>\n      <th>longitude</th>\n      <th>zone_offset</th>\n      <th>utc_time</th>\n      <th>local_time</th>\n      <th>trajectory_id</th>\n    </tr>\n  </thead>\n  <tbody>\n    <tr>\n      <th>0</th>\n      <td>1</td>\n      <td>4b396b34f964a5204f5c25e3</td>\n      <td>4bf58dd8d48988d129951735</td>\n      <td>Train Station</td>\n      <td>35.74964694346383</td>\n      <td>139.80514526367188</td>\n      <td>540</td>\n      <td>2012-04-07 23:33:08+00:00</td>\n      <td>2012-04-08 08:33:08+00:00</td>\n      <td>1@1</td>\n    </tr>\n    <tr>\n      <th>1</th>\n      <td>1</td>\n      <td>4b305a74f964a5201ef924e3</td>\n      <td>4bf58dd8d48988d1fd931735</td>\n      <td>Subway</td>\n      <td>35.669687</td>\n      <td>139.767254</td>\n      <td>540</td>\n      <td>2012-04-08 00:03:35+00:00</td>\n      <td>2012-04-08 09:03:35+00:00</td>\n      <td>1@1</td>\n    </tr>\n    <tr>\n      <th>2</th>\n      <td>1</td>\n      <td>4b835f06f964a520330431e3</td>\n      <td>4bf58dd8d48988d1ff931735</td>\n      <td>Convention Center</td>\n      <td>35.668087628929534</td>\n      <td>139.76731538772583</td>\n      <td>540</td>\n      <td>2012-04-08 00:10:48+00:00</td>\n      <td>2012-04-08 09:10:48+00:00</td>\n      <td>1@1</td>\n    </tr>\n    <tr>\n      <th>4</th>\n      <td>1</td>\n      <td>4b835f06f964a520330431e3</td>\n      <td>4bf58dd8d48988d1ff931735</td>\n      <td>Convention Center</td>\n      <td>35.668087628929534</td>\n      <td>139.76731538772583</td>\n      <td>540</td>\n      <td>2012-04-08 01:18:21+00:00</td>\n      <td>2012-04-08 10:18:21+00:00</td>\n      <td>1@1</td>\n    </tr>\n    <tr>\n      <th>5</th>\n      <td>1</td>\n      <td>4b305a74f964a5201ef924e3</td>\n      <td>4bf58dd8d48988d1fd931735</td>\n      <td>Subway</td>\n      <td>35.669687</td>\n      <td>139.767254</td>\n      <td>540</td>\n      <td>2012-04-08 06:41:07+00:00</td>\n      <td>2012-04-08 15:41:07+00:00</td>\n      <td>1@1</td>\n    </tr>\n    <tr>\n      <th>...</th>\n      <td>...</td>\n      <td>...</td>\n      <td>...</td>\n      <td>...</td>\n      <td>...</td>\n      <td>...</td>\n      <td>...</td>\n      <td>...</td>\n      <td>...</td>\n      <td>...</td>\n    </tr>\n    <tr>\n      <th>442954</th>\n      <td>999</td>\n      <td>4b9779f5f964a5203e0535e3</td>\n      <td>4bf58dd8d48988d129951735</td>\n      <td>Train Station</td>\n      <td>35.69137390901421</td>\n      <td>139.6993589401245</td>\n      <td>540</td>\n      <td>2013-02-08 00:31:55+00:00</td>\n      <td>2013-02-08 09:31:55+00:00</td>\n      <td>999@20</td>\n    </tr>\n    <tr>\n      <th>442955</th>\n      <td>999</td>\n      <td>4b0587a6f964a5203d9e22e3</td>\n      <td>4bf58dd8d48988d129951735</td>\n      <td>Train Station</td>\n      <td>35.69080269423021</td>\n      <td>139.70027922656513</td>\n      <td>540</td>\n      <td>2013-02-12 08:17:09+00:00</td>\n      <td>2013-02-12 17:17:09+00:00</td>\n      <td>999@21</td>\n    </tr>\n    <tr>\n      <th>442956</th>\n      <td>999</td>\n      <td>4b5ecbf5f964a520fd9829e3</td>\n      <td>4bf58dd8d48988d129951735</td>\n      <td>Train Station</td>\n      <td>35.6895798775885</td>\n      <td>139.7000147227295</td>\n      <td>540</td>\n      <td>2013-02-12 08:19:24+00:00</td>\n      <td>2013-02-12 17:19:24+00:00</td>\n      <td>999@21</td>\n    </tr>\n    <tr>\n      <th>442957</th>\n      <td>999</td>\n      <td>4b0587a6f964a5203d9e22e3</td>\n      <td>4bf58dd8d48988d129951735</td>\n      <td>Train Station</td>\n      <td>35.69080269423021</td>\n      <td>139.70027922656513</td>\n      <td>540</td>\n      <td>2013-02-13 00:35:26+00:00</td>\n      <td>2013-02-13 09:35:26+00:00</td>\n      <td>999@21</td>\n    </tr>\n    <tr>\n      <th>442958</th>\n      <td>999</td>\n      <td>4b5ecbf5f964a520fd9829e3</td>\n      <td>4bf58dd8d48988d129951735</td>\n      <td>Train Station</td>\n      <td>35.68914210525224</td>\n      <td>139.70000973651244</td>\n      <td>540</td>\n      <td>2013-02-13 08:03:16+00:00</td>\n      <td>2013-02-13 17:03:16+00:00</td>\n      <td>999@21</td>\n    </tr>\n  </tbody>\n</table>\n<p>376635 rows × 10 columns</p>\n</div>"
     },
     "execution_count": 7,
     "metadata": {},
     "output_type": "execute_result"
    }
   ],
   "source": [
    "retain = []\n",
    "for i, count in zip(p2['business_id'].value_counts().index, p2['business_id'].value_counts()):\n",
    "    if count >= 5:\n",
    "        retain.append(i)\n",
    "    else:\n",
    "        break\n",
    "p3 = p2[p2['business_id'].isin(retain)]\n",
    "p3"
   ],
   "metadata": {
    "collapsed": false
   }
  },
  {
   "cell_type": "code",
   "execution_count": 8,
   "outputs": [
    {
     "data": {
      "text/plain": "4b19f917f964a520abe623e3    10409\n4b0587a6f964a5203d9e22e3     9594\n4b243a7df964a520356424e3     5686\n4b093eeff964a520e51423e3     5122\n4b0587a6f964a5203e9e22e3     3667\n                            ...  \n4eca18de0aaf9c3ccf5cf881        5\n4b5d26d1f964a520af5429e3        5\n4b757532f964a520a60d2ee3        5\n4b6426a8f964a5206ea12ae3        5\n4f704414e4b02781d658807c        5\nName: business_id, Length: 11451, dtype: int64"
     },
     "execution_count": 8,
     "metadata": {},
     "output_type": "execute_result"
    }
   ],
   "source": [
    "p3['business_id'].value_counts()"
   ],
   "metadata": {
    "collapsed": false
   }
  },
  {
   "cell_type": "code",
   "execution_count": 9,
   "outputs": [
    {
     "data": {
      "text/plain": "       user_id               business_id                    cat_id  \\\n0            1  4b396b34f964a5204f5c25e3  4bf58dd8d48988d129951735   \n1            1  4b305a74f964a5201ef924e3  4bf58dd8d48988d1fd931735   \n2            1  4b835f06f964a520330431e3  4bf58dd8d48988d1ff931735   \n4            1  4b835f06f964a520330431e3  4bf58dd8d48988d1ff931735   \n5            1  4b305a74f964a5201ef924e3  4bf58dd8d48988d1fd931735   \n...        ...                       ...                       ...   \n442954     999  4b9779f5f964a5203e0535e3  4bf58dd8d48988d129951735   \n442955     999  4b0587a6f964a5203d9e22e3  4bf58dd8d48988d129951735   \n442956     999  4b5ecbf5f964a520fd9829e3  4bf58dd8d48988d129951735   \n442957     999  4b0587a6f964a5203d9e22e3  4bf58dd8d48988d129951735   \n442958     999  4b5ecbf5f964a520fd9829e3  4bf58dd8d48988d129951735   \n\n                 cat_name            latitude           longitude zone_offset  \\\n0           Train Station   35.74964694346383  139.80514526367188         540   \n1                  Subway           35.669687          139.767254         540   \n2       Convention Center  35.668087628929534  139.76731538772583         540   \n4       Convention Center  35.668087628929534  139.76731538772583         540   \n5                  Subway           35.669687          139.767254         540   \n...                   ...                 ...                 ...         ...   \n442954      Train Station   35.69137390901421   139.6993589401245         540   \n442955      Train Station   35.69080269423021  139.70027922656513         540   \n442956      Train Station    35.6895798775885   139.7000147227295         540   \n442957      Train Station   35.69080269423021  139.70027922656513         540   \n442958      Train Station   35.68914210525224  139.70000973651244         540   \n\n                        utc_time                local_time trajectory_id  \n0      2012-04-07 23:33:08+00:00 2012-04-08 08:33:08+00:00           1@1  \n1      2012-04-08 00:03:35+00:00 2012-04-08 09:03:35+00:00           1@1  \n2      2012-04-08 00:10:48+00:00 2012-04-08 09:10:48+00:00           1@1  \n4      2012-04-08 01:18:21+00:00 2012-04-08 10:18:21+00:00           1@1  \n5      2012-04-08 06:41:07+00:00 2012-04-08 15:41:07+00:00           1@1  \n...                          ...                       ...           ...  \n442954 2013-02-08 00:31:55+00:00 2013-02-08 09:31:55+00:00        999@20  \n442955 2013-02-12 08:17:09+00:00 2013-02-12 17:17:09+00:00        999@21  \n442956 2013-02-12 08:19:24+00:00 2013-02-12 17:19:24+00:00        999@21  \n442957 2013-02-13 00:35:26+00:00 2013-02-13 09:35:26+00:00        999@21  \n442958 2013-02-13 08:03:16+00:00 2013-02-13 17:03:16+00:00        999@21  \n\n[353516 rows x 10 columns]",
      "text/html": "<div>\n<style scoped>\n    .dataframe tbody tr th:only-of-type {\n        vertical-align: middle;\n    }\n\n    .dataframe tbody tr th {\n        vertical-align: top;\n    }\n\n    .dataframe thead th {\n        text-align: right;\n    }\n</style>\n<table border=\"1\" class=\"dataframe\">\n  <thead>\n    <tr style=\"text-align: right;\">\n      <th></th>\n      <th>user_id</th>\n      <th>business_id</th>\n      <th>cat_id</th>\n      <th>cat_name</th>\n      <th>latitude</th>\n      <th>longitude</th>\n      <th>zone_offset</th>\n      <th>utc_time</th>\n      <th>local_time</th>\n      <th>trajectory_id</th>\n    </tr>\n  </thead>\n  <tbody>\n    <tr>\n      <th>0</th>\n      <td>1</td>\n      <td>4b396b34f964a5204f5c25e3</td>\n      <td>4bf58dd8d48988d129951735</td>\n      <td>Train Station</td>\n      <td>35.74964694346383</td>\n      <td>139.80514526367188</td>\n      <td>540</td>\n      <td>2012-04-07 23:33:08+00:00</td>\n      <td>2012-04-08 08:33:08+00:00</td>\n      <td>1@1</td>\n    </tr>\n    <tr>\n      <th>1</th>\n      <td>1</td>\n      <td>4b305a74f964a5201ef924e3</td>\n      <td>4bf58dd8d48988d1fd931735</td>\n      <td>Subway</td>\n      <td>35.669687</td>\n      <td>139.767254</td>\n      <td>540</td>\n      <td>2012-04-08 00:03:35+00:00</td>\n      <td>2012-04-08 09:03:35+00:00</td>\n      <td>1@1</td>\n    </tr>\n    <tr>\n      <th>2</th>\n      <td>1</td>\n      <td>4b835f06f964a520330431e3</td>\n      <td>4bf58dd8d48988d1ff931735</td>\n      <td>Convention Center</td>\n      <td>35.668087628929534</td>\n      <td>139.76731538772583</td>\n      <td>540</td>\n      <td>2012-04-08 00:10:48+00:00</td>\n      <td>2012-04-08 09:10:48+00:00</td>\n      <td>1@1</td>\n    </tr>\n    <tr>\n      <th>4</th>\n      <td>1</td>\n      <td>4b835f06f964a520330431e3</td>\n      <td>4bf58dd8d48988d1ff931735</td>\n      <td>Convention Center</td>\n      <td>35.668087628929534</td>\n      <td>139.76731538772583</td>\n      <td>540</td>\n      <td>2012-04-08 01:18:21+00:00</td>\n      <td>2012-04-08 10:18:21+00:00</td>\n      <td>1@1</td>\n    </tr>\n    <tr>\n      <th>5</th>\n      <td>1</td>\n      <td>4b305a74f964a5201ef924e3</td>\n      <td>4bf58dd8d48988d1fd931735</td>\n      <td>Subway</td>\n      <td>35.669687</td>\n      <td>139.767254</td>\n      <td>540</td>\n      <td>2012-04-08 06:41:07+00:00</td>\n      <td>2012-04-08 15:41:07+00:00</td>\n      <td>1@1</td>\n    </tr>\n    <tr>\n      <th>...</th>\n      <td>...</td>\n      <td>...</td>\n      <td>...</td>\n      <td>...</td>\n      <td>...</td>\n      <td>...</td>\n      <td>...</td>\n      <td>...</td>\n      <td>...</td>\n      <td>...</td>\n    </tr>\n    <tr>\n      <th>442954</th>\n      <td>999</td>\n      <td>4b9779f5f964a5203e0535e3</td>\n      <td>4bf58dd8d48988d129951735</td>\n      <td>Train Station</td>\n      <td>35.69137390901421</td>\n      <td>139.6993589401245</td>\n      <td>540</td>\n      <td>2013-02-08 00:31:55+00:00</td>\n      <td>2013-02-08 09:31:55+00:00</td>\n      <td>999@20</td>\n    </tr>\n    <tr>\n      <th>442955</th>\n      <td>999</td>\n      <td>4b0587a6f964a5203d9e22e3</td>\n      <td>4bf58dd8d48988d129951735</td>\n      <td>Train Station</td>\n      <td>35.69080269423021</td>\n      <td>139.70027922656513</td>\n      <td>540</td>\n      <td>2013-02-12 08:17:09+00:00</td>\n      <td>2013-02-12 17:17:09+00:00</td>\n      <td>999@21</td>\n    </tr>\n    <tr>\n      <th>442956</th>\n      <td>999</td>\n      <td>4b5ecbf5f964a520fd9829e3</td>\n      <td>4bf58dd8d48988d129951735</td>\n      <td>Train Station</td>\n      <td>35.6895798775885</td>\n      <td>139.7000147227295</td>\n      <td>540</td>\n      <td>2013-02-12 08:19:24+00:00</td>\n      <td>2013-02-12 17:19:24+00:00</td>\n      <td>999@21</td>\n    </tr>\n    <tr>\n      <th>442957</th>\n      <td>999</td>\n      <td>4b0587a6f964a5203d9e22e3</td>\n      <td>4bf58dd8d48988d129951735</td>\n      <td>Train Station</td>\n      <td>35.69080269423021</td>\n      <td>139.70027922656513</td>\n      <td>540</td>\n      <td>2013-02-13 00:35:26+00:00</td>\n      <td>2013-02-13 09:35:26+00:00</td>\n      <td>999@21</td>\n    </tr>\n    <tr>\n      <th>442958</th>\n      <td>999</td>\n      <td>4b5ecbf5f964a520fd9829e3</td>\n      <td>4bf58dd8d48988d129951735</td>\n      <td>Train Station</td>\n      <td>35.68914210525224</td>\n      <td>139.70000973651244</td>\n      <td>540</td>\n      <td>2013-02-13 08:03:16+00:00</td>\n      <td>2013-02-13 17:03:16+00:00</td>\n      <td>999@21</td>\n    </tr>\n  </tbody>\n</table>\n<p>353516 rows × 10 columns</p>\n</div>"
     },
     "execution_count": 9,
     "metadata": {},
     "output_type": "execute_result"
    }
   ],
   "source": [
    "p4 = p3.groupby('trajectory_id').filter(lambda x: len(x) >= 3)\n",
    "p4"
   ],
   "metadata": {
    "collapsed": false
   }
  },
  {
   "cell_type": "code",
   "execution_count": 10,
   "outputs": [
    {
     "data": {
      "text/plain": "       user_id               business_id                    cat_id  \\\n0            1  4b396b34f964a5204f5c25e3  4bf58dd8d48988d129951735   \n1            1  4b305a74f964a5201ef924e3  4bf58dd8d48988d1fd931735   \n2            1  4b835f06f964a520330431e3  4bf58dd8d48988d1ff931735   \n3            1  4b835f06f964a520330431e3  4bf58dd8d48988d1ff931735   \n4            1  4b305a74f964a5201ef924e3  4bf58dd8d48988d1fd931735   \n...        ...                       ...                       ...   \n351982     999  4b9779f5f964a5203e0535e3  4bf58dd8d48988d129951735   \n351983     999  4b0587a6f964a5203d9e22e3  4bf58dd8d48988d129951735   \n351984     999  4b5ecbf5f964a520fd9829e3  4bf58dd8d48988d129951735   \n351985     999  4b0587a6f964a5203d9e22e3  4bf58dd8d48988d129951735   \n351986     999  4b5ecbf5f964a520fd9829e3  4bf58dd8d48988d129951735   \n\n                 cat_name            latitude           longitude zone_offset  \\\n0           Train Station   35.74964694346383  139.80514526367188         540   \n1                  Subway           35.669687          139.767254         540   \n2       Convention Center  35.668087628929534  139.76731538772583         540   \n3       Convention Center  35.668087628929534  139.76731538772583         540   \n4                  Subway           35.669687          139.767254         540   \n...                   ...                 ...                 ...         ...   \n351982      Train Station   35.69137390901421   139.6993589401245         540   \n351983      Train Station   35.69080269423021  139.70027922656513         540   \n351984      Train Station    35.6895798775885   139.7000147227295         540   \n351985      Train Station   35.69080269423021  139.70027922656513         540   \n351986      Train Station   35.68914210525224  139.70000973651244         540   \n\n                        utc_time                local_time trajectory_id  \n0      2012-04-07 23:33:08+00:00 2012-04-08 08:33:08+00:00           1@1  \n1      2012-04-08 00:03:35+00:00 2012-04-08 09:03:35+00:00           1@1  \n2      2012-04-08 00:10:48+00:00 2012-04-08 09:10:48+00:00           1@1  \n3      2012-04-08 01:18:21+00:00 2012-04-08 10:18:21+00:00           1@1  \n4      2012-04-08 06:41:07+00:00 2012-04-08 15:41:07+00:00           1@1  \n...                          ...                       ...           ...  \n351982 2013-02-08 00:31:55+00:00 2013-02-08 09:31:55+00:00        999@20  \n351983 2013-02-12 08:17:09+00:00 2013-02-12 17:17:09+00:00        999@21  \n351984 2013-02-12 08:19:24+00:00 2013-02-12 17:19:24+00:00        999@21  \n351985 2013-02-13 00:35:26+00:00 2013-02-13 09:35:26+00:00        999@21  \n351986 2013-02-13 08:03:16+00:00 2013-02-13 17:03:16+00:00        999@21  \n\n[351987 rows x 10 columns]",
      "text/html": "<div>\n<style scoped>\n    .dataframe tbody tr th:only-of-type {\n        vertical-align: middle;\n    }\n\n    .dataframe tbody tr th {\n        vertical-align: top;\n    }\n\n    .dataframe thead th {\n        text-align: right;\n    }\n</style>\n<table border=\"1\" class=\"dataframe\">\n  <thead>\n    <tr style=\"text-align: right;\">\n      <th></th>\n      <th>user_id</th>\n      <th>business_id</th>\n      <th>cat_id</th>\n      <th>cat_name</th>\n      <th>latitude</th>\n      <th>longitude</th>\n      <th>zone_offset</th>\n      <th>utc_time</th>\n      <th>local_time</th>\n      <th>trajectory_id</th>\n    </tr>\n  </thead>\n  <tbody>\n    <tr>\n      <th>0</th>\n      <td>1</td>\n      <td>4b396b34f964a5204f5c25e3</td>\n      <td>4bf58dd8d48988d129951735</td>\n      <td>Train Station</td>\n      <td>35.74964694346383</td>\n      <td>139.80514526367188</td>\n      <td>540</td>\n      <td>2012-04-07 23:33:08+00:00</td>\n      <td>2012-04-08 08:33:08+00:00</td>\n      <td>1@1</td>\n    </tr>\n    <tr>\n      <th>1</th>\n      <td>1</td>\n      <td>4b305a74f964a5201ef924e3</td>\n      <td>4bf58dd8d48988d1fd931735</td>\n      <td>Subway</td>\n      <td>35.669687</td>\n      <td>139.767254</td>\n      <td>540</td>\n      <td>2012-04-08 00:03:35+00:00</td>\n      <td>2012-04-08 09:03:35+00:00</td>\n      <td>1@1</td>\n    </tr>\n    <tr>\n      <th>2</th>\n      <td>1</td>\n      <td>4b835f06f964a520330431e3</td>\n      <td>4bf58dd8d48988d1ff931735</td>\n      <td>Convention Center</td>\n      <td>35.668087628929534</td>\n      <td>139.76731538772583</td>\n      <td>540</td>\n      <td>2012-04-08 00:10:48+00:00</td>\n      <td>2012-04-08 09:10:48+00:00</td>\n      <td>1@1</td>\n    </tr>\n    <tr>\n      <th>3</th>\n      <td>1</td>\n      <td>4b835f06f964a520330431e3</td>\n      <td>4bf58dd8d48988d1ff931735</td>\n      <td>Convention Center</td>\n      <td>35.668087628929534</td>\n      <td>139.76731538772583</td>\n      <td>540</td>\n      <td>2012-04-08 01:18:21+00:00</td>\n      <td>2012-04-08 10:18:21+00:00</td>\n      <td>1@1</td>\n    </tr>\n    <tr>\n      <th>4</th>\n      <td>1</td>\n      <td>4b305a74f964a5201ef924e3</td>\n      <td>4bf58dd8d48988d1fd931735</td>\n      <td>Subway</td>\n      <td>35.669687</td>\n      <td>139.767254</td>\n      <td>540</td>\n      <td>2012-04-08 06:41:07+00:00</td>\n      <td>2012-04-08 15:41:07+00:00</td>\n      <td>1@1</td>\n    </tr>\n    <tr>\n      <th>...</th>\n      <td>...</td>\n      <td>...</td>\n      <td>...</td>\n      <td>...</td>\n      <td>...</td>\n      <td>...</td>\n      <td>...</td>\n      <td>...</td>\n      <td>...</td>\n      <td>...</td>\n    </tr>\n    <tr>\n      <th>351982</th>\n      <td>999</td>\n      <td>4b9779f5f964a5203e0535e3</td>\n      <td>4bf58dd8d48988d129951735</td>\n      <td>Train Station</td>\n      <td>35.69137390901421</td>\n      <td>139.6993589401245</td>\n      <td>540</td>\n      <td>2013-02-08 00:31:55+00:00</td>\n      <td>2013-02-08 09:31:55+00:00</td>\n      <td>999@20</td>\n    </tr>\n    <tr>\n      <th>351983</th>\n      <td>999</td>\n      <td>4b0587a6f964a5203d9e22e3</td>\n      <td>4bf58dd8d48988d129951735</td>\n      <td>Train Station</td>\n      <td>35.69080269423021</td>\n      <td>139.70027922656513</td>\n      <td>540</td>\n      <td>2013-02-12 08:17:09+00:00</td>\n      <td>2013-02-12 17:17:09+00:00</td>\n      <td>999@21</td>\n    </tr>\n    <tr>\n      <th>351984</th>\n      <td>999</td>\n      <td>4b5ecbf5f964a520fd9829e3</td>\n      <td>4bf58dd8d48988d129951735</td>\n      <td>Train Station</td>\n      <td>35.6895798775885</td>\n      <td>139.7000147227295</td>\n      <td>540</td>\n      <td>2013-02-12 08:19:24+00:00</td>\n      <td>2013-02-12 17:19:24+00:00</td>\n      <td>999@21</td>\n    </tr>\n    <tr>\n      <th>351985</th>\n      <td>999</td>\n      <td>4b0587a6f964a5203d9e22e3</td>\n      <td>4bf58dd8d48988d129951735</td>\n      <td>Train Station</td>\n      <td>35.69080269423021</td>\n      <td>139.70027922656513</td>\n      <td>540</td>\n      <td>2013-02-13 00:35:26+00:00</td>\n      <td>2013-02-13 09:35:26+00:00</td>\n      <td>999@21</td>\n    </tr>\n    <tr>\n      <th>351986</th>\n      <td>999</td>\n      <td>4b5ecbf5f964a520fd9829e3</td>\n      <td>4bf58dd8d48988d129951735</td>\n      <td>Train Station</td>\n      <td>35.68914210525224</td>\n      <td>139.70000973651244</td>\n      <td>540</td>\n      <td>2013-02-13 08:03:16+00:00</td>\n      <td>2013-02-13 17:03:16+00:00</td>\n      <td>999@21</td>\n    </tr>\n  </tbody>\n</table>\n<p>351987 rows × 10 columns</p>\n</div>"
     },
     "execution_count": 10,
     "metadata": {},
     "output_type": "execute_result"
    }
   ],
   "source": [
    "p5 = p4.groupby('user_id').filter(lambda x: check(x)).reset_index(drop=True)\n",
    "p5"
   ],
   "metadata": {
    "collapsed": false
   }
  },
  {
   "cell_type": "code",
   "execution_count": 11,
   "outputs": [
    {
     "data": {
      "text/plain": "       user_id               business_id                    cat_id  \\\n0            1  4b396b34f964a5204f5c25e3  4bf58dd8d48988d129951735   \n1            1  4b305a74f964a5201ef924e3  4bf58dd8d48988d1fd931735   \n2            1  4b835f06f964a520330431e3  4bf58dd8d48988d1ff931735   \n3            1  4b835f06f964a520330431e3  4bf58dd8d48988d1ff931735   \n4            1  4b305a74f964a5201ef924e3  4bf58dd8d48988d1fd931735   \n...        ...                       ...                       ...   \n351982     999  4b9779f5f964a5203e0535e3  4bf58dd8d48988d129951735   \n351983     999  4b0587a6f964a5203d9e22e3  4bf58dd8d48988d129951735   \n351984     999  4b5ecbf5f964a520fd9829e3  4bf58dd8d48988d129951735   \n351985     999  4b0587a6f964a5203d9e22e3  4bf58dd8d48988d129951735   \n351986     999  4b5ecbf5f964a520fd9829e3  4bf58dd8d48988d129951735   \n\n                 cat_name            latitude           longitude zone_offset  \\\n0           Train Station   35.74964694346383  139.80514526367188         540   \n1                  Subway           35.669687          139.767254         540   \n2       Convention Center  35.668087628929534  139.76731538772583         540   \n3       Convention Center  35.668087628929534  139.76731538772583         540   \n4                  Subway           35.669687          139.767254         540   \n...                   ...                 ...                 ...         ...   \n351982      Train Station   35.69137390901421   139.6993589401245         540   \n351983      Train Station   35.69080269423021  139.70027922656513         540   \n351984      Train Station    35.6895798775885   139.7000147227295         540   \n351985      Train Station   35.69080269423021  139.70027922656513         540   \n351986      Train Station   35.68914210525224  139.70000973651244         540   \n\n                        utc_time                local_time trajectory_id  \\\n0      2012-04-07 23:33:08+00:00 2012-04-08 08:33:08+00:00           1@1   \n1      2012-04-08 00:03:35+00:00 2012-04-08 09:03:35+00:00           1@1   \n2      2012-04-08 00:10:48+00:00 2012-04-08 09:10:48+00:00           1@1   \n3      2012-04-08 01:18:21+00:00 2012-04-08 10:18:21+00:00           1@1   \n4      2012-04-08 06:41:07+00:00 2012-04-08 15:41:07+00:00           1@1   \n...                          ...                       ...           ...   \n351982 2013-02-08 00:31:55+00:00 2013-02-08 09:31:55+00:00        999@20   \n351983 2013-02-12 08:17:09+00:00 2013-02-12 17:17:09+00:00        999@21   \n351984 2013-02-12 08:19:24+00:00 2013-02-12 17:19:24+00:00        999@21   \n351985 2013-02-13 00:35:26+00:00 2013-02-13 09:35:26+00:00        999@21   \n351986 2013-02-13 08:03:16+00:00 2013-02-13 17:03:16+00:00        999@21   \n\n        cat_code  \n0              0  \n1              1  \n2              2  \n3              2  \n4              1  \n...          ...  \n351982         0  \n351983         0  \n351984         0  \n351985         0  \n351986         0  \n\n[351987 rows x 11 columns]",
      "text/html": "<div>\n<style scoped>\n    .dataframe tbody tr th:only-of-type {\n        vertical-align: middle;\n    }\n\n    .dataframe tbody tr th {\n        vertical-align: top;\n    }\n\n    .dataframe thead th {\n        text-align: right;\n    }\n</style>\n<table border=\"1\" class=\"dataframe\">\n  <thead>\n    <tr style=\"text-align: right;\">\n      <th></th>\n      <th>user_id</th>\n      <th>business_id</th>\n      <th>cat_id</th>\n      <th>cat_name</th>\n      <th>latitude</th>\n      <th>longitude</th>\n      <th>zone_offset</th>\n      <th>utc_time</th>\n      <th>local_time</th>\n      <th>trajectory_id</th>\n      <th>cat_code</th>\n    </tr>\n  </thead>\n  <tbody>\n    <tr>\n      <th>0</th>\n      <td>1</td>\n      <td>4b396b34f964a5204f5c25e3</td>\n      <td>4bf58dd8d48988d129951735</td>\n      <td>Train Station</td>\n      <td>35.74964694346383</td>\n      <td>139.80514526367188</td>\n      <td>540</td>\n      <td>2012-04-07 23:33:08+00:00</td>\n      <td>2012-04-08 08:33:08+00:00</td>\n      <td>1@1</td>\n      <td>0</td>\n    </tr>\n    <tr>\n      <th>1</th>\n      <td>1</td>\n      <td>4b305a74f964a5201ef924e3</td>\n      <td>4bf58dd8d48988d1fd931735</td>\n      <td>Subway</td>\n      <td>35.669687</td>\n      <td>139.767254</td>\n      <td>540</td>\n      <td>2012-04-08 00:03:35+00:00</td>\n      <td>2012-04-08 09:03:35+00:00</td>\n      <td>1@1</td>\n      <td>1</td>\n    </tr>\n    <tr>\n      <th>2</th>\n      <td>1</td>\n      <td>4b835f06f964a520330431e3</td>\n      <td>4bf58dd8d48988d1ff931735</td>\n      <td>Convention Center</td>\n      <td>35.668087628929534</td>\n      <td>139.76731538772583</td>\n      <td>540</td>\n      <td>2012-04-08 00:10:48+00:00</td>\n      <td>2012-04-08 09:10:48+00:00</td>\n      <td>1@1</td>\n      <td>2</td>\n    </tr>\n    <tr>\n      <th>3</th>\n      <td>1</td>\n      <td>4b835f06f964a520330431e3</td>\n      <td>4bf58dd8d48988d1ff931735</td>\n      <td>Convention Center</td>\n      <td>35.668087628929534</td>\n      <td>139.76731538772583</td>\n      <td>540</td>\n      <td>2012-04-08 01:18:21+00:00</td>\n      <td>2012-04-08 10:18:21+00:00</td>\n      <td>1@1</td>\n      <td>2</td>\n    </tr>\n    <tr>\n      <th>4</th>\n      <td>1</td>\n      <td>4b305a74f964a5201ef924e3</td>\n      <td>4bf58dd8d48988d1fd931735</td>\n      <td>Subway</td>\n      <td>35.669687</td>\n      <td>139.767254</td>\n      <td>540</td>\n      <td>2012-04-08 06:41:07+00:00</td>\n      <td>2012-04-08 15:41:07+00:00</td>\n      <td>1@1</td>\n      <td>1</td>\n    </tr>\n    <tr>\n      <th>...</th>\n      <td>...</td>\n      <td>...</td>\n      <td>...</td>\n      <td>...</td>\n      <td>...</td>\n      <td>...</td>\n      <td>...</td>\n      <td>...</td>\n      <td>...</td>\n      <td>...</td>\n      <td>...</td>\n    </tr>\n    <tr>\n      <th>351982</th>\n      <td>999</td>\n      <td>4b9779f5f964a5203e0535e3</td>\n      <td>4bf58dd8d48988d129951735</td>\n      <td>Train Station</td>\n      <td>35.69137390901421</td>\n      <td>139.6993589401245</td>\n      <td>540</td>\n      <td>2013-02-08 00:31:55+00:00</td>\n      <td>2013-02-08 09:31:55+00:00</td>\n      <td>999@20</td>\n      <td>0</td>\n    </tr>\n    <tr>\n      <th>351983</th>\n      <td>999</td>\n      <td>4b0587a6f964a5203d9e22e3</td>\n      <td>4bf58dd8d48988d129951735</td>\n      <td>Train Station</td>\n      <td>35.69080269423021</td>\n      <td>139.70027922656513</td>\n      <td>540</td>\n      <td>2013-02-12 08:17:09+00:00</td>\n      <td>2013-02-12 17:17:09+00:00</td>\n      <td>999@21</td>\n      <td>0</td>\n    </tr>\n    <tr>\n      <th>351984</th>\n      <td>999</td>\n      <td>4b5ecbf5f964a520fd9829e3</td>\n      <td>4bf58dd8d48988d129951735</td>\n      <td>Train Station</td>\n      <td>35.6895798775885</td>\n      <td>139.7000147227295</td>\n      <td>540</td>\n      <td>2013-02-12 08:19:24+00:00</td>\n      <td>2013-02-12 17:19:24+00:00</td>\n      <td>999@21</td>\n      <td>0</td>\n    </tr>\n    <tr>\n      <th>351985</th>\n      <td>999</td>\n      <td>4b0587a6f964a5203d9e22e3</td>\n      <td>4bf58dd8d48988d129951735</td>\n      <td>Train Station</td>\n      <td>35.69080269423021</td>\n      <td>139.70027922656513</td>\n      <td>540</td>\n      <td>2013-02-13 00:35:26+00:00</td>\n      <td>2013-02-13 09:35:26+00:00</td>\n      <td>999@21</td>\n      <td>0</td>\n    </tr>\n    <tr>\n      <th>351986</th>\n      <td>999</td>\n      <td>4b5ecbf5f964a520fd9829e3</td>\n      <td>4bf58dd8d48988d129951735</td>\n      <td>Train Station</td>\n      <td>35.68914210525224</td>\n      <td>139.70000973651244</td>\n      <td>540</td>\n      <td>2013-02-13 08:03:16+00:00</td>\n      <td>2013-02-13 17:03:16+00:00</td>\n      <td>999@21</td>\n      <td>0</td>\n    </tr>\n  </tbody>\n</table>\n<p>351987 rows × 11 columns</p>\n</div>"
     },
     "execution_count": 11,
     "metadata": {},
     "output_type": "execute_result"
    }
   ],
   "source": [
    "category_ids = p5['cat_id'].unique()\n",
    "category_reindex_map = {category_ids[i]: i for i in range(len(category_ids))}\n",
    "p5['cat_code'] = p5['cat_id'].map(category_reindex_map)\n",
    "p5"
   ],
   "metadata": {
    "collapsed": false
   }
  },
  {
   "cell_type": "code",
   "execution_count": 12,
   "outputs": [
    {
     "data": {
      "text/plain": "       user_id               business_id                    cat_id  \\\n0            1  4b396b34f964a5204f5c25e3  4bf58dd8d48988d129951735   \n1            1  4b305a74f964a5201ef924e3  4bf58dd8d48988d1fd931735   \n2            1  4b835f06f964a520330431e3  4bf58dd8d48988d1ff931735   \n3            1  4b835f06f964a520330431e3  4bf58dd8d48988d1ff931735   \n4            1  4b305a74f964a5201ef924e3  4bf58dd8d48988d1fd931735   \n...        ...                       ...                       ...   \n351982     999  4b9779f5f964a5203e0535e3  4bf58dd8d48988d129951735   \n351983     999  4b0587a6f964a5203d9e22e3  4bf58dd8d48988d129951735   \n351984     999  4b5ecbf5f964a520fd9829e3  4bf58dd8d48988d129951735   \n351985     999  4b0587a6f964a5203d9e22e3  4bf58dd8d48988d129951735   \n351986     999  4b5ecbf5f964a520fd9829e3  4bf58dd8d48988d129951735   \n\n                 cat_name            latitude           longitude zone_offset  \\\n0           Train Station   35.74964694346383  139.80514526367188         540   \n1                  Subway           35.669687          139.767254         540   \n2       Convention Center  35.668087628929534  139.76731538772583         540   \n3       Convention Center  35.668087628929534  139.76731538772583         540   \n4                  Subway           35.669687          139.767254         540   \n...                   ...                 ...                 ...         ...   \n351982      Train Station   35.69137390901421   139.6993589401245         540   \n351983      Train Station   35.69080269423021  139.70027922656513         540   \n351984      Train Station   35.68896262757877  139.70000973651244         540   \n351985      Train Station   35.69080269423021  139.70027922656513         540   \n351986      Train Station   35.68896262757877  139.70000973651244         540   \n\n                        utc_time                local_time trajectory_id  \\\n0      2012-04-07 23:33:08+00:00 2012-04-08 08:33:08+00:00           1@1   \n1      2012-04-08 00:03:35+00:00 2012-04-08 09:03:35+00:00           1@1   \n2      2012-04-08 00:10:48+00:00 2012-04-08 09:10:48+00:00           1@1   \n3      2012-04-08 01:18:21+00:00 2012-04-08 10:18:21+00:00           1@1   \n4      2012-04-08 06:41:07+00:00 2012-04-08 15:41:07+00:00           1@1   \n...                          ...                       ...           ...   \n351982 2013-02-08 00:31:55+00:00 2013-02-08 09:31:55+00:00        999@20   \n351983 2013-02-12 08:17:09+00:00 2013-02-12 17:17:09+00:00        999@21   \n351984 2013-02-12 08:19:24+00:00 2013-02-12 17:19:24+00:00        999@21   \n351985 2013-02-13 00:35:26+00:00 2013-02-13 09:35:26+00:00        999@21   \n351986 2013-02-13 08:03:16+00:00 2013-02-13 17:03:16+00:00        999@21   \n\n        cat_code                                lat_lon  \n0              0   35.74964694346383,139.80514526367188  \n1              1                   35.669687,139.767254  \n2              2  35.668087628929534,139.76731538772583  \n3              2  35.668087628929534,139.76731538772583  \n4              1                   35.669687,139.767254  \n...          ...                                    ...  \n351982         0    35.69137390901421,139.6993589401245  \n351983         0   35.69080269423021,139.70027922656513  \n351984         0     35.6895798775885,139.7000147227295  \n351985         0   35.69080269423021,139.70027922656513  \n351986         0   35.68914210525224,139.70000973651244  \n\n[351987 rows x 12 columns]",
      "text/html": "<div>\n<style scoped>\n    .dataframe tbody tr th:only-of-type {\n        vertical-align: middle;\n    }\n\n    .dataframe tbody tr th {\n        vertical-align: top;\n    }\n\n    .dataframe thead th {\n        text-align: right;\n    }\n</style>\n<table border=\"1\" class=\"dataframe\">\n  <thead>\n    <tr style=\"text-align: right;\">\n      <th></th>\n      <th>user_id</th>\n      <th>business_id</th>\n      <th>cat_id</th>\n      <th>cat_name</th>\n      <th>latitude</th>\n      <th>longitude</th>\n      <th>zone_offset</th>\n      <th>utc_time</th>\n      <th>local_time</th>\n      <th>trajectory_id</th>\n      <th>cat_code</th>\n      <th>lat_lon</th>\n    </tr>\n  </thead>\n  <tbody>\n    <tr>\n      <th>0</th>\n      <td>1</td>\n      <td>4b396b34f964a5204f5c25e3</td>\n      <td>4bf58dd8d48988d129951735</td>\n      <td>Train Station</td>\n      <td>35.74964694346383</td>\n      <td>139.80514526367188</td>\n      <td>540</td>\n      <td>2012-04-07 23:33:08+00:00</td>\n      <td>2012-04-08 08:33:08+00:00</td>\n      <td>1@1</td>\n      <td>0</td>\n      <td>35.74964694346383,139.80514526367188</td>\n    </tr>\n    <tr>\n      <th>1</th>\n      <td>1</td>\n      <td>4b305a74f964a5201ef924e3</td>\n      <td>4bf58dd8d48988d1fd931735</td>\n      <td>Subway</td>\n      <td>35.669687</td>\n      <td>139.767254</td>\n      <td>540</td>\n      <td>2012-04-08 00:03:35+00:00</td>\n      <td>2012-04-08 09:03:35+00:00</td>\n      <td>1@1</td>\n      <td>1</td>\n      <td>35.669687,139.767254</td>\n    </tr>\n    <tr>\n      <th>2</th>\n      <td>1</td>\n      <td>4b835f06f964a520330431e3</td>\n      <td>4bf58dd8d48988d1ff931735</td>\n      <td>Convention Center</td>\n      <td>35.668087628929534</td>\n      <td>139.76731538772583</td>\n      <td>540</td>\n      <td>2012-04-08 00:10:48+00:00</td>\n      <td>2012-04-08 09:10:48+00:00</td>\n      <td>1@1</td>\n      <td>2</td>\n      <td>35.668087628929534,139.76731538772583</td>\n    </tr>\n    <tr>\n      <th>3</th>\n      <td>1</td>\n      <td>4b835f06f964a520330431e3</td>\n      <td>4bf58dd8d48988d1ff931735</td>\n      <td>Convention Center</td>\n      <td>35.668087628929534</td>\n      <td>139.76731538772583</td>\n      <td>540</td>\n      <td>2012-04-08 01:18:21+00:00</td>\n      <td>2012-04-08 10:18:21+00:00</td>\n      <td>1@1</td>\n      <td>2</td>\n      <td>35.668087628929534,139.76731538772583</td>\n    </tr>\n    <tr>\n      <th>4</th>\n      <td>1</td>\n      <td>4b305a74f964a5201ef924e3</td>\n      <td>4bf58dd8d48988d1fd931735</td>\n      <td>Subway</td>\n      <td>35.669687</td>\n      <td>139.767254</td>\n      <td>540</td>\n      <td>2012-04-08 06:41:07+00:00</td>\n      <td>2012-04-08 15:41:07+00:00</td>\n      <td>1@1</td>\n      <td>1</td>\n      <td>35.669687,139.767254</td>\n    </tr>\n    <tr>\n      <th>...</th>\n      <td>...</td>\n      <td>...</td>\n      <td>...</td>\n      <td>...</td>\n      <td>...</td>\n      <td>...</td>\n      <td>...</td>\n      <td>...</td>\n      <td>...</td>\n      <td>...</td>\n      <td>...</td>\n      <td>...</td>\n    </tr>\n    <tr>\n      <th>351982</th>\n      <td>999</td>\n      <td>4b9779f5f964a5203e0535e3</td>\n      <td>4bf58dd8d48988d129951735</td>\n      <td>Train Station</td>\n      <td>35.69137390901421</td>\n      <td>139.6993589401245</td>\n      <td>540</td>\n      <td>2013-02-08 00:31:55+00:00</td>\n      <td>2013-02-08 09:31:55+00:00</td>\n      <td>999@20</td>\n      <td>0</td>\n      <td>35.69137390901421,139.6993589401245</td>\n    </tr>\n    <tr>\n      <th>351983</th>\n      <td>999</td>\n      <td>4b0587a6f964a5203d9e22e3</td>\n      <td>4bf58dd8d48988d129951735</td>\n      <td>Train Station</td>\n      <td>35.69080269423021</td>\n      <td>139.70027922656513</td>\n      <td>540</td>\n      <td>2013-02-12 08:17:09+00:00</td>\n      <td>2013-02-12 17:17:09+00:00</td>\n      <td>999@21</td>\n      <td>0</td>\n      <td>35.69080269423021,139.70027922656513</td>\n    </tr>\n    <tr>\n      <th>351984</th>\n      <td>999</td>\n      <td>4b5ecbf5f964a520fd9829e3</td>\n      <td>4bf58dd8d48988d129951735</td>\n      <td>Train Station</td>\n      <td>35.68896262757877</td>\n      <td>139.70000973651244</td>\n      <td>540</td>\n      <td>2013-02-12 08:19:24+00:00</td>\n      <td>2013-02-12 17:19:24+00:00</td>\n      <td>999@21</td>\n      <td>0</td>\n      <td>35.6895798775885,139.7000147227295</td>\n    </tr>\n    <tr>\n      <th>351985</th>\n      <td>999</td>\n      <td>4b0587a6f964a5203d9e22e3</td>\n      <td>4bf58dd8d48988d129951735</td>\n      <td>Train Station</td>\n      <td>35.69080269423021</td>\n      <td>139.70027922656513</td>\n      <td>540</td>\n      <td>2013-02-13 00:35:26+00:00</td>\n      <td>2013-02-13 09:35:26+00:00</td>\n      <td>999@21</td>\n      <td>0</td>\n      <td>35.69080269423021,139.70027922656513</td>\n    </tr>\n    <tr>\n      <th>351986</th>\n      <td>999</td>\n      <td>4b5ecbf5f964a520fd9829e3</td>\n      <td>4bf58dd8d48988d129951735</td>\n      <td>Train Station</td>\n      <td>35.68896262757877</td>\n      <td>139.70000973651244</td>\n      <td>540</td>\n      <td>2013-02-13 08:03:16+00:00</td>\n      <td>2013-02-13 17:03:16+00:00</td>\n      <td>999@21</td>\n      <td>0</td>\n      <td>35.68914210525224,139.70000973651244</td>\n    </tr>\n  </tbody>\n</table>\n<p>351987 rows × 12 columns</p>\n</div>"
     },
     "execution_count": 12,
     "metadata": {},
     "output_type": "execute_result"
    }
   ],
   "source": [
    "p5['lat_lon'] = p5['latitude'] + ',' + p5['longitude']\n",
    "p5 = p5.groupby('business_id').apply(lambda x: lon_lat_tuning(x))\n",
    "p5"
   ],
   "metadata": {
    "collapsed": false
   }
  },
  {
   "cell_type": "code",
   "execution_count": 13,
   "outputs": [],
   "source": [
    "all_poi = p5.drop_duplicates(subset=['business_id', 'latitude', 'longitude'])\n",
    "all_business_ids = np.array(all_poi['business_id'])\n",
    "all_lat_lon = np.array(\n",
    "    [[float(x['latitude']), float(x['longitude'])] for _, x in all_poi[['latitude', 'longitude']].iterrows()])"
   ],
   "metadata": {
    "collapsed": false
   }
  },
  {
   "cell_type": "code",
   "execution_count": 14,
   "outputs": [
    {
     "data": {
      "text/plain": "array([ -1,   0,   1,   2,   3,   4,   5,   6,   7,   8,   9,  10,  11,\n        12,  13,  14,  15,  16,  17,  18,  19,  20,  21,  22,  23,  24,\n        25,  26,  27,  28,  29,  30,  31,  32,  33,  34,  35,  36,  37,\n        38,  39,  40,  41,  42,  43,  44,  45,  46,  47,  48,  49,  50,\n        51,  52,  53,  54,  55,  56,  57,  58,  59,  60,  61,  62,  63,\n        64,  65,  66,  67,  68,  69,  70,  71,  72,  73,  74,  75,  76,\n        77,  78,  79,  80,  81,  82,  83,  84,  85,  86,  87,  88,  89,\n        90,  91,  92,  93,  94,  95,  96,  97,  98,  99, 100, 101, 102,\n       103, 104, 105, 106, 107, 108, 109, 110, 111, 112, 113, 114, 115,\n       116, 117, 118, 119, 120, 121, 122, 123, 124, 125, 126, 127, 128,\n       129, 130, 131, 132, 133, 134, 135, 136, 137, 138, 139, 140, 141,\n       142, 143, 144, 145, 146, 147, 148, 149, 150, 151, 152, 153, 154,\n       155, 156, 157, 158, 159, 160, 161, 162, 163, 164, 165, 166, 167,\n       168, 169, 170, 171, 172, 173, 174, 175, 176, 177, 178, 179, 180,\n       181, 182, 183, 184, 185, 186, 187, 188, 189, 190, 191, 192, 193,\n       194, 195, 196, 197, 198, 199, 200, 201, 202, 203, 204, 205, 206,\n       207, 208, 209, 210, 211, 212, 213, 214, 215, 216, 217, 218, 219,\n       220, 221, 222, 223, 224, 225, 226, 227, 228, 229, 230, 231, 232,\n       233, 234, 235, 236, 237, 238, 239, 240, 241, 242, 243, 244, 245,\n       246, 247, 248, 249, 250, 251, 252, 253, 254, 255, 256, 257, 258,\n       259, 260, 261, 262, 263, 264, 265, 266, 267, 268, 269, 270, 271,\n       272, 273, 274, 275, 276, 277, 278, 279, 280, 281, 282, 283, 284,\n       285, 286, 287, 288, 289, 290, 291, 292, 293], dtype=int64)"
     },
     "execution_count": 14,
     "metadata": {},
     "output_type": "execute_result"
    }
   ],
   "source": [
    "eps = 0.05\n",
    "min_samples = 5\n",
    "clusters = DBSCAN(eps=eps, min_samples=min_samples, metric=haversine).fit(all_lat_lon)\n",
    "np.unique(clusters.labels_)"
   ],
   "metadata": {
    "collapsed": false
   }
  },
  {
   "cell_type": "code",
   "execution_count": 15,
   "outputs": [],
   "source": [
    "individual_poi_map = {x: i for i, x in enumerate(all_business_ids[clusters.labels_ == -1])}"
   ],
   "metadata": {
    "collapsed": false
   }
  },
  {
   "cell_type": "code",
   "execution_count": 16,
   "outputs": [],
   "source": [
    "individual_in_collective_poi_map = dict()\n",
    "for cluster in np.unique(clusters.labels_):  # 给集合POI中的独立POI标POI编号\n",
    "    if cluster == -1:\n",
    "        continue\n",
    "    for x in all_business_ids[clusters.labels_ == cluster]:\n",
    "        individual_in_collective_poi_map[x] = len(individual_poi_map) + len(individual_in_collective_poi_map)"
   ],
   "metadata": {
    "collapsed": false
   }
  },
  {
   "cell_type": "code",
   "execution_count": 17,
   "outputs": [],
   "source": [
    "check_in_poi_map = dict()\n",
    "for cluster in np.unique(clusters.labels_):  # 给集合POI中的独立POI标POI编号\n",
    "    if cluster == -1:\n",
    "        continue\n",
    "    for x in all_business_ids[clusters.labels_ == cluster]:\n",
    "        check_in_poi_map[x] = len(individual_poi_map) + len(individual_in_collective_poi_map) + cluster"
   ],
   "metadata": {
    "collapsed": false
   }
  },
  {
   "cell_type": "code",
   "execution_count": 18,
   "outputs": [],
   "source": [
    "actual_poi_reindex_map = dict(**individual_poi_map, **individual_in_collective_poi_map)\n",
    "check_in_poi_reindex_map = dict(**individual_poi_map, **check_in_poi_map)"
   ],
   "metadata": {
    "collapsed": false
   }
  },
  {
   "cell_type": "code",
   "execution_count": 19,
   "outputs": [
    {
     "data": {
      "text/plain": "(7311, 4110, 4110)"
     },
     "execution_count": 19,
     "metadata": {},
     "output_type": "execute_result"
    }
   ],
   "source": [
    "len(individual_poi_map), len(individual_in_collective_poi_map), len(check_in_poi_map)"
   ],
   "metadata": {
    "collapsed": false
   }
  },
  {
   "cell_type": "code",
   "execution_count": 20,
   "outputs": [
    {
     "data": {
      "text/plain": "(11421, 11421)"
     },
     "execution_count": 20,
     "metadata": {},
     "output_type": "execute_result"
    }
   ],
   "source": [
    "len(actual_poi_reindex_map), len(check_in_poi_reindex_map)"
   ],
   "metadata": {
    "collapsed": false
   }
  },
  {
   "cell_type": "code",
   "execution_count": 21,
   "outputs": [
    {
     "data": {
      "text/plain": "       user_id               business_id                    cat_id  \\\n0            1  4b396b34f964a5204f5c25e3  4bf58dd8d48988d129951735   \n1            1  4b305a74f964a5201ef924e3  4bf58dd8d48988d1fd931735   \n2            1  4b835f06f964a520330431e3  4bf58dd8d48988d1ff931735   \n3            1  4b835f06f964a520330431e3  4bf58dd8d48988d1ff931735   \n4            1  4b305a74f964a5201ef924e3  4bf58dd8d48988d1fd931735   \n...        ...                       ...                       ...   \n351982     999  4b9779f5f964a5203e0535e3  4bf58dd8d48988d129951735   \n351983     999  4b0587a6f964a5203d9e22e3  4bf58dd8d48988d129951735   \n351984     999  4b5ecbf5f964a520fd9829e3  4bf58dd8d48988d129951735   \n351985     999  4b0587a6f964a5203d9e22e3  4bf58dd8d48988d129951735   \n351986     999  4b5ecbf5f964a520fd9829e3  4bf58dd8d48988d129951735   \n\n                 cat_name            latitude           longitude zone_offset  \\\n0           Train Station   35.74964694346383  139.80514526367188         540   \n1                  Subway           35.669687          139.767254         540   \n2       Convention Center  35.668087628929534  139.76731538772583         540   \n3       Convention Center  35.668087628929534  139.76731538772583         540   \n4                  Subway           35.669687          139.767254         540   \n...                   ...                 ...                 ...         ...   \n351982      Train Station   35.69137390901421   139.6993589401245         540   \n351983      Train Station   35.69080269423021  139.70027922656513         540   \n351984      Train Station   35.68896262757877  139.70000973651244         540   \n351985      Train Station   35.69080269423021  139.70027922656513         540   \n351986      Train Station   35.68896262757877  139.70000973651244         540   \n\n                        utc_time                local_time trajectory_id  \\\n0      2012-04-07 23:33:08+00:00 2012-04-08 08:33:08+00:00           1@1   \n1      2012-04-08 00:03:35+00:00 2012-04-08 09:03:35+00:00           1@1   \n2      2012-04-08 00:10:48+00:00 2012-04-08 09:10:48+00:00           1@1   \n3      2012-04-08 01:18:21+00:00 2012-04-08 10:18:21+00:00           1@1   \n4      2012-04-08 06:41:07+00:00 2012-04-08 15:41:07+00:00           1@1   \n...                          ...                       ...           ...   \n351982 2013-02-08 00:31:55+00:00 2013-02-08 09:31:55+00:00        999@20   \n351983 2013-02-12 08:17:09+00:00 2013-02-12 17:17:09+00:00        999@21   \n351984 2013-02-12 08:19:24+00:00 2013-02-12 17:19:24+00:00        999@21   \n351985 2013-02-13 00:35:26+00:00 2013-02-13 09:35:26+00:00        999@21   \n351986 2013-02-13 08:03:16+00:00 2013-02-13 17:03:16+00:00        999@21   \n\n        cat_code                                lat_lon  actual_poi_id  \\\n0              0   35.74964694346383,139.80514526367188           7311   \n1              1                   35.669687,139.767254           9560   \n2              2  35.668087628929534,139.76731538772583              0   \n3              2  35.668087628929534,139.76731538772583              0   \n4              1                   35.669687,139.767254           9560   \n...          ...                                    ...            ...   \n351982         0    35.69137390901421,139.6993589401245           8295   \n351983         0   35.69080269423021,139.70027922656513           8024   \n351984         0     35.6895798775885,139.7000147227295           8029   \n351985         0   35.69080269423021,139.70027922656513           8024   \n351986         0   35.68914210525224,139.70000973651244           8029   \n\n        check_in_poi_id    poi_type  \n0                 11421  collective  \n1                 11486  collective  \n2                     0  individual  \n3                     0  individual  \n4                 11486  collective  \n...                 ...         ...  \n351982            11428  collective  \n351983            11428  collective  \n351984            11428  collective  \n351985            11428  collective  \n351986            11428  collective  \n\n[351987 rows x 15 columns]",
      "text/html": "<div>\n<style scoped>\n    .dataframe tbody tr th:only-of-type {\n        vertical-align: middle;\n    }\n\n    .dataframe tbody tr th {\n        vertical-align: top;\n    }\n\n    .dataframe thead th {\n        text-align: right;\n    }\n</style>\n<table border=\"1\" class=\"dataframe\">\n  <thead>\n    <tr style=\"text-align: right;\">\n      <th></th>\n      <th>user_id</th>\n      <th>business_id</th>\n      <th>cat_id</th>\n      <th>cat_name</th>\n      <th>latitude</th>\n      <th>longitude</th>\n      <th>zone_offset</th>\n      <th>utc_time</th>\n      <th>local_time</th>\n      <th>trajectory_id</th>\n      <th>cat_code</th>\n      <th>lat_lon</th>\n      <th>actual_poi_id</th>\n      <th>check_in_poi_id</th>\n      <th>poi_type</th>\n    </tr>\n  </thead>\n  <tbody>\n    <tr>\n      <th>0</th>\n      <td>1</td>\n      <td>4b396b34f964a5204f5c25e3</td>\n      <td>4bf58dd8d48988d129951735</td>\n      <td>Train Station</td>\n      <td>35.74964694346383</td>\n      <td>139.80514526367188</td>\n      <td>540</td>\n      <td>2012-04-07 23:33:08+00:00</td>\n      <td>2012-04-08 08:33:08+00:00</td>\n      <td>1@1</td>\n      <td>0</td>\n      <td>35.74964694346383,139.80514526367188</td>\n      <td>7311</td>\n      <td>11421</td>\n      <td>collective</td>\n    </tr>\n    <tr>\n      <th>1</th>\n      <td>1</td>\n      <td>4b305a74f964a5201ef924e3</td>\n      <td>4bf58dd8d48988d1fd931735</td>\n      <td>Subway</td>\n      <td>35.669687</td>\n      <td>139.767254</td>\n      <td>540</td>\n      <td>2012-04-08 00:03:35+00:00</td>\n      <td>2012-04-08 09:03:35+00:00</td>\n      <td>1@1</td>\n      <td>1</td>\n      <td>35.669687,139.767254</td>\n      <td>9560</td>\n      <td>11486</td>\n      <td>collective</td>\n    </tr>\n    <tr>\n      <th>2</th>\n      <td>1</td>\n      <td>4b835f06f964a520330431e3</td>\n      <td>4bf58dd8d48988d1ff931735</td>\n      <td>Convention Center</td>\n      <td>35.668087628929534</td>\n      <td>139.76731538772583</td>\n      <td>540</td>\n      <td>2012-04-08 00:10:48+00:00</td>\n      <td>2012-04-08 09:10:48+00:00</td>\n      <td>1@1</td>\n      <td>2</td>\n      <td>35.668087628929534,139.76731538772583</td>\n      <td>0</td>\n      <td>0</td>\n      <td>individual</td>\n    </tr>\n    <tr>\n      <th>3</th>\n      <td>1</td>\n      <td>4b835f06f964a520330431e3</td>\n      <td>4bf58dd8d48988d1ff931735</td>\n      <td>Convention Center</td>\n      <td>35.668087628929534</td>\n      <td>139.76731538772583</td>\n      <td>540</td>\n      <td>2012-04-08 01:18:21+00:00</td>\n      <td>2012-04-08 10:18:21+00:00</td>\n      <td>1@1</td>\n      <td>2</td>\n      <td>35.668087628929534,139.76731538772583</td>\n      <td>0</td>\n      <td>0</td>\n      <td>individual</td>\n    </tr>\n    <tr>\n      <th>4</th>\n      <td>1</td>\n      <td>4b305a74f964a5201ef924e3</td>\n      <td>4bf58dd8d48988d1fd931735</td>\n      <td>Subway</td>\n      <td>35.669687</td>\n      <td>139.767254</td>\n      <td>540</td>\n      <td>2012-04-08 06:41:07+00:00</td>\n      <td>2012-04-08 15:41:07+00:00</td>\n      <td>1@1</td>\n      <td>1</td>\n      <td>35.669687,139.767254</td>\n      <td>9560</td>\n      <td>11486</td>\n      <td>collective</td>\n    </tr>\n    <tr>\n      <th>...</th>\n      <td>...</td>\n      <td>...</td>\n      <td>...</td>\n      <td>...</td>\n      <td>...</td>\n      <td>...</td>\n      <td>...</td>\n      <td>...</td>\n      <td>...</td>\n      <td>...</td>\n      <td>...</td>\n      <td>...</td>\n      <td>...</td>\n      <td>...</td>\n      <td>...</td>\n    </tr>\n    <tr>\n      <th>351982</th>\n      <td>999</td>\n      <td>4b9779f5f964a5203e0535e3</td>\n      <td>4bf58dd8d48988d129951735</td>\n      <td>Train Station</td>\n      <td>35.69137390901421</td>\n      <td>139.6993589401245</td>\n      <td>540</td>\n      <td>2013-02-08 00:31:55+00:00</td>\n      <td>2013-02-08 09:31:55+00:00</td>\n      <td>999@20</td>\n      <td>0</td>\n      <td>35.69137390901421,139.6993589401245</td>\n      <td>8295</td>\n      <td>11428</td>\n      <td>collective</td>\n    </tr>\n    <tr>\n      <th>351983</th>\n      <td>999</td>\n      <td>4b0587a6f964a5203d9e22e3</td>\n      <td>4bf58dd8d48988d129951735</td>\n      <td>Train Station</td>\n      <td>35.69080269423021</td>\n      <td>139.70027922656513</td>\n      <td>540</td>\n      <td>2013-02-12 08:17:09+00:00</td>\n      <td>2013-02-12 17:17:09+00:00</td>\n      <td>999@21</td>\n      <td>0</td>\n      <td>35.69080269423021,139.70027922656513</td>\n      <td>8024</td>\n      <td>11428</td>\n      <td>collective</td>\n    </tr>\n    <tr>\n      <th>351984</th>\n      <td>999</td>\n      <td>4b5ecbf5f964a520fd9829e3</td>\n      <td>4bf58dd8d48988d129951735</td>\n      <td>Train Station</td>\n      <td>35.68896262757877</td>\n      <td>139.70000973651244</td>\n      <td>540</td>\n      <td>2013-02-12 08:19:24+00:00</td>\n      <td>2013-02-12 17:19:24+00:00</td>\n      <td>999@21</td>\n      <td>0</td>\n      <td>35.6895798775885,139.7000147227295</td>\n      <td>8029</td>\n      <td>11428</td>\n      <td>collective</td>\n    </tr>\n    <tr>\n      <th>351985</th>\n      <td>999</td>\n      <td>4b0587a6f964a5203d9e22e3</td>\n      <td>4bf58dd8d48988d129951735</td>\n      <td>Train Station</td>\n      <td>35.69080269423021</td>\n      <td>139.70027922656513</td>\n      <td>540</td>\n      <td>2013-02-13 00:35:26+00:00</td>\n      <td>2013-02-13 09:35:26+00:00</td>\n      <td>999@21</td>\n      <td>0</td>\n      <td>35.69080269423021,139.70027922656513</td>\n      <td>8024</td>\n      <td>11428</td>\n      <td>collective</td>\n    </tr>\n    <tr>\n      <th>351986</th>\n      <td>999</td>\n      <td>4b5ecbf5f964a520fd9829e3</td>\n      <td>4bf58dd8d48988d129951735</td>\n      <td>Train Station</td>\n      <td>35.68896262757877</td>\n      <td>139.70000973651244</td>\n      <td>540</td>\n      <td>2013-02-13 08:03:16+00:00</td>\n      <td>2013-02-13 17:03:16+00:00</td>\n      <td>999@21</td>\n      <td>0</td>\n      <td>35.68914210525224,139.70000973651244</td>\n      <td>8029</td>\n      <td>11428</td>\n      <td>collective</td>\n    </tr>\n  </tbody>\n</table>\n<p>351987 rows × 15 columns</p>\n</div>"
     },
     "execution_count": 21,
     "metadata": {},
     "output_type": "execute_result"
    }
   ],
   "source": [
    "p5['actual_poi_id'] = p5['business_id'].map(actual_poi_reindex_map)\n",
    "p5['check_in_poi_id'] = p5['business_id'].map(check_in_poi_reindex_map)\n",
    "p5['poi_type'] = p5['actual_poi_id'].map(\n",
    "    lambda x: 'individual' if x < len(individual_poi_map) else 'collective')\n",
    "p5"
   ],
   "metadata": {
    "collapsed": false
   }
  },
  {
   "cell_type": "code",
   "execution_count": 22,
   "outputs": [
    {
     "data": {
      "text/plain": "       user_id               business_id                    cat_id  \\\n0            1  4b396b34f964a5204f5c25e3  4bf58dd8d48988d129951735   \n1            1  4b305a74f964a5201ef924e3  4bf58dd8d48988d1fd931735   \n2            1  4b835f06f964a520330431e3  4bf58dd8d48988d1ff931735   \n3            1  4b835f06f964a520330431e3  4bf58dd8d48988d1ff931735   \n4            1  4b305a74f964a5201ef924e3  4bf58dd8d48988d1fd931735   \n...        ...                       ...                       ...   \n351982     999  4b9779f5f964a5203e0535e3  4bf58dd8d48988d129951735   \n351983     999  4b0587a6f964a5203d9e22e3  4bf58dd8d48988d129951735   \n351984     999  4b5ecbf5f964a520fd9829e3  4bf58dd8d48988d129951735   \n351985     999  4b0587a6f964a5203d9e22e3  4bf58dd8d48988d129951735   \n351986     999  4b5ecbf5f964a520fd9829e3  4bf58dd8d48988d129951735   \n\n                 cat_name            latitude           longitude zone_offset  \\\n0           Train Station   35.74964694346383  139.80514526367188         540   \n1                  Subway           35.669687          139.767254         540   \n2       Convention Center  35.668087628929534  139.76731538772583         540   \n3       Convention Center  35.668087628929534  139.76731538772583         540   \n4                  Subway           35.669687          139.767254         540   \n...                   ...                 ...                 ...         ...   \n351982      Train Station   35.69137390901421   139.6993589401245         540   \n351983      Train Station   35.69080269423021  139.70027922656513         540   \n351984      Train Station   35.68896262757877  139.70000973651244         540   \n351985      Train Station   35.69080269423021  139.70027922656513         540   \n351986      Train Station   35.68896262757877  139.70000973651244         540   \n\n                        utc_time                local_time trajectory_id  \\\n0      2012-04-07 23:33:08+00:00 2012-04-08 08:33:08+00:00           1@1   \n1      2012-04-08 00:03:35+00:00 2012-04-08 09:03:35+00:00           1@1   \n2      2012-04-08 00:10:48+00:00 2012-04-08 09:10:48+00:00           1@1   \n3      2012-04-08 01:18:21+00:00 2012-04-08 10:18:21+00:00           1@1   \n4      2012-04-08 06:41:07+00:00 2012-04-08 15:41:07+00:00           1@1   \n...                          ...                       ...           ...   \n351982 2013-02-08 00:31:55+00:00 2013-02-08 09:31:55+00:00        999@20   \n351983 2013-02-12 08:17:09+00:00 2013-02-12 17:17:09+00:00        999@21   \n351984 2013-02-12 08:19:24+00:00 2013-02-12 17:19:24+00:00        999@21   \n351985 2013-02-13 00:35:26+00:00 2013-02-13 09:35:26+00:00        999@21   \n351986 2013-02-13 08:03:16+00:00 2013-02-13 17:03:16+00:00        999@21   \n\n        cat_code                                lat_lon  actual_poi_id  \\\n0              0   35.74964694346383,139.80514526367188           7311   \n1              1                   35.669687,139.767254           9560   \n2              2  35.668087628929534,139.76731538772583              0   \n3              2  35.668087628929534,139.76731538772583              0   \n4              1                   35.669687,139.767254           9560   \n...          ...                                    ...            ...   \n351982         0    35.69137390901421,139.6993589401245           8295   \n351983         0   35.69080269423021,139.70027922656513           8024   \n351984         0     35.6895798775885,139.7000147227295           8029   \n351985         0   35.69080269423021,139.70027922656513           8024   \n351986         0   35.68914210525224,139.70000973651244           8029   \n\n        check_in_poi_id    poi_type  norm_in_day_time  \n0                 11421  collective          0.375000  \n1                 11486  collective          0.395833  \n2                     0  individual          0.395833  \n3                     0  individual          0.437500  \n4                 11486  collective          0.666667  \n...                 ...         ...               ...  \n351982            11428  collective          0.416667  \n351983            11428  collective          0.729167  \n351984            11428  collective          0.729167  \n351985            11428  collective          0.416667  \n351986            11428  collective          0.729167  \n\n[351987 rows x 16 columns]",
      "text/html": "<div>\n<style scoped>\n    .dataframe tbody tr th:only-of-type {\n        vertical-align: middle;\n    }\n\n    .dataframe tbody tr th {\n        vertical-align: top;\n    }\n\n    .dataframe thead th {\n        text-align: right;\n    }\n</style>\n<table border=\"1\" class=\"dataframe\">\n  <thead>\n    <tr style=\"text-align: right;\">\n      <th></th>\n      <th>user_id</th>\n      <th>business_id</th>\n      <th>cat_id</th>\n      <th>cat_name</th>\n      <th>latitude</th>\n      <th>longitude</th>\n      <th>zone_offset</th>\n      <th>utc_time</th>\n      <th>local_time</th>\n      <th>trajectory_id</th>\n      <th>cat_code</th>\n      <th>lat_lon</th>\n      <th>actual_poi_id</th>\n      <th>check_in_poi_id</th>\n      <th>poi_type</th>\n      <th>norm_in_day_time</th>\n    </tr>\n  </thead>\n  <tbody>\n    <tr>\n      <th>0</th>\n      <td>1</td>\n      <td>4b396b34f964a5204f5c25e3</td>\n      <td>4bf58dd8d48988d129951735</td>\n      <td>Train Station</td>\n      <td>35.74964694346383</td>\n      <td>139.80514526367188</td>\n      <td>540</td>\n      <td>2012-04-07 23:33:08+00:00</td>\n      <td>2012-04-08 08:33:08+00:00</td>\n      <td>1@1</td>\n      <td>0</td>\n      <td>35.74964694346383,139.80514526367188</td>\n      <td>7311</td>\n      <td>11421</td>\n      <td>collective</td>\n      <td>0.375000</td>\n    </tr>\n    <tr>\n      <th>1</th>\n      <td>1</td>\n      <td>4b305a74f964a5201ef924e3</td>\n      <td>4bf58dd8d48988d1fd931735</td>\n      <td>Subway</td>\n      <td>35.669687</td>\n      <td>139.767254</td>\n      <td>540</td>\n      <td>2012-04-08 00:03:35+00:00</td>\n      <td>2012-04-08 09:03:35+00:00</td>\n      <td>1@1</td>\n      <td>1</td>\n      <td>35.669687,139.767254</td>\n      <td>9560</td>\n      <td>11486</td>\n      <td>collective</td>\n      <td>0.395833</td>\n    </tr>\n    <tr>\n      <th>2</th>\n      <td>1</td>\n      <td>4b835f06f964a520330431e3</td>\n      <td>4bf58dd8d48988d1ff931735</td>\n      <td>Convention Center</td>\n      <td>35.668087628929534</td>\n      <td>139.76731538772583</td>\n      <td>540</td>\n      <td>2012-04-08 00:10:48+00:00</td>\n      <td>2012-04-08 09:10:48+00:00</td>\n      <td>1@1</td>\n      <td>2</td>\n      <td>35.668087628929534,139.76731538772583</td>\n      <td>0</td>\n      <td>0</td>\n      <td>individual</td>\n      <td>0.395833</td>\n    </tr>\n    <tr>\n      <th>3</th>\n      <td>1</td>\n      <td>4b835f06f964a520330431e3</td>\n      <td>4bf58dd8d48988d1ff931735</td>\n      <td>Convention Center</td>\n      <td>35.668087628929534</td>\n      <td>139.76731538772583</td>\n      <td>540</td>\n      <td>2012-04-08 01:18:21+00:00</td>\n      <td>2012-04-08 10:18:21+00:00</td>\n      <td>1@1</td>\n      <td>2</td>\n      <td>35.668087628929534,139.76731538772583</td>\n      <td>0</td>\n      <td>0</td>\n      <td>individual</td>\n      <td>0.437500</td>\n    </tr>\n    <tr>\n      <th>4</th>\n      <td>1</td>\n      <td>4b305a74f964a5201ef924e3</td>\n      <td>4bf58dd8d48988d1fd931735</td>\n      <td>Subway</td>\n      <td>35.669687</td>\n      <td>139.767254</td>\n      <td>540</td>\n      <td>2012-04-08 06:41:07+00:00</td>\n      <td>2012-04-08 15:41:07+00:00</td>\n      <td>1@1</td>\n      <td>1</td>\n      <td>35.669687,139.767254</td>\n      <td>9560</td>\n      <td>11486</td>\n      <td>collective</td>\n      <td>0.666667</td>\n    </tr>\n    <tr>\n      <th>...</th>\n      <td>...</td>\n      <td>...</td>\n      <td>...</td>\n      <td>...</td>\n      <td>...</td>\n      <td>...</td>\n      <td>...</td>\n      <td>...</td>\n      <td>...</td>\n      <td>...</td>\n      <td>...</td>\n      <td>...</td>\n      <td>...</td>\n      <td>...</td>\n      <td>...</td>\n      <td>...</td>\n    </tr>\n    <tr>\n      <th>351982</th>\n      <td>999</td>\n      <td>4b9779f5f964a5203e0535e3</td>\n      <td>4bf58dd8d48988d129951735</td>\n      <td>Train Station</td>\n      <td>35.69137390901421</td>\n      <td>139.6993589401245</td>\n      <td>540</td>\n      <td>2013-02-08 00:31:55+00:00</td>\n      <td>2013-02-08 09:31:55+00:00</td>\n      <td>999@20</td>\n      <td>0</td>\n      <td>35.69137390901421,139.6993589401245</td>\n      <td>8295</td>\n      <td>11428</td>\n      <td>collective</td>\n      <td>0.416667</td>\n    </tr>\n    <tr>\n      <th>351983</th>\n      <td>999</td>\n      <td>4b0587a6f964a5203d9e22e3</td>\n      <td>4bf58dd8d48988d129951735</td>\n      <td>Train Station</td>\n      <td>35.69080269423021</td>\n      <td>139.70027922656513</td>\n      <td>540</td>\n      <td>2013-02-12 08:17:09+00:00</td>\n      <td>2013-02-12 17:17:09+00:00</td>\n      <td>999@21</td>\n      <td>0</td>\n      <td>35.69080269423021,139.70027922656513</td>\n      <td>8024</td>\n      <td>11428</td>\n      <td>collective</td>\n      <td>0.729167</td>\n    </tr>\n    <tr>\n      <th>351984</th>\n      <td>999</td>\n      <td>4b5ecbf5f964a520fd9829e3</td>\n      <td>4bf58dd8d48988d129951735</td>\n      <td>Train Station</td>\n      <td>35.68896262757877</td>\n      <td>139.70000973651244</td>\n      <td>540</td>\n      <td>2013-02-12 08:19:24+00:00</td>\n      <td>2013-02-12 17:19:24+00:00</td>\n      <td>999@21</td>\n      <td>0</td>\n      <td>35.6895798775885,139.7000147227295</td>\n      <td>8029</td>\n      <td>11428</td>\n      <td>collective</td>\n      <td>0.729167</td>\n    </tr>\n    <tr>\n      <th>351985</th>\n      <td>999</td>\n      <td>4b0587a6f964a5203d9e22e3</td>\n      <td>4bf58dd8d48988d129951735</td>\n      <td>Train Station</td>\n      <td>35.69080269423021</td>\n      <td>139.70027922656513</td>\n      <td>540</td>\n      <td>2013-02-13 00:35:26+00:00</td>\n      <td>2013-02-13 09:35:26+00:00</td>\n      <td>999@21</td>\n      <td>0</td>\n      <td>35.69080269423021,139.70027922656513</td>\n      <td>8024</td>\n      <td>11428</td>\n      <td>collective</td>\n      <td>0.416667</td>\n    </tr>\n    <tr>\n      <th>351986</th>\n      <td>999</td>\n      <td>4b5ecbf5f964a520fd9829e3</td>\n      <td>4bf58dd8d48988d129951735</td>\n      <td>Train Station</td>\n      <td>35.68896262757877</td>\n      <td>139.70000973651244</td>\n      <td>540</td>\n      <td>2013-02-13 08:03:16+00:00</td>\n      <td>2013-02-13 17:03:16+00:00</td>\n      <td>999@21</td>\n      <td>0</td>\n      <td>35.68914210525224,139.70000973651244</td>\n      <td>8029</td>\n      <td>11428</td>\n      <td>collective</td>\n      <td>0.729167</td>\n    </tr>\n  </tbody>\n</table>\n<p>351987 rows × 16 columns</p>\n</div>"
     },
     "execution_count": 22,
     "metadata": {},
     "output_type": "execute_result"
    }
   ],
   "source": [
    "p5['norm_in_day_time']= p5['local_time'].map(lambda x: convert_time(x))\n",
    "p5"
   ],
   "metadata": {
    "collapsed": false
   }
  },
  {
   "cell_type": "code",
   "execution_count": 23,
   "outputs": [
    {
     "data": {
      "text/plain": "array(['1', '10', '100', ..., '997', '998', '999'], dtype=object)"
     },
     "execution_count": 23,
     "metadata": {},
     "output_type": "execute_result"
    }
   ],
   "source": [
    "p5['user_id'].unique()"
   ],
   "metadata": {
    "collapsed": false
   }
  },
  {
   "cell_type": "code",
   "execution_count": 24,
   "outputs": [
    {
     "data": {
      "text/plain": "array([  0,   1,   2,   3,   4,   5,   6,   7,   8,   9,  10,  11,  12,\n        13,  14,  15,  16,  17,  18,  19,  20,  21,  22,  23,  24,  25,\n        26,  27,  28,  29,  30,  31,  32,  33,  34,  35,  36,  37,  38,\n        39,  40,  41,  42,  43,  44,  45,  46,  47,  48,  49,  50,  51,\n        52,  53,  54,  55,  56,  57,  58,  59,  60,  61,  62,  63,  64,\n        65,  66,  67,  68,  69,  70,  71,  72,  73,  74,  75,  76,  77,\n        78,  79,  80,  81,  82,  83,  84,  85,  86,  87,  88,  89,  90,\n        91,  92,  93,  94,  95,  96,  97,  98,  99, 100, 101, 102, 103,\n       104, 105, 106, 107, 108, 109, 110, 111, 112, 113, 114, 115, 116,\n       117, 118, 119, 120, 121, 122, 123, 124, 125, 126, 127, 128, 129,\n       130, 131, 132, 133, 134, 135, 136, 137, 138, 139, 140, 141, 142,\n       143, 144, 145, 146, 147, 148, 149, 150, 151, 152, 153, 154, 155,\n       156, 157, 158, 159, 160, 161, 162, 163, 164, 165, 166, 167, 168,\n       169, 170, 171, 172, 173, 174, 175, 176, 177, 178, 179, 180, 181,\n       182, 183, 184, 185, 186, 187, 188, 189, 190, 191, 192, 193, 194,\n       195, 196, 197, 198, 199, 200, 201, 202, 203, 204, 205, 206, 207,\n       208, 209, 210, 211, 212, 213, 214, 215, 216, 217, 218, 219, 220,\n       221, 222, 223, 224, 225, 226, 227, 228, 229, 230, 231, 232, 233,\n       234, 235, 236, 237, 238, 239, 240, 241, 242, 243, 244, 245, 246,\n       247, 248, 249, 250, 251, 252, 253, 254, 255, 256, 257, 258, 259,\n       260, 261, 262, 263, 264, 265, 266, 267, 268, 269, 270, 271, 272,\n       273, 274, 275, 276, 277, 278, 279, 280, 281, 282, 283, 284, 285,\n       286, 287, 288, 289, 290, 291, 292, 293, 294, 295, 296, 297, 298,\n       299, 300, 301, 302, 303, 304, 305, 306, 307, 308, 309, 310, 311,\n       312, 313, 314, 315], dtype=int64)"
     },
     "execution_count": 24,
     "metadata": {},
     "output_type": "execute_result"
    }
   ],
   "source": [
    "p5['cat_code'].unique()"
   ],
   "metadata": {
    "collapsed": false
   }
  },
  {
   "cell_type": "code",
   "execution_count": 25,
   "outputs": [],
   "source": [
    "p5['user_id'] = p5['user_id'].map(lambda x:'user_'+str(x))\n",
    "p5['actual_poi_id'] = p5['actual_poi_id'].map(lambda x: 'poi_' + str(x))\n",
    "p5['check_in_poi_id'] = p5['check_in_poi_id'].map(lambda x: 'poi_' + str(x))\n",
    "p5['trajectory_id'] = p5['trajectory_id'].map(lambda x: 'user_' + str(x))\n",
    "p5['cat_code'] = p5['cat_code'].map(lambda x: 'cat_' + str(x))"
   ],
   "metadata": {
    "collapsed": false
   }
  },
  {
   "cell_type": "code",
   "execution_count": 26,
   "outputs": [
    {
     "data": {
      "text/plain": "         user_id               business_id                    cat_id  \\\n0         user_1  4b396b34f964a5204f5c25e3  4bf58dd8d48988d129951735   \n1         user_1  4b305a74f964a5201ef924e3  4bf58dd8d48988d1fd931735   \n4         user_1  4b305a74f964a5201ef924e3  4bf58dd8d48988d1fd931735   \n5         user_1  4b19f917f964a520abe623e3  4bf58dd8d48988d129951735   \n6         user_1  4b73cca1f964a5203fbc2de3  4bf58dd8d48988d111941735   \n...          ...                       ...                       ...   \n351982  user_999  4b9779f5f964a5203e0535e3  4bf58dd8d48988d129951735   \n351983  user_999  4b0587a6f964a5203d9e22e3  4bf58dd8d48988d129951735   \n351984  user_999  4b5ecbf5f964a520fd9829e3  4bf58dd8d48988d129951735   \n351985  user_999  4b0587a6f964a5203d9e22e3  4bf58dd8d48988d129951735   \n351986  user_999  4b5ecbf5f964a520fd9829e3  4bf58dd8d48988d129951735   \n\n                   cat_name            latitude           longitude  \\\n0             Train Station   35.74964694346383  139.80514526367188   \n1                    Subway           35.669687          139.767254   \n4                    Subway           35.669687          139.767254   \n5             Train Station  35.698596195264464  139.77301824864617   \n6       Japanese Restaurant           35.700941          139.770555   \n...                     ...                 ...                 ...   \n351982        Train Station   35.69137390901421   139.6993589401245   \n351983        Train Station   35.69080269423021  139.70027922656513   \n351984        Train Station   35.68896262757877  139.70000973651244   \n351985        Train Station   35.69080269423021  139.70027922656513   \n351986        Train Station   35.68896262757877  139.70000973651244   \n\n       zone_offset                  utc_time                local_time  \\\n0              540 2012-04-07 23:33:08+00:00 2012-04-08 08:33:08+00:00   \n1              540 2012-04-08 00:03:35+00:00 2012-04-08 09:03:35+00:00   \n4              540 2012-04-08 06:41:07+00:00 2012-04-08 15:41:07+00:00   \n5              540 2012-04-08 06:55:32+00:00 2012-04-08 15:55:32+00:00   \n6              540 2012-04-08 07:46:06+00:00 2012-04-08 16:46:06+00:00   \n...            ...                       ...                       ...   \n351982         540 2013-02-08 00:31:55+00:00 2013-02-08 09:31:55+00:00   \n351983         540 2013-02-12 08:17:09+00:00 2013-02-12 17:17:09+00:00   \n351984         540 2013-02-12 08:19:24+00:00 2013-02-12 17:19:24+00:00   \n351985         540 2013-02-13 00:35:26+00:00 2013-02-13 09:35:26+00:00   \n351986         540 2013-02-13 08:03:16+00:00 2013-02-13 17:03:16+00:00   \n\n       trajectory_id cat_code                                lat_lon  \\\n0           user_1@1    cat_0   35.74964694346383,139.80514526367188   \n1           user_1@1    cat_1                   35.669687,139.767254   \n4           user_1@1    cat_1                   35.669687,139.767254   \n5           user_1@1    cat_0  35.698596195264464,139.77301824864617   \n6           user_1@1    cat_3                   35.700941,139.770555   \n...              ...      ...                                    ...   \n351982   user_999@20    cat_0    35.69137390901421,139.6993589401245   \n351983   user_999@21    cat_0   35.69080269423021,139.70027922656513   \n351984   user_999@21    cat_0     35.6895798775885,139.7000147227295   \n351985   user_999@21    cat_0   35.69080269423021,139.70027922656513   \n351986   user_999@21    cat_0   35.68914210525224,139.70000973651244   \n\n       actual_poi_id check_in_poi_id    poi_type  norm_in_day_time  \n0           poi_7311       poi_11421  collective          0.375000  \n1           poi_9560       poi_11486  collective          0.395833  \n4           poi_9560       poi_11486  collective          0.666667  \n5           poi_7322       poi_11422  collective          0.666667  \n6           poi_7323       poi_11422  collective          0.708333  \n...              ...             ...         ...               ...  \n351982      poi_8295       poi_11428  collective          0.416667  \n351983      poi_8024       poi_11428  collective          0.729167  \n351984      poi_8029       poi_11428  collective          0.729167  \n351985      poi_8024       poi_11428  collective          0.416667  \n351986      poi_8029       poi_11428  collective          0.729167  \n\n[199552 rows x 16 columns]",
      "text/html": "<div>\n<style scoped>\n    .dataframe tbody tr th:only-of-type {\n        vertical-align: middle;\n    }\n\n    .dataframe tbody tr th {\n        vertical-align: top;\n    }\n\n    .dataframe thead th {\n        text-align: right;\n    }\n</style>\n<table border=\"1\" class=\"dataframe\">\n  <thead>\n    <tr style=\"text-align: right;\">\n      <th></th>\n      <th>user_id</th>\n      <th>business_id</th>\n      <th>cat_id</th>\n      <th>cat_name</th>\n      <th>latitude</th>\n      <th>longitude</th>\n      <th>zone_offset</th>\n      <th>utc_time</th>\n      <th>local_time</th>\n      <th>trajectory_id</th>\n      <th>cat_code</th>\n      <th>lat_lon</th>\n      <th>actual_poi_id</th>\n      <th>check_in_poi_id</th>\n      <th>poi_type</th>\n      <th>norm_in_day_time</th>\n    </tr>\n  </thead>\n  <tbody>\n    <tr>\n      <th>0</th>\n      <td>user_1</td>\n      <td>4b396b34f964a5204f5c25e3</td>\n      <td>4bf58dd8d48988d129951735</td>\n      <td>Train Station</td>\n      <td>35.74964694346383</td>\n      <td>139.80514526367188</td>\n      <td>540</td>\n      <td>2012-04-07 23:33:08+00:00</td>\n      <td>2012-04-08 08:33:08+00:00</td>\n      <td>user_1@1</td>\n      <td>cat_0</td>\n      <td>35.74964694346383,139.80514526367188</td>\n      <td>poi_7311</td>\n      <td>poi_11421</td>\n      <td>collective</td>\n      <td>0.375000</td>\n    </tr>\n    <tr>\n      <th>1</th>\n      <td>user_1</td>\n      <td>4b305a74f964a5201ef924e3</td>\n      <td>4bf58dd8d48988d1fd931735</td>\n      <td>Subway</td>\n      <td>35.669687</td>\n      <td>139.767254</td>\n      <td>540</td>\n      <td>2012-04-08 00:03:35+00:00</td>\n      <td>2012-04-08 09:03:35+00:00</td>\n      <td>user_1@1</td>\n      <td>cat_1</td>\n      <td>35.669687,139.767254</td>\n      <td>poi_9560</td>\n      <td>poi_11486</td>\n      <td>collective</td>\n      <td>0.395833</td>\n    </tr>\n    <tr>\n      <th>4</th>\n      <td>user_1</td>\n      <td>4b305a74f964a5201ef924e3</td>\n      <td>4bf58dd8d48988d1fd931735</td>\n      <td>Subway</td>\n      <td>35.669687</td>\n      <td>139.767254</td>\n      <td>540</td>\n      <td>2012-04-08 06:41:07+00:00</td>\n      <td>2012-04-08 15:41:07+00:00</td>\n      <td>user_1@1</td>\n      <td>cat_1</td>\n      <td>35.669687,139.767254</td>\n      <td>poi_9560</td>\n      <td>poi_11486</td>\n      <td>collective</td>\n      <td>0.666667</td>\n    </tr>\n    <tr>\n      <th>5</th>\n      <td>user_1</td>\n      <td>4b19f917f964a520abe623e3</td>\n      <td>4bf58dd8d48988d129951735</td>\n      <td>Train Station</td>\n      <td>35.698596195264464</td>\n      <td>139.77301824864617</td>\n      <td>540</td>\n      <td>2012-04-08 06:55:32+00:00</td>\n      <td>2012-04-08 15:55:32+00:00</td>\n      <td>user_1@1</td>\n      <td>cat_0</td>\n      <td>35.698596195264464,139.77301824864617</td>\n      <td>poi_7322</td>\n      <td>poi_11422</td>\n      <td>collective</td>\n      <td>0.666667</td>\n    </tr>\n    <tr>\n      <th>6</th>\n      <td>user_1</td>\n      <td>4b73cca1f964a5203fbc2de3</td>\n      <td>4bf58dd8d48988d111941735</td>\n      <td>Japanese Restaurant</td>\n      <td>35.700941</td>\n      <td>139.770555</td>\n      <td>540</td>\n      <td>2012-04-08 07:46:06+00:00</td>\n      <td>2012-04-08 16:46:06+00:00</td>\n      <td>user_1@1</td>\n      <td>cat_3</td>\n      <td>35.700941,139.770555</td>\n      <td>poi_7323</td>\n      <td>poi_11422</td>\n      <td>collective</td>\n      <td>0.708333</td>\n    </tr>\n    <tr>\n      <th>...</th>\n      <td>...</td>\n      <td>...</td>\n      <td>...</td>\n      <td>...</td>\n      <td>...</td>\n      <td>...</td>\n      <td>...</td>\n      <td>...</td>\n      <td>...</td>\n      <td>...</td>\n      <td>...</td>\n      <td>...</td>\n      <td>...</td>\n      <td>...</td>\n      <td>...</td>\n      <td>...</td>\n    </tr>\n    <tr>\n      <th>351982</th>\n      <td>user_999</td>\n      <td>4b9779f5f964a5203e0535e3</td>\n      <td>4bf58dd8d48988d129951735</td>\n      <td>Train Station</td>\n      <td>35.69137390901421</td>\n      <td>139.6993589401245</td>\n      <td>540</td>\n      <td>2013-02-08 00:31:55+00:00</td>\n      <td>2013-02-08 09:31:55+00:00</td>\n      <td>user_999@20</td>\n      <td>cat_0</td>\n      <td>35.69137390901421,139.6993589401245</td>\n      <td>poi_8295</td>\n      <td>poi_11428</td>\n      <td>collective</td>\n      <td>0.416667</td>\n    </tr>\n    <tr>\n      <th>351983</th>\n      <td>user_999</td>\n      <td>4b0587a6f964a5203d9e22e3</td>\n      <td>4bf58dd8d48988d129951735</td>\n      <td>Train Station</td>\n      <td>35.69080269423021</td>\n      <td>139.70027922656513</td>\n      <td>540</td>\n      <td>2013-02-12 08:17:09+00:00</td>\n      <td>2013-02-12 17:17:09+00:00</td>\n      <td>user_999@21</td>\n      <td>cat_0</td>\n      <td>35.69080269423021,139.70027922656513</td>\n      <td>poi_8024</td>\n      <td>poi_11428</td>\n      <td>collective</td>\n      <td>0.729167</td>\n    </tr>\n    <tr>\n      <th>351984</th>\n      <td>user_999</td>\n      <td>4b5ecbf5f964a520fd9829e3</td>\n      <td>4bf58dd8d48988d129951735</td>\n      <td>Train Station</td>\n      <td>35.68896262757877</td>\n      <td>139.70000973651244</td>\n      <td>540</td>\n      <td>2013-02-12 08:19:24+00:00</td>\n      <td>2013-02-12 17:19:24+00:00</td>\n      <td>user_999@21</td>\n      <td>cat_0</td>\n      <td>35.6895798775885,139.7000147227295</td>\n      <td>poi_8029</td>\n      <td>poi_11428</td>\n      <td>collective</td>\n      <td>0.729167</td>\n    </tr>\n    <tr>\n      <th>351985</th>\n      <td>user_999</td>\n      <td>4b0587a6f964a5203d9e22e3</td>\n      <td>4bf58dd8d48988d129951735</td>\n      <td>Train Station</td>\n      <td>35.69080269423021</td>\n      <td>139.70027922656513</td>\n      <td>540</td>\n      <td>2013-02-13 00:35:26+00:00</td>\n      <td>2013-02-13 09:35:26+00:00</td>\n      <td>user_999@21</td>\n      <td>cat_0</td>\n      <td>35.69080269423021,139.70027922656513</td>\n      <td>poi_8024</td>\n      <td>poi_11428</td>\n      <td>collective</td>\n      <td>0.416667</td>\n    </tr>\n    <tr>\n      <th>351986</th>\n      <td>user_999</td>\n      <td>4b5ecbf5f964a520fd9829e3</td>\n      <td>4bf58dd8d48988d129951735</td>\n      <td>Train Station</td>\n      <td>35.68896262757877</td>\n      <td>139.70000973651244</td>\n      <td>540</td>\n      <td>2013-02-13 08:03:16+00:00</td>\n      <td>2013-02-13 17:03:16+00:00</td>\n      <td>user_999@21</td>\n      <td>cat_0</td>\n      <td>35.68914210525224,139.70000973651244</td>\n      <td>poi_8029</td>\n      <td>poi_11428</td>\n      <td>collective</td>\n      <td>0.729167</td>\n    </tr>\n  </tbody>\n</table>\n<p>199552 rows × 16 columns</p>\n</div>"
     },
     "execution_count": 26,
     "metadata": {},
     "output_type": "execute_result"
    }
   ],
   "source": [
    "p5[p5['poi_type']=='collective']"
   ],
   "metadata": {
    "collapsed": false
   }
  },
  {
   "cell_type": "code",
   "execution_count": 27,
   "outputs": [
    {
     "data": {
      "text/plain": "         user_id               business_id                    cat_id  \\\n2         user_1  4b835f06f964a520330431e3  4bf58dd8d48988d1ff931735   \n3         user_1  4b835f06f964a520330431e3  4bf58dd8d48988d1ff931735   \n14        user_1  4f6d5c5be4b04cb293be0d42  4d954b0ea243a5684a65b473   \n15        user_1  4b5653a9f964a520810b28e3  4bf58dd8d48988d129951735   \n16        user_1  4b6a4f2df964a520b0d12be3  4bf58dd8d48988d1ff931735   \n...          ...                       ...                       ...   \n351926  user_999  4b17d66cf964a520b7c823e3  4bf58dd8d48988d129951735   \n351940  user_999  4b24e5a2f964a520636a24e3  4bf58dd8d48988d129951735   \n351952  user_999  4b21c0def964a520104124e3  4bf58dd8d48988d129951735   \n351954  user_999  4b89fd41f964a520685a32e3  4bf58dd8d48988d1ed931735   \n351955  user_999  4c9150c757e5b60c3aa15f1c  4bf58dd8d48988d1f0931735   \n\n                 cat_name            latitude           longitude zone_offset  \\\n2       Convention Center  35.668087628929534  139.76731538772583         540   \n3       Convention Center  35.668087628929534  139.76731538772583         540   \n14      Convenience Store           35.634079          139.791346         540   \n15          Train Station   35.63440986098353  139.79161351919174         540   \n16      Convention Center   35.62986667837494  139.79426622390747         540   \n...                   ...                 ...                 ...         ...   \n351926      Train Station   35.66158508135192  139.66747283935547         540   \n351940      Train Station   35.68417610648677  139.70206260681152         540   \n351952      Train Station    35.6513682132017  139.63663816452026         540   \n351954            Airport   35.55059416176674  139.78411674499512         540   \n351955            Airport  35.551336669485046  139.78108450770378         540   \n\n                        utc_time                local_time trajectory_id  \\\n2      2012-04-08 00:10:48+00:00 2012-04-08 09:10:48+00:00      user_1@1   \n3      2012-04-08 01:18:21+00:00 2012-04-08 10:18:21+00:00      user_1@1   \n14     2012-05-05 21:23:08+00:00 2012-05-06 06:23:08+00:00      user_1@2   \n15     2012-05-05 21:23:21+00:00 2012-05-06 06:23:21+00:00      user_1@2   \n16     2012-05-05 21:36:21+00:00 2012-05-06 06:36:21+00:00      user_1@2   \n...                          ...                       ...           ...   \n351926 2012-12-08 04:43:32+00:00 2012-12-08 13:43:32+00:00    user_999@9   \n351940 2013-01-17 06:26:01+00:00 2013-01-17 15:26:01+00:00   user_999@12   \n351952 2013-01-22 06:43:11+00:00 2013-01-22 15:43:11+00:00   user_999@14   \n351954 2013-01-27 10:20:14+00:00 2013-01-27 19:20:14+00:00   user_999@15   \n351955 2013-01-27 10:25:54+00:00 2013-01-27 19:25:54+00:00   user_999@15   \n\n       cat_code                                lat_lon actual_poi_id  \\\n2         cat_2  35.668087628929534,139.76731538772583         poi_0   \n3         cat_2  35.668087628929534,139.76731538772583         poi_0   \n14        cat_7   35.63379646661188,139.79151759062583         poi_1   \n15        cat_0   35.63440986098353,139.79161351919174         poi_2   \n16        cat_2   35.62986667837494,139.79426622390747         poi_3   \n...         ...                                    ...           ...   \n351926    cat_0   35.66158508135192,139.66747283935547       poi_107   \n351940    cat_0   35.68417610648677,139.70206260681152        poi_23   \n351952    cat_0    35.6513682132017,139.63663816452026       poi_685   \n351954  cat_172  35.550227542635206,139.78566169738767       poi_853   \n351955   cat_36                   35.551246,139.780863      poi_2397   \n\n       check_in_poi_id    poi_type  norm_in_day_time  \n2                poi_0  individual          0.395833  \n3                poi_0  individual          0.437500  \n14               poi_1  individual          0.270833  \n15               poi_2  individual          0.270833  \n16               poi_3  individual          0.291667  \n...                ...         ...               ...  \n351926         poi_107  individual          0.583333  \n351940          poi_23  individual          0.645833  \n351952         poi_685  individual          0.666667  \n351954         poi_853  individual          0.812500  \n351955        poi_2397  individual          0.812500  \n\n[152435 rows x 16 columns]",
      "text/html": "<div>\n<style scoped>\n    .dataframe tbody tr th:only-of-type {\n        vertical-align: middle;\n    }\n\n    .dataframe tbody tr th {\n        vertical-align: top;\n    }\n\n    .dataframe thead th {\n        text-align: right;\n    }\n</style>\n<table border=\"1\" class=\"dataframe\">\n  <thead>\n    <tr style=\"text-align: right;\">\n      <th></th>\n      <th>user_id</th>\n      <th>business_id</th>\n      <th>cat_id</th>\n      <th>cat_name</th>\n      <th>latitude</th>\n      <th>longitude</th>\n      <th>zone_offset</th>\n      <th>utc_time</th>\n      <th>local_time</th>\n      <th>trajectory_id</th>\n      <th>cat_code</th>\n      <th>lat_lon</th>\n      <th>actual_poi_id</th>\n      <th>check_in_poi_id</th>\n      <th>poi_type</th>\n      <th>norm_in_day_time</th>\n    </tr>\n  </thead>\n  <tbody>\n    <tr>\n      <th>2</th>\n      <td>user_1</td>\n      <td>4b835f06f964a520330431e3</td>\n      <td>4bf58dd8d48988d1ff931735</td>\n      <td>Convention Center</td>\n      <td>35.668087628929534</td>\n      <td>139.76731538772583</td>\n      <td>540</td>\n      <td>2012-04-08 00:10:48+00:00</td>\n      <td>2012-04-08 09:10:48+00:00</td>\n      <td>user_1@1</td>\n      <td>cat_2</td>\n      <td>35.668087628929534,139.76731538772583</td>\n      <td>poi_0</td>\n      <td>poi_0</td>\n      <td>individual</td>\n      <td>0.395833</td>\n    </tr>\n    <tr>\n      <th>3</th>\n      <td>user_1</td>\n      <td>4b835f06f964a520330431e3</td>\n      <td>4bf58dd8d48988d1ff931735</td>\n      <td>Convention Center</td>\n      <td>35.668087628929534</td>\n      <td>139.76731538772583</td>\n      <td>540</td>\n      <td>2012-04-08 01:18:21+00:00</td>\n      <td>2012-04-08 10:18:21+00:00</td>\n      <td>user_1@1</td>\n      <td>cat_2</td>\n      <td>35.668087628929534,139.76731538772583</td>\n      <td>poi_0</td>\n      <td>poi_0</td>\n      <td>individual</td>\n      <td>0.437500</td>\n    </tr>\n    <tr>\n      <th>14</th>\n      <td>user_1</td>\n      <td>4f6d5c5be4b04cb293be0d42</td>\n      <td>4d954b0ea243a5684a65b473</td>\n      <td>Convenience Store</td>\n      <td>35.634079</td>\n      <td>139.791346</td>\n      <td>540</td>\n      <td>2012-05-05 21:23:08+00:00</td>\n      <td>2012-05-06 06:23:08+00:00</td>\n      <td>user_1@2</td>\n      <td>cat_7</td>\n      <td>35.63379646661188,139.79151759062583</td>\n      <td>poi_1</td>\n      <td>poi_1</td>\n      <td>individual</td>\n      <td>0.270833</td>\n    </tr>\n    <tr>\n      <th>15</th>\n      <td>user_1</td>\n      <td>4b5653a9f964a520810b28e3</td>\n      <td>4bf58dd8d48988d129951735</td>\n      <td>Train Station</td>\n      <td>35.63440986098353</td>\n      <td>139.79161351919174</td>\n      <td>540</td>\n      <td>2012-05-05 21:23:21+00:00</td>\n      <td>2012-05-06 06:23:21+00:00</td>\n      <td>user_1@2</td>\n      <td>cat_0</td>\n      <td>35.63440986098353,139.79161351919174</td>\n      <td>poi_2</td>\n      <td>poi_2</td>\n      <td>individual</td>\n      <td>0.270833</td>\n    </tr>\n    <tr>\n      <th>16</th>\n      <td>user_1</td>\n      <td>4b6a4f2df964a520b0d12be3</td>\n      <td>4bf58dd8d48988d1ff931735</td>\n      <td>Convention Center</td>\n      <td>35.62986667837494</td>\n      <td>139.79426622390747</td>\n      <td>540</td>\n      <td>2012-05-05 21:36:21+00:00</td>\n      <td>2012-05-06 06:36:21+00:00</td>\n      <td>user_1@2</td>\n      <td>cat_2</td>\n      <td>35.62986667837494,139.79426622390747</td>\n      <td>poi_3</td>\n      <td>poi_3</td>\n      <td>individual</td>\n      <td>0.291667</td>\n    </tr>\n    <tr>\n      <th>...</th>\n      <td>...</td>\n      <td>...</td>\n      <td>...</td>\n      <td>...</td>\n      <td>...</td>\n      <td>...</td>\n      <td>...</td>\n      <td>...</td>\n      <td>...</td>\n      <td>...</td>\n      <td>...</td>\n      <td>...</td>\n      <td>...</td>\n      <td>...</td>\n      <td>...</td>\n      <td>...</td>\n    </tr>\n    <tr>\n      <th>351926</th>\n      <td>user_999</td>\n      <td>4b17d66cf964a520b7c823e3</td>\n      <td>4bf58dd8d48988d129951735</td>\n      <td>Train Station</td>\n      <td>35.66158508135192</td>\n      <td>139.66747283935547</td>\n      <td>540</td>\n      <td>2012-12-08 04:43:32+00:00</td>\n      <td>2012-12-08 13:43:32+00:00</td>\n      <td>user_999@9</td>\n      <td>cat_0</td>\n      <td>35.66158508135192,139.66747283935547</td>\n      <td>poi_107</td>\n      <td>poi_107</td>\n      <td>individual</td>\n      <td>0.583333</td>\n    </tr>\n    <tr>\n      <th>351940</th>\n      <td>user_999</td>\n      <td>4b24e5a2f964a520636a24e3</td>\n      <td>4bf58dd8d48988d129951735</td>\n      <td>Train Station</td>\n      <td>35.68417610648677</td>\n      <td>139.70206260681152</td>\n      <td>540</td>\n      <td>2013-01-17 06:26:01+00:00</td>\n      <td>2013-01-17 15:26:01+00:00</td>\n      <td>user_999@12</td>\n      <td>cat_0</td>\n      <td>35.68417610648677,139.70206260681152</td>\n      <td>poi_23</td>\n      <td>poi_23</td>\n      <td>individual</td>\n      <td>0.645833</td>\n    </tr>\n    <tr>\n      <th>351952</th>\n      <td>user_999</td>\n      <td>4b21c0def964a520104124e3</td>\n      <td>4bf58dd8d48988d129951735</td>\n      <td>Train Station</td>\n      <td>35.6513682132017</td>\n      <td>139.63663816452026</td>\n      <td>540</td>\n      <td>2013-01-22 06:43:11+00:00</td>\n      <td>2013-01-22 15:43:11+00:00</td>\n      <td>user_999@14</td>\n      <td>cat_0</td>\n      <td>35.6513682132017,139.63663816452026</td>\n      <td>poi_685</td>\n      <td>poi_685</td>\n      <td>individual</td>\n      <td>0.666667</td>\n    </tr>\n    <tr>\n      <th>351954</th>\n      <td>user_999</td>\n      <td>4b89fd41f964a520685a32e3</td>\n      <td>4bf58dd8d48988d1ed931735</td>\n      <td>Airport</td>\n      <td>35.55059416176674</td>\n      <td>139.78411674499512</td>\n      <td>540</td>\n      <td>2013-01-27 10:20:14+00:00</td>\n      <td>2013-01-27 19:20:14+00:00</td>\n      <td>user_999@15</td>\n      <td>cat_172</td>\n      <td>35.550227542635206,139.78566169738767</td>\n      <td>poi_853</td>\n      <td>poi_853</td>\n      <td>individual</td>\n      <td>0.812500</td>\n    </tr>\n    <tr>\n      <th>351955</th>\n      <td>user_999</td>\n      <td>4c9150c757e5b60c3aa15f1c</td>\n      <td>4bf58dd8d48988d1f0931735</td>\n      <td>Airport</td>\n      <td>35.551336669485046</td>\n      <td>139.78108450770378</td>\n      <td>540</td>\n      <td>2013-01-27 10:25:54+00:00</td>\n      <td>2013-01-27 19:25:54+00:00</td>\n      <td>user_999@15</td>\n      <td>cat_36</td>\n      <td>35.551246,139.780863</td>\n      <td>poi_2397</td>\n      <td>poi_2397</td>\n      <td>individual</td>\n      <td>0.812500</td>\n    </tr>\n  </tbody>\n</table>\n<p>152435 rows × 16 columns</p>\n</div>"
     },
     "execution_count": 27,
     "metadata": {},
     "output_type": "execute_result"
    }
   ],
   "source": [
    "p5[p5['poi_type']=='individual']"
   ],
   "metadata": {
    "collapsed": false
   }
  },
  {
   "cell_type": "code",
   "execution_count": 28,
   "outputs": [
    {
     "data": {
      "text/plain": "         user_id               business_id                    cat_id  \\\n0         user_1  4b396b34f964a5204f5c25e3  4bf58dd8d48988d129951735   \n1         user_1  4b305a74f964a5201ef924e3  4bf58dd8d48988d1fd931735   \n2         user_1  4b835f06f964a520330431e3  4bf58dd8d48988d1ff931735   \n3         user_1  4b835f06f964a520330431e3  4bf58dd8d48988d1ff931735   \n4         user_1  4b305a74f964a5201ef924e3  4bf58dd8d48988d1fd931735   \n...          ...                       ...                       ...   \n351982  user_999  4b9779f5f964a5203e0535e3  4bf58dd8d48988d129951735   \n351983  user_999  4b0587a6f964a5203d9e22e3  4bf58dd8d48988d129951735   \n351984  user_999  4b5ecbf5f964a520fd9829e3  4bf58dd8d48988d129951735   \n351985  user_999  4b0587a6f964a5203d9e22e3  4bf58dd8d48988d129951735   \n351986  user_999  4b5ecbf5f964a520fd9829e3  4bf58dd8d48988d129951735   \n\n                 cat_name            latitude           longitude zone_offset  \\\n0           Train Station   35.74964694346383  139.80514526367188         540   \n1                  Subway           35.669687          139.767254         540   \n2       Convention Center  35.668087628929534  139.76731538772583         540   \n3       Convention Center  35.668087628929534  139.76731538772583         540   \n4                  Subway           35.669687          139.767254         540   \n...                   ...                 ...                 ...         ...   \n351982      Train Station   35.69137390901421   139.6993589401245         540   \n351983      Train Station   35.69080269423021  139.70027922656513         540   \n351984      Train Station   35.68896262757877  139.70000973651244         540   \n351985      Train Station   35.69080269423021  139.70027922656513         540   \n351986      Train Station   35.68896262757877  139.70000973651244         540   \n\n                        utc_time                local_time trajectory_id  \\\n0      2012-04-07 23:33:08+00:00 2012-04-08 08:33:08+00:00      user_1@1   \n1      2012-04-08 00:03:35+00:00 2012-04-08 09:03:35+00:00      user_1@1   \n2      2012-04-08 00:10:48+00:00 2012-04-08 09:10:48+00:00      user_1@1   \n3      2012-04-08 01:18:21+00:00 2012-04-08 10:18:21+00:00      user_1@1   \n4      2012-04-08 06:41:07+00:00 2012-04-08 15:41:07+00:00      user_1@1   \n...                          ...                       ...           ...   \n351982 2013-02-08 00:31:55+00:00 2013-02-08 09:31:55+00:00   user_999@20   \n351983 2013-02-12 08:17:09+00:00 2013-02-12 17:17:09+00:00   user_999@21   \n351984 2013-02-12 08:19:24+00:00 2013-02-12 17:19:24+00:00   user_999@21   \n351985 2013-02-13 00:35:26+00:00 2013-02-13 09:35:26+00:00   user_999@21   \n351986 2013-02-13 08:03:16+00:00 2013-02-13 17:03:16+00:00   user_999@21   \n\n       cat_code                                lat_lon actual_poi_id  \\\n0         cat_0   35.74964694346383,139.80514526367188      poi_7311   \n1         cat_1                   35.669687,139.767254      poi_9560   \n2         cat_2  35.668087628929534,139.76731538772583         poi_0   \n3         cat_2  35.668087628929534,139.76731538772583         poi_0   \n4         cat_1                   35.669687,139.767254      poi_9560   \n...         ...                                    ...           ...   \n351982    cat_0    35.69137390901421,139.6993589401245      poi_8295   \n351983    cat_0   35.69080269423021,139.70027922656513      poi_8024   \n351984    cat_0     35.6895798775885,139.7000147227295      poi_8029   \n351985    cat_0   35.69080269423021,139.70027922656513      poi_8024   \n351986    cat_0   35.68914210525224,139.70000973651244      poi_8029   \n\n       check_in_poi_id    poi_type  norm_in_day_time  \n0            poi_11421  collective          0.375000  \n1            poi_11486  collective          0.395833  \n2                poi_0  individual          0.395833  \n3                poi_0  individual          0.437500  \n4            poi_11486  collective          0.666667  \n...                ...         ...               ...  \n351982       poi_11428  collective          0.416667  \n351983       poi_11428  collective          0.729167  \n351984       poi_11428  collective          0.729167  \n351985       poi_11428  collective          0.416667  \n351986       poi_11428  collective          0.729167  \n\n[351987 rows x 16 columns]",
      "text/html": "<div>\n<style scoped>\n    .dataframe tbody tr th:only-of-type {\n        vertical-align: middle;\n    }\n\n    .dataframe tbody tr th {\n        vertical-align: top;\n    }\n\n    .dataframe thead th {\n        text-align: right;\n    }\n</style>\n<table border=\"1\" class=\"dataframe\">\n  <thead>\n    <tr style=\"text-align: right;\">\n      <th></th>\n      <th>user_id</th>\n      <th>business_id</th>\n      <th>cat_id</th>\n      <th>cat_name</th>\n      <th>latitude</th>\n      <th>longitude</th>\n      <th>zone_offset</th>\n      <th>utc_time</th>\n      <th>local_time</th>\n      <th>trajectory_id</th>\n      <th>cat_code</th>\n      <th>lat_lon</th>\n      <th>actual_poi_id</th>\n      <th>check_in_poi_id</th>\n      <th>poi_type</th>\n      <th>norm_in_day_time</th>\n    </tr>\n  </thead>\n  <tbody>\n    <tr>\n      <th>0</th>\n      <td>user_1</td>\n      <td>4b396b34f964a5204f5c25e3</td>\n      <td>4bf58dd8d48988d129951735</td>\n      <td>Train Station</td>\n      <td>35.74964694346383</td>\n      <td>139.80514526367188</td>\n      <td>540</td>\n      <td>2012-04-07 23:33:08+00:00</td>\n      <td>2012-04-08 08:33:08+00:00</td>\n      <td>user_1@1</td>\n      <td>cat_0</td>\n      <td>35.74964694346383,139.80514526367188</td>\n      <td>poi_7311</td>\n      <td>poi_11421</td>\n      <td>collective</td>\n      <td>0.375000</td>\n    </tr>\n    <tr>\n      <th>1</th>\n      <td>user_1</td>\n      <td>4b305a74f964a5201ef924e3</td>\n      <td>4bf58dd8d48988d1fd931735</td>\n      <td>Subway</td>\n      <td>35.669687</td>\n      <td>139.767254</td>\n      <td>540</td>\n      <td>2012-04-08 00:03:35+00:00</td>\n      <td>2012-04-08 09:03:35+00:00</td>\n      <td>user_1@1</td>\n      <td>cat_1</td>\n      <td>35.669687,139.767254</td>\n      <td>poi_9560</td>\n      <td>poi_11486</td>\n      <td>collective</td>\n      <td>0.395833</td>\n    </tr>\n    <tr>\n      <th>2</th>\n      <td>user_1</td>\n      <td>4b835f06f964a520330431e3</td>\n      <td>4bf58dd8d48988d1ff931735</td>\n      <td>Convention Center</td>\n      <td>35.668087628929534</td>\n      <td>139.76731538772583</td>\n      <td>540</td>\n      <td>2012-04-08 00:10:48+00:00</td>\n      <td>2012-04-08 09:10:48+00:00</td>\n      <td>user_1@1</td>\n      <td>cat_2</td>\n      <td>35.668087628929534,139.76731538772583</td>\n      <td>poi_0</td>\n      <td>poi_0</td>\n      <td>individual</td>\n      <td>0.395833</td>\n    </tr>\n    <tr>\n      <th>3</th>\n      <td>user_1</td>\n      <td>4b835f06f964a520330431e3</td>\n      <td>4bf58dd8d48988d1ff931735</td>\n      <td>Convention Center</td>\n      <td>35.668087628929534</td>\n      <td>139.76731538772583</td>\n      <td>540</td>\n      <td>2012-04-08 01:18:21+00:00</td>\n      <td>2012-04-08 10:18:21+00:00</td>\n      <td>user_1@1</td>\n      <td>cat_2</td>\n      <td>35.668087628929534,139.76731538772583</td>\n      <td>poi_0</td>\n      <td>poi_0</td>\n      <td>individual</td>\n      <td>0.437500</td>\n    </tr>\n    <tr>\n      <th>4</th>\n      <td>user_1</td>\n      <td>4b305a74f964a5201ef924e3</td>\n      <td>4bf58dd8d48988d1fd931735</td>\n      <td>Subway</td>\n      <td>35.669687</td>\n      <td>139.767254</td>\n      <td>540</td>\n      <td>2012-04-08 06:41:07+00:00</td>\n      <td>2012-04-08 15:41:07+00:00</td>\n      <td>user_1@1</td>\n      <td>cat_1</td>\n      <td>35.669687,139.767254</td>\n      <td>poi_9560</td>\n      <td>poi_11486</td>\n      <td>collective</td>\n      <td>0.666667</td>\n    </tr>\n    <tr>\n      <th>...</th>\n      <td>...</td>\n      <td>...</td>\n      <td>...</td>\n      <td>...</td>\n      <td>...</td>\n      <td>...</td>\n      <td>...</td>\n      <td>...</td>\n      <td>...</td>\n      <td>...</td>\n      <td>...</td>\n      <td>...</td>\n      <td>...</td>\n      <td>...</td>\n      <td>...</td>\n      <td>...</td>\n    </tr>\n    <tr>\n      <th>351982</th>\n      <td>user_999</td>\n      <td>4b9779f5f964a5203e0535e3</td>\n      <td>4bf58dd8d48988d129951735</td>\n      <td>Train Station</td>\n      <td>35.69137390901421</td>\n      <td>139.6993589401245</td>\n      <td>540</td>\n      <td>2013-02-08 00:31:55+00:00</td>\n      <td>2013-02-08 09:31:55+00:00</td>\n      <td>user_999@20</td>\n      <td>cat_0</td>\n      <td>35.69137390901421,139.6993589401245</td>\n      <td>poi_8295</td>\n      <td>poi_11428</td>\n      <td>collective</td>\n      <td>0.416667</td>\n    </tr>\n    <tr>\n      <th>351983</th>\n      <td>user_999</td>\n      <td>4b0587a6f964a5203d9e22e3</td>\n      <td>4bf58dd8d48988d129951735</td>\n      <td>Train Station</td>\n      <td>35.69080269423021</td>\n      <td>139.70027922656513</td>\n      <td>540</td>\n      <td>2013-02-12 08:17:09+00:00</td>\n      <td>2013-02-12 17:17:09+00:00</td>\n      <td>user_999@21</td>\n      <td>cat_0</td>\n      <td>35.69080269423021,139.70027922656513</td>\n      <td>poi_8024</td>\n      <td>poi_11428</td>\n      <td>collective</td>\n      <td>0.729167</td>\n    </tr>\n    <tr>\n      <th>351984</th>\n      <td>user_999</td>\n      <td>4b5ecbf5f964a520fd9829e3</td>\n      <td>4bf58dd8d48988d129951735</td>\n      <td>Train Station</td>\n      <td>35.68896262757877</td>\n      <td>139.70000973651244</td>\n      <td>540</td>\n      <td>2013-02-12 08:19:24+00:00</td>\n      <td>2013-02-12 17:19:24+00:00</td>\n      <td>user_999@21</td>\n      <td>cat_0</td>\n      <td>35.6895798775885,139.7000147227295</td>\n      <td>poi_8029</td>\n      <td>poi_11428</td>\n      <td>collective</td>\n      <td>0.729167</td>\n    </tr>\n    <tr>\n      <th>351985</th>\n      <td>user_999</td>\n      <td>4b0587a6f964a5203d9e22e3</td>\n      <td>4bf58dd8d48988d129951735</td>\n      <td>Train Station</td>\n      <td>35.69080269423021</td>\n      <td>139.70027922656513</td>\n      <td>540</td>\n      <td>2013-02-13 00:35:26+00:00</td>\n      <td>2013-02-13 09:35:26+00:00</td>\n      <td>user_999@21</td>\n      <td>cat_0</td>\n      <td>35.69080269423021,139.70027922656513</td>\n      <td>poi_8024</td>\n      <td>poi_11428</td>\n      <td>collective</td>\n      <td>0.416667</td>\n    </tr>\n    <tr>\n      <th>351986</th>\n      <td>user_999</td>\n      <td>4b5ecbf5f964a520fd9829e3</td>\n      <td>4bf58dd8d48988d129951735</td>\n      <td>Train Station</td>\n      <td>35.68896262757877</td>\n      <td>139.70000973651244</td>\n      <td>540</td>\n      <td>2013-02-13 08:03:16+00:00</td>\n      <td>2013-02-13 17:03:16+00:00</td>\n      <td>user_999@21</td>\n      <td>cat_0</td>\n      <td>35.68914210525224,139.70000973651244</td>\n      <td>poi_8029</td>\n      <td>poi_11428</td>\n      <td>collective</td>\n      <td>0.729167</td>\n    </tr>\n  </tbody>\n</table>\n<p>351987 rows × 16 columns</p>\n</div>"
     },
     "execution_count": 28,
     "metadata": {},
     "output_type": "execute_result"
    }
   ],
   "source": [
    "p5"
   ],
   "metadata": {
    "collapsed": false
   }
  },
  {
   "cell_type": "code",
   "execution_count": 29,
   "outputs": [
    {
     "data": {
      "text/plain": "         user_id    poi_type actual_poi_id check_in_poi_id  \\\n0         user_1  collective      poi_7311       poi_11421   \n1         user_1  collective      poi_9560       poi_11486   \n2         user_1  individual         poi_0           poi_0   \n3         user_1  individual         poi_0           poi_0   \n4         user_1  collective      poi_9560       poi_11486   \n...          ...         ...           ...             ...   \n351982  user_999  collective      poi_8295       poi_11428   \n351983  user_999  collective      poi_8024       poi_11428   \n351984  user_999  collective      poi_8029       poi_11428   \n351985  user_999  collective      poi_8024       poi_11428   \n351986  user_999  collective      poi_8029       poi_11428   \n\n                      local_time  norm_in_day_time           cat_name  \\\n0      2012-04-08 08:33:08+00:00          0.375000      Train Station   \n1      2012-04-08 09:03:35+00:00          0.395833             Subway   \n2      2012-04-08 09:10:48+00:00          0.395833  Convention Center   \n3      2012-04-08 10:18:21+00:00          0.437500  Convention Center   \n4      2012-04-08 15:41:07+00:00          0.666667             Subway   \n...                          ...               ...                ...   \n351982 2013-02-08 09:31:55+00:00          0.416667      Train Station   \n351983 2013-02-12 17:17:09+00:00          0.729167      Train Station   \n351984 2013-02-12 17:19:24+00:00          0.729167      Train Station   \n351985 2013-02-13 09:35:26+00:00          0.416667      Train Station   \n351986 2013-02-13 17:03:16+00:00          0.729167      Train Station   \n\n       cat_code trajectory_id            latitude           longitude  \n0         cat_0      user_1@1   35.74964694346383  139.80514526367188  \n1         cat_1      user_1@1           35.669687          139.767254  \n2         cat_2      user_1@1  35.668087628929534  139.76731538772583  \n3         cat_2      user_1@1  35.668087628929534  139.76731538772583  \n4         cat_1      user_1@1           35.669687          139.767254  \n...         ...           ...                 ...                 ...  \n351982    cat_0   user_999@20   35.69137390901421   139.6993589401245  \n351983    cat_0   user_999@21   35.69080269423021  139.70027922656513  \n351984    cat_0   user_999@21   35.68896262757877  139.70000973651244  \n351985    cat_0   user_999@21   35.69080269423021  139.70027922656513  \n351986    cat_0   user_999@21   35.68896262757877  139.70000973651244  \n\n[351987 rows x 11 columns]",
      "text/html": "<div>\n<style scoped>\n    .dataframe tbody tr th:only-of-type {\n        vertical-align: middle;\n    }\n\n    .dataframe tbody tr th {\n        vertical-align: top;\n    }\n\n    .dataframe thead th {\n        text-align: right;\n    }\n</style>\n<table border=\"1\" class=\"dataframe\">\n  <thead>\n    <tr style=\"text-align: right;\">\n      <th></th>\n      <th>user_id</th>\n      <th>poi_type</th>\n      <th>actual_poi_id</th>\n      <th>check_in_poi_id</th>\n      <th>local_time</th>\n      <th>norm_in_day_time</th>\n      <th>cat_name</th>\n      <th>cat_code</th>\n      <th>trajectory_id</th>\n      <th>latitude</th>\n      <th>longitude</th>\n    </tr>\n  </thead>\n  <tbody>\n    <tr>\n      <th>0</th>\n      <td>user_1</td>\n      <td>collective</td>\n      <td>poi_7311</td>\n      <td>poi_11421</td>\n      <td>2012-04-08 08:33:08+00:00</td>\n      <td>0.375000</td>\n      <td>Train Station</td>\n      <td>cat_0</td>\n      <td>user_1@1</td>\n      <td>35.74964694346383</td>\n      <td>139.80514526367188</td>\n    </tr>\n    <tr>\n      <th>1</th>\n      <td>user_1</td>\n      <td>collective</td>\n      <td>poi_9560</td>\n      <td>poi_11486</td>\n      <td>2012-04-08 09:03:35+00:00</td>\n      <td>0.395833</td>\n      <td>Subway</td>\n      <td>cat_1</td>\n      <td>user_1@1</td>\n      <td>35.669687</td>\n      <td>139.767254</td>\n    </tr>\n    <tr>\n      <th>2</th>\n      <td>user_1</td>\n      <td>individual</td>\n      <td>poi_0</td>\n      <td>poi_0</td>\n      <td>2012-04-08 09:10:48+00:00</td>\n      <td>0.395833</td>\n      <td>Convention Center</td>\n      <td>cat_2</td>\n      <td>user_1@1</td>\n      <td>35.668087628929534</td>\n      <td>139.76731538772583</td>\n    </tr>\n    <tr>\n      <th>3</th>\n      <td>user_1</td>\n      <td>individual</td>\n      <td>poi_0</td>\n      <td>poi_0</td>\n      <td>2012-04-08 10:18:21+00:00</td>\n      <td>0.437500</td>\n      <td>Convention Center</td>\n      <td>cat_2</td>\n      <td>user_1@1</td>\n      <td>35.668087628929534</td>\n      <td>139.76731538772583</td>\n    </tr>\n    <tr>\n      <th>4</th>\n      <td>user_1</td>\n      <td>collective</td>\n      <td>poi_9560</td>\n      <td>poi_11486</td>\n      <td>2012-04-08 15:41:07+00:00</td>\n      <td>0.666667</td>\n      <td>Subway</td>\n      <td>cat_1</td>\n      <td>user_1@1</td>\n      <td>35.669687</td>\n      <td>139.767254</td>\n    </tr>\n    <tr>\n      <th>...</th>\n      <td>...</td>\n      <td>...</td>\n      <td>...</td>\n      <td>...</td>\n      <td>...</td>\n      <td>...</td>\n      <td>...</td>\n      <td>...</td>\n      <td>...</td>\n      <td>...</td>\n      <td>...</td>\n    </tr>\n    <tr>\n      <th>351982</th>\n      <td>user_999</td>\n      <td>collective</td>\n      <td>poi_8295</td>\n      <td>poi_11428</td>\n      <td>2013-02-08 09:31:55+00:00</td>\n      <td>0.416667</td>\n      <td>Train Station</td>\n      <td>cat_0</td>\n      <td>user_999@20</td>\n      <td>35.69137390901421</td>\n      <td>139.6993589401245</td>\n    </tr>\n    <tr>\n      <th>351983</th>\n      <td>user_999</td>\n      <td>collective</td>\n      <td>poi_8024</td>\n      <td>poi_11428</td>\n      <td>2013-02-12 17:17:09+00:00</td>\n      <td>0.729167</td>\n      <td>Train Station</td>\n      <td>cat_0</td>\n      <td>user_999@21</td>\n      <td>35.69080269423021</td>\n      <td>139.70027922656513</td>\n    </tr>\n    <tr>\n      <th>351984</th>\n      <td>user_999</td>\n      <td>collective</td>\n      <td>poi_8029</td>\n      <td>poi_11428</td>\n      <td>2013-02-12 17:19:24+00:00</td>\n      <td>0.729167</td>\n      <td>Train Station</td>\n      <td>cat_0</td>\n      <td>user_999@21</td>\n      <td>35.68896262757877</td>\n      <td>139.70000973651244</td>\n    </tr>\n    <tr>\n      <th>351985</th>\n      <td>user_999</td>\n      <td>collective</td>\n      <td>poi_8024</td>\n      <td>poi_11428</td>\n      <td>2013-02-13 09:35:26+00:00</td>\n      <td>0.416667</td>\n      <td>Train Station</td>\n      <td>cat_0</td>\n      <td>user_999@21</td>\n      <td>35.69080269423021</td>\n      <td>139.70027922656513</td>\n    </tr>\n    <tr>\n      <th>351986</th>\n      <td>user_999</td>\n      <td>collective</td>\n      <td>poi_8029</td>\n      <td>poi_11428</td>\n      <td>2013-02-13 17:03:16+00:00</td>\n      <td>0.729167</td>\n      <td>Train Station</td>\n      <td>cat_0</td>\n      <td>user_999@21</td>\n      <td>35.68896262757877</td>\n      <td>139.70000973651244</td>\n    </tr>\n  </tbody>\n</table>\n<p>351987 rows × 11 columns</p>\n</div>"
     },
     "execution_count": 29,
     "metadata": {},
     "output_type": "execute_result"
    }
   ],
   "source": [
    "p5 = p5[['user_id', 'poi_type',  'actual_poi_id', 'check_in_poi_id', 'local_time', 'norm_in_day_time', 'cat_name','cat_code', 'trajectory_id','latitude','longitude']]\n",
    "p5"
   ],
   "metadata": {
    "collapsed": false
   }
  },
  {
   "cell_type": "code",
   "execution_count": 30,
   "outputs": [],
   "source": [
    "p5.to_csv('out/TKY/checkins_v1.csv', index=False)"
   ],
   "metadata": {
    "collapsed": false
   }
  },
  {
   "cell_type": "code",
   "execution_count": 37,
   "outputs": [
    {
     "data": {
      "text/plain": "Empty DataFrame\nColumns: []\nIndex: []",
      "text/html": "<div>\n<style scoped>\n    .dataframe tbody tr th:only-of-type {\n        vertical-align: middle;\n    }\n\n    .dataframe tbody tr th {\n        vertical-align: top;\n    }\n\n    .dataframe thead th {\n        text-align: right;\n    }\n</style>\n<table border=\"1\" class=\"dataframe\">\n  <thead>\n    <tr style=\"text-align: right;\">\n      <th></th>\n    </tr>\n  </thead>\n  <tbody>\n  </tbody>\n</table>\n</div>"
     },
     "execution_count": 37,
     "metadata": {},
     "output_type": "execute_result"
    }
   ],
   "source": [
    "# import collections\n",
    "#\n",
    "# cat_distribution = {}\n",
    "#\n",
    "#\n",
    "# def cal_cat_distribution(df):\n",
    "#     global cat_distribution\n",
    "#     all_categories = df.drop_duplicates(subset=['actual_poi_id', 'cat_code'])  # 该集合POI中的各个POI的类别\n",
    "#     counter = collections.Counter(all_categories['cat_code'])\n",
    "#     cat_distribution[df['actual_poi_id'].iloc[0]] = counter\n",
    "#\n",
    "#\n",
    "# collective = p5[p5['poi_type'] == 'collective']  # 所有的集合POI签到记录\n",
    "# collective.groupby('check_in_poi_id', group_keys=False).apply(lambda x: cal_cat_distribution(x))"
   ],
   "metadata": {
    "collapsed": false
   }
  },
  {
   "cell_type": "code",
   "execution_count": 38,
   "outputs": [
    {
     "data": {
      "text/plain": "{6884: Counter({8: 1,\n          10: 1,\n          89: 1,\n          31: 1,\n          118: 1,\n          151: 1,\n          107: 1,\n          36: 1,\n          170: 1,\n          12: 1,\n          15: 1,\n          96: 1,\n          53: 1,\n          106: 1,\n          163: 1,\n          176: 1}),\n 6900: Counter({40: 1,\n          61: 1,\n          33: 1,\n          12: 1,\n          16: 1,\n          35: 1,\n          81: 1,\n          133: 1,\n          7: 1,\n          158: 1,\n          31: 1,\n          3: 1,\n          8: 1,\n          118: 1}),\n 6914: Counter({82: 2,\n          58: 4,\n          172: 1,\n          146: 2,\n          24: 1,\n          4: 1,\n          27: 1,\n          0: 1,\n          131: 2,\n          295: 4,\n          205: 1,\n          291: 1,\n          157: 1,\n          32: 1,\n          54: 1,\n          3: 1,\n          128: 1}),\n 6938: Counter({7: 1,\n          143: 1,\n          25: 1,\n          107: 2,\n          185: 1,\n          151: 1,\n          228: 1,\n          264: 1,\n          243: 1,\n          161: 1,\n          30: 1,\n          110: 1,\n          137: 1,\n          47: 1,\n          176: 1}),\n 6954: Counter({63: 1,\n          25: 1,\n          32: 1,\n          30: 1,\n          59: 1,\n          20: 1,\n          212: 1,\n          116: 1,\n          48: 1,\n          68: 1}),\n 6964: Counter({37: 1,\n          59: 1,\n          67: 1,\n          3: 1,\n          31: 1,\n          68: 1,\n          193: 1,\n          62: 1,\n          194: 1,\n          89: 1,\n          64: 1,\n          55: 1,\n          118: 1,\n          128: 1,\n          69: 1}),\n 6979: Counter({37: 1,\n          67: 1,\n          125: 1,\n          31: 1,\n          59: 2,\n          45: 1,\n          70: 1,\n          54: 1,\n          88: 1,\n          55: 1}),\n 6989: Counter({143: 3, 7: 2, 20: 1, 110: 5, 82: 1, 137: 1}),\n 7002: Counter({12: 2, 121: 1, 15: 2, 4: 1, 152: 1, 27: 1, 31: 1, 87: 1}),\n 7012: Counter({10: 4,\n          219: 1,\n          24: 1,\n          189: 1,\n          25: 1,\n          58: 1,\n          140: 1,\n          31: 1,\n          46: 1,\n          32: 1,\n          115: 1}),\n 7024: Counter({58: 5, 212: 1, 57: 1, 213: 1, 166: 1, 100: 4, 214: 1, 23: 1}),\n 7039: Counter({27: 1,\n          221: 1,\n          55: 1,\n          69: 1,\n          128: 1,\n          47: 1,\n          31: 1,\n          59: 1,\n          9: 1,\n          15: 1,\n          134: 1,\n          64: 1,\n          228: 1}),\n 7052: Counter({58: 2,\n          3: 1,\n          161: 1,\n          10: 2,\n          31: 1,\n          233: 1,\n          45: 1,\n          55: 1,\n          100: 1,\n          166: 1}),\n 7064: Counter({80: 1, 4: 6, 85: 1, 180: 1, 122: 1, 226: 1}),\n 7075: Counter({227: 1,\n          118: 3,\n          235: 1,\n          136: 1,\n          13: 1,\n          133: 1,\n          5: 1,\n          74: 2,\n          16: 1,\n          179: 1,\n          0: 1,\n          226: 1,\n          181: 1,\n          95: 1,\n          58: 2,\n          197: 1,\n          180: 1,\n          32: 1,\n          92: 1}),\n 7098: Counter({36: 1,\n          189: 1,\n          166: 2,\n          137: 1,\n          31: 1,\n          41: 1,\n          3: 1,\n          58: 3,\n          151: 1,\n          256: 1}),\n 7110: Counter({30: 2,\n          19: 1,\n          256: 1,\n          118: 2,\n          31: 1,\n          63: 1,\n          44: 1,\n          32: 1,\n          62: 1,\n          191: 1}),\n 7122: Counter({76: 3,\n          161: 1,\n          38: 1,\n          197: 4,\n          129: 2,\n          101: 1,\n          23: 1,\n          64: 1,\n          78: 1,\n          75: 1,\n          117: 1,\n          18: 1,\n          25: 2,\n          11: 1,\n          55: 1}),\n 7143: Counter({37: 2, 10: 1, 44: 1, 58: 2, 163: 1, 59: 1, 158: 1, 340: 1}),\n 7153: Counter({2: 2,\n          53: 1,\n          46: 1,\n          67: 1,\n          43: 1,\n          210: 2,\n          180: 1,\n          106: 1,\n          20: 1,\n          225: 1,\n          55: 1}),\n 7164: Counter({62: 3, 108: 1, 20: 1, 59: 1, 138: 1, 46: 1, 58: 1, 184: 1})}"
     },
     "execution_count": 38,
     "metadata": {},
     "output_type": "execute_result"
    }
   ],
   "source": [
    "cat_distribution"
   ],
   "metadata": {
    "collapsed": false
   }
  },
  {
   "cell_type": "code",
   "execution_count": 34,
   "outputs": [
    {
     "data": {
      "text/plain": "       user_id               business_id                    cat_id  \\\n16          10  49e34b16f964a5206f621fe3  4bf58dd8d48988d1f2941735   \n17          10  4a523c9df964a5206cb11fe3  4bf58dd8d48988d1c5941735   \n168        100  49b79f54f964a5202c531fe3  4bf58dd8d48988d164941735   \n183        100  41390580f964a520dc1a1fe3  4bf58dd8d48988d1fa941735   \n215       1000  40afe980f964a5203bf31ee3  4bf58dd8d48988d180941735   \n...        ...                       ...                       ...   \n100823     998  49b79f54f964a5202c531fe3  4bf58dd8d48988d164941735   \n100825     998  49b79f54f964a5202c531fe3  4bf58dd8d48988d164941735   \n100839     999  43c922c9f964a520972d1fe3  4bf58dd8d48988d1fd941735   \n100844     999  49ff53e6f964a5200c701fe3  4bf58dd8d48988d176941735   \n100866     999  40bbc700f964a520a2001fe3  4bf58dd8d48988d113941735   \n\n                    cat_name            latitude           longitude  \\\n16       Sporting Goods Shop   40.73753501383214  -73.99030208587646   \n17            Sandwich Place  40.737106477651764  -73.99032307563172   \n168                    Plaza   40.75868265304899  -73.97867843935826   \n183        Food & Drink Shop   40.74193085348367  -74.00498547371578   \n215            Movie Theater  40.757031390907855  -73.98902607371383   \n...                      ...                 ...                 ...   \n100823                 Plaza   40.75868265304899  -73.97867843935826   \n100825                 Plaza   40.75868265304899  -73.97867843935826   \n100839                  Mall   40.76792357432163  -73.98194432258606   \n100844  Gym / Fitness Center   40.77920900596156   -73.9551287537907   \n100866     Korean Restaurant   40.74790144316556  -73.98689116651354   \n\n       zone_offset                  utc_time                local_time  \\\n16            -240 2012-07-04 19:51:07+00:00 2012-07-04 15:51:07+00:00   \n17            -240 2012-07-04 22:07:48+00:00 2012-07-04 18:07:48+00:00   \n168           -240 2012-05-05 01:59:46+00:00 2012-05-04 21:59:46+00:00   \n183           -240 2012-05-09 15:44:07+00:00 2012-05-09 11:44:07+00:00   \n215           -240 2012-05-03 14:45:21+00:00 2012-05-03 10:45:21+00:00   \n...            ...                       ...                       ...   \n100823        -300 2013-02-01 20:31:19+00:00 2013-02-01 15:31:19+00:00   \n100825        -300 2013-02-07 15:04:15+00:00 2013-02-07 10:04:15+00:00   \n100839        -240 2012-05-16 21:14:00+00:00 2012-05-16 17:14:00+00:00   \n100844        -240 2012-07-02 23:34:50+00:00 2012-07-02 19:34:50+00:00   \n100866        -300 2013-01-09 17:43:19+00:00 2013-01-09 12:43:19+00:00   \n\n       trajectory_id  cat_code                                lat_lon  \\\n16             10@28         8   40.73753501383214,-73.99030208587646   \n17             10@28        10  40.737106477651764,-73.99032307563172   \n168           100@22        30  40.758669195135035,-73.97859808949039   \n183           100@25        36    40.7420803919755,-74.00510598192578   \n215           1000@6        40    40.7569743825982,-73.98877355904663   \n...              ...       ...                                    ...   \n100823        998@20        30  40.758732719752736,-73.97859808949039   \n100825        998@22        30  40.758732719752736,-73.97859808949039   \n100839        999@12        63   40.76792357432163,-73.98194432258606   \n100844        999@15        37    40.77904848612385,-73.9548647146921   \n100866        999@28       110   40.74790144316556,-73.98689116651354   \n\n        actual_poi_id  check_in_poi_id    poi_type  \n16               6884             7174  collective  \n17               6885             7174  collective  \n168              7110             7190  collective  \n183              7098             7189  collective  \n215              6900             7175  collective  \n...               ...              ...         ...  \n100823           7110             7190  collective  \n100825           7110             7190  collective  \n100839           6954             7178  collective  \n100844           6964             7179  collective  \n100866           6994             7181  collective  \n\n[6687 rows x 15 columns]",
      "text/html": "<div>\n<style scoped>\n    .dataframe tbody tr th:only-of-type {\n        vertical-align: middle;\n    }\n\n    .dataframe tbody tr th {\n        vertical-align: top;\n    }\n\n    .dataframe thead th {\n        text-align: right;\n    }\n</style>\n<table border=\"1\" class=\"dataframe\">\n  <thead>\n    <tr style=\"text-align: right;\">\n      <th></th>\n      <th>user_id</th>\n      <th>business_id</th>\n      <th>cat_id</th>\n      <th>cat_name</th>\n      <th>latitude</th>\n      <th>longitude</th>\n      <th>zone_offset</th>\n      <th>utc_time</th>\n      <th>local_time</th>\n      <th>trajectory_id</th>\n      <th>cat_code</th>\n      <th>lat_lon</th>\n      <th>actual_poi_id</th>\n      <th>check_in_poi_id</th>\n      <th>poi_type</th>\n    </tr>\n  </thead>\n  <tbody>\n    <tr>\n      <th>16</th>\n      <td>10</td>\n      <td>49e34b16f964a5206f621fe3</td>\n      <td>4bf58dd8d48988d1f2941735</td>\n      <td>Sporting Goods Shop</td>\n      <td>40.73753501383214</td>\n      <td>-73.99030208587646</td>\n      <td>-240</td>\n      <td>2012-07-04 19:51:07+00:00</td>\n      <td>2012-07-04 15:51:07+00:00</td>\n      <td>10@28</td>\n      <td>8</td>\n      <td>40.73753501383214,-73.99030208587646</td>\n      <td>6884</td>\n      <td>7174</td>\n      <td>collective</td>\n    </tr>\n    <tr>\n      <th>17</th>\n      <td>10</td>\n      <td>4a523c9df964a5206cb11fe3</td>\n      <td>4bf58dd8d48988d1c5941735</td>\n      <td>Sandwich Place</td>\n      <td>40.737106477651764</td>\n      <td>-73.99032307563172</td>\n      <td>-240</td>\n      <td>2012-07-04 22:07:48+00:00</td>\n      <td>2012-07-04 18:07:48+00:00</td>\n      <td>10@28</td>\n      <td>10</td>\n      <td>40.737106477651764,-73.99032307563172</td>\n      <td>6885</td>\n      <td>7174</td>\n      <td>collective</td>\n    </tr>\n    <tr>\n      <th>168</th>\n      <td>100</td>\n      <td>49b79f54f964a5202c531fe3</td>\n      <td>4bf58dd8d48988d164941735</td>\n      <td>Plaza</td>\n      <td>40.75868265304899</td>\n      <td>-73.97867843935826</td>\n      <td>-240</td>\n      <td>2012-05-05 01:59:46+00:00</td>\n      <td>2012-05-04 21:59:46+00:00</td>\n      <td>100@22</td>\n      <td>30</td>\n      <td>40.758669195135035,-73.97859808949039</td>\n      <td>7110</td>\n      <td>7190</td>\n      <td>collective</td>\n    </tr>\n    <tr>\n      <th>183</th>\n      <td>100</td>\n      <td>41390580f964a520dc1a1fe3</td>\n      <td>4bf58dd8d48988d1fa941735</td>\n      <td>Food &amp; Drink Shop</td>\n      <td>40.74193085348367</td>\n      <td>-74.00498547371578</td>\n      <td>-240</td>\n      <td>2012-05-09 15:44:07+00:00</td>\n      <td>2012-05-09 11:44:07+00:00</td>\n      <td>100@25</td>\n      <td>36</td>\n      <td>40.7420803919755,-74.00510598192578</td>\n      <td>7098</td>\n      <td>7189</td>\n      <td>collective</td>\n    </tr>\n    <tr>\n      <th>215</th>\n      <td>1000</td>\n      <td>40afe980f964a5203bf31ee3</td>\n      <td>4bf58dd8d48988d180941735</td>\n      <td>Movie Theater</td>\n      <td>40.757031390907855</td>\n      <td>-73.98902607371383</td>\n      <td>-240</td>\n      <td>2012-05-03 14:45:21+00:00</td>\n      <td>2012-05-03 10:45:21+00:00</td>\n      <td>1000@6</td>\n      <td>40</td>\n      <td>40.7569743825982,-73.98877355904663</td>\n      <td>6900</td>\n      <td>7175</td>\n      <td>collective</td>\n    </tr>\n    <tr>\n      <th>...</th>\n      <td>...</td>\n      <td>...</td>\n      <td>...</td>\n      <td>...</td>\n      <td>...</td>\n      <td>...</td>\n      <td>...</td>\n      <td>...</td>\n      <td>...</td>\n      <td>...</td>\n      <td>...</td>\n      <td>...</td>\n      <td>...</td>\n      <td>...</td>\n      <td>...</td>\n    </tr>\n    <tr>\n      <th>100823</th>\n      <td>998</td>\n      <td>49b79f54f964a5202c531fe3</td>\n      <td>4bf58dd8d48988d164941735</td>\n      <td>Plaza</td>\n      <td>40.75868265304899</td>\n      <td>-73.97867843935826</td>\n      <td>-300</td>\n      <td>2013-02-01 20:31:19+00:00</td>\n      <td>2013-02-01 15:31:19+00:00</td>\n      <td>998@20</td>\n      <td>30</td>\n      <td>40.758732719752736,-73.97859808949039</td>\n      <td>7110</td>\n      <td>7190</td>\n      <td>collective</td>\n    </tr>\n    <tr>\n      <th>100825</th>\n      <td>998</td>\n      <td>49b79f54f964a5202c531fe3</td>\n      <td>4bf58dd8d48988d164941735</td>\n      <td>Plaza</td>\n      <td>40.75868265304899</td>\n      <td>-73.97867843935826</td>\n      <td>-300</td>\n      <td>2013-02-07 15:04:15+00:00</td>\n      <td>2013-02-07 10:04:15+00:00</td>\n      <td>998@22</td>\n      <td>30</td>\n      <td>40.758732719752736,-73.97859808949039</td>\n      <td>7110</td>\n      <td>7190</td>\n      <td>collective</td>\n    </tr>\n    <tr>\n      <th>100839</th>\n      <td>999</td>\n      <td>43c922c9f964a520972d1fe3</td>\n      <td>4bf58dd8d48988d1fd941735</td>\n      <td>Mall</td>\n      <td>40.76792357432163</td>\n      <td>-73.98194432258606</td>\n      <td>-240</td>\n      <td>2012-05-16 21:14:00+00:00</td>\n      <td>2012-05-16 17:14:00+00:00</td>\n      <td>999@12</td>\n      <td>63</td>\n      <td>40.76792357432163,-73.98194432258606</td>\n      <td>6954</td>\n      <td>7178</td>\n      <td>collective</td>\n    </tr>\n    <tr>\n      <th>100844</th>\n      <td>999</td>\n      <td>49ff53e6f964a5200c701fe3</td>\n      <td>4bf58dd8d48988d176941735</td>\n      <td>Gym / Fitness Center</td>\n      <td>40.77920900596156</td>\n      <td>-73.9551287537907</td>\n      <td>-240</td>\n      <td>2012-07-02 23:34:50+00:00</td>\n      <td>2012-07-02 19:34:50+00:00</td>\n      <td>999@15</td>\n      <td>37</td>\n      <td>40.77904848612385,-73.9548647146921</td>\n      <td>6964</td>\n      <td>7179</td>\n      <td>collective</td>\n    </tr>\n    <tr>\n      <th>100866</th>\n      <td>999</td>\n      <td>40bbc700f964a520a2001fe3</td>\n      <td>4bf58dd8d48988d113941735</td>\n      <td>Korean Restaurant</td>\n      <td>40.74790144316556</td>\n      <td>-73.98689116651354</td>\n      <td>-300</td>\n      <td>2013-01-09 17:43:19+00:00</td>\n      <td>2013-01-09 12:43:19+00:00</td>\n      <td>999@28</td>\n      <td>110</td>\n      <td>40.74790144316556,-73.98689116651354</td>\n      <td>6994</td>\n      <td>7181</td>\n      <td>collective</td>\n    </tr>\n  </tbody>\n</table>\n<p>6687 rows × 15 columns</p>\n</div>"
     },
     "execution_count": 34,
     "metadata": {},
     "output_type": "execute_result"
    }
   ],
   "source": [
    "p5[p5['poi_type'] == 'collective']"
   ],
   "metadata": {
    "collapsed": false
   }
  },
  {
   "cell_type": "code",
   "execution_count": null,
   "outputs": [],
   "source": [],
   "metadata": {
    "collapsed": false
   }
  }
 ],
 "metadata": {
  "kernelspec": {
   "display_name": "Python 3",
   "language": "python",
   "name": "python3"
  },
  "language_info": {
   "codemirror_mode": {
    "name": "ipython",
    "version": 2
   },
   "file_extension": ".py",
   "mimetype": "text/x-python",
   "name": "python",
   "nbconvert_exporter": "python",
   "pygments_lexer": "ipython2",
   "version": "2.7.6"
  }
 },
 "nbformat": 4,
 "nbformat_minor": 0
}
